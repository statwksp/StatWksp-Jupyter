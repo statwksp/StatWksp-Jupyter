{
 "cells": [
  {
   "cell_type": "markdown",
   "metadata": {},
   "source": [
    "# Module 2: Summary Statistics"
   ]
  },
  {
   "cell_type": "markdown",
   "metadata": {},
   "source": [
    "In this module, we review how to import data to R from a \".csv\" file. We then discuss how to calculate some common summary statistics, and how to make boxplots."
   ]
  },
  {
   "cell_type": "markdown",
   "metadata": {},
   "source": [
    "## Entering Data Review: One Variable"
   ]
  },
  {
   "cell_type": "markdown",
   "metadata": {},
   "source": [
    "Before we can analyze a dataset, we have to import it to R. In this module, we will work mostly with the chocolate frosted sugar bombs dataset, or CFSB for short. In Module 1 we discussed in-depth about how to import this dataset to R, so we will just do a review here. For a more detailed refresher, check back to Module 1.\n",
    "\n",
    "Recall that we read data into R using the \"read.csv\" function. We set the \"file\" equal to the name of the file containing our dataset and use \"header\" to tell R whether the first row contains variable names or the first observation.\n",
    "\n",
    "Let's import the CFSB dataset to R using the \"read.csv()\" function and call our new data frame \"data.cfsb\"."
   ]
  },
  {
   "cell_type": "code",
   "execution_count": 1,
   "metadata": {
    "collapsed": true
   },
   "outputs": [],
   "source": [
    "data.cfsb = read.csv(file = \"CFSB.csv\")"
   ]
  },
  {
   "cell_type": "markdown",
   "metadata": {},
   "source": [
    "Let's also print out the first few observations to make sure they were read in properly. Remember that we do this using the \"head\" function."
   ]
  },
  {
   "cell_type": "code",
   "execution_count": 2,
   "metadata": {
    "collapsed": false
   },
   "outputs": [
    {
     "data": {
      "text/html": [
       "<table>\n",
       "<thead><tr><th></th><th scope=col>Weight</th></tr></thead>\n",
       "<tbody>\n",
       "\t<tr><th scope=row>1</th><td>20.44</td></tr>\n",
       "\t<tr><th scope=row>2</th><td>20.244</td></tr>\n",
       "\t<tr><th scope=row>3</th><td>20.549</td></tr>\n",
       "\t<tr><th scope=row>4</th><td>20.755</td></tr>\n",
       "\t<tr><th scope=row>5</th><td>20.74</td></tr>\n",
       "\t<tr><th scope=row>6</th><td>20.847</td></tr>\n",
       "</tbody>\n",
       "</table>\n"
      ],
      "text/latex": [
       "\\begin{tabular}{r|l}\n",
       "  & Weight\\\\\n",
       "\\hline\n",
       "\t1 & 20.44\\\\\n",
       "\t2 & 20.244\\\\\n",
       "\t3 & 20.549\\\\\n",
       "\t4 & 20.755\\\\\n",
       "\t5 & 20.74\\\\\n",
       "\t6 & 20.847\\\\\n",
       "\\end{tabular}\n"
      ],
      "text/plain": [
       "  Weight\n",
       "1 20.440\n",
       "2 20.244\n",
       "3 20.549\n",
       "4 20.755\n",
       "5 20.740\n",
       "6 20.847"
      ]
     },
     "metadata": {},
     "output_type": "display_data"
    }
   ],
   "source": [
    "head(data.cfsb)"
   ]
  },
  {
   "cell_type": "markdown",
   "metadata": {},
   "source": [
    "## Calculating Summary Statistics"
   ]
  },
  {
   "cell_type": "markdown",
   "metadata": {},
   "source": [
    "Now we discuss how to calculate common summary statistics, including the mean, median, quartiles, inter-quartile range and standard deviation. All of these summary statistics have corresponding functions in R that do the calculations for us. We will describe each of these functions using essentially the same format. We start by introducing the function, then describe how it is used, and finally give an example using the CFSB dataset. \n",
    "\n",
    "This repetitive format might be a little boring to read the first time, but will make it much easier to refer back to this section later (such as when you're doing your assignments). As a reward for making it through this section, at the end there will be a picture of a pig eating an ice-cream cone."
   ]
  },
  {
   "cell_type": "markdown",
   "metadata": {},
   "source": [
    "Important Tips: <br />\n",
    "$\\bullet$ In general, most functions that calculate something will automatically print their result, unless we give that result a name. This means that we do not need to use the \"print()\" function unless we save the result of a calculation with a name <br />\n",
    "$\\bullet$ We extract a variable from a data frame using \"\\$\". For example, we extract the \"Weight\" variable from the data frame \"data.cfsb\" by typing \"data.cfsb\\$Weight\" <br />\n",
    "$\\bullet$ In R, capital letters and small letters are distinct. This means that \"Weight\" and \"weight\" are different variables <br />\n",
    "$\\bullet$ If a function only has one input, then we do not need to specify the name of that input. For example, instead of \"read.csv(file = \"CFSB.csv\")\", we could write \"read.csv(\"CFSB.csv\")\""
   ]
  },
  {
   "cell_type": "markdown",
   "metadata": {},
   "source": [
    "### Mean"
   ]
  },
  {
   "cell_type": "markdown",
   "metadata": {},
   "source": [
    "The mean is one measure of the center of that dataset. It can be very informative, but is sensitive to outliers.\n",
    "\n",
    "We calculate the mean of a variable in R using the \"mean()\" function. The \"mean()\" function has one input, called \"x\". Recall that we do not need to write \"x=\" in the \"mean()\" function because \"mean()\" only has one input.\n",
    "\n",
    "Let's calculate the mean weight of cereal boxes in our sample using the \"mean()\" function."
   ]
  },
  {
   "cell_type": "code",
   "execution_count": 3,
   "metadata": {
    "collapsed": false,
    "scrolled": true
   },
   "outputs": [
    {
     "data": {
      "text/html": [
       "20.49194"
      ],
      "text/latex": [
       "20.49194"
      ],
      "text/markdown": [
       "20.49194"
      ],
      "text/plain": [
       "[1] 20.49194"
      ]
     },
     "metadata": {},
     "output_type": "display_data"
    }
   ],
   "source": [
    "mean(data.cfsb$Weight)"
   ]
  },
  {
   "cell_type": "markdown",
   "metadata": {},
   "source": [
    "### Median"
   ]
  },
  {
   "cell_type": "markdown",
   "metadata": {},
   "source": [
    "The median is another measure of the center of a dataset. It is resistant to outliers, so we say that it is a robust statistic.\n",
    "\n",
    "We calculate the median of a variable in R using the \"median()\" function. The \"median()\" function has one input, called \"x\".  \n",
    "\n",
    "Let's calculate the median weight of cereal boxes in our sample using the \"median()\" function."
   ]
  },
  {
   "cell_type": "code",
   "execution_count": 4,
   "metadata": {
    "collapsed": false
   },
   "outputs": [
    {
     "data": {
      "text/html": [
       "20.483"
      ],
      "text/latex": [
       "20.483"
      ],
      "text/markdown": [
       "20.483"
      ],
      "text/plain": [
       "[1] 20.483"
      ]
     },
     "metadata": {},
     "output_type": "display_data"
    }
   ],
   "source": [
    "median(data.cfsb$Weight)"
   ]
  },
  {
   "cell_type": "markdown",
   "metadata": {},
   "source": [
    "### Quartiles"
   ]
  },
  {
   "cell_type": "markdown",
   "metadata": {},
   "source": [
    "Quartiles tell us which observations split the data into quarters. The first quartile is larger than 25% of the data, the second quartile is larger than 50% of the data, and the third quartile is larger than 75% of the data. Another name for the second quartile is the median.\n",
    "\n",
    "We calculate the quartiles of a variable in R using the \"quantile()\" function (quantiles are a more general version of quartiles, and let us find which point is larger than any percent of the data). The \"quantile()\" function has one input: \"x\".\n",
    "\n",
    "By default, the \"quantile()\" function gives us the 3 quartiles, as well as the minimum (larger than none, or 0%, of the data) and the maximum (larger than all, or 100%, of the data). There are optional inputs we can use to get other quantiles, but we do not need to worry about that. Keeping quantiles and quartiles straight can be a bit confusing, but as long as you remember that the \"quantile()\" function computes the quartiles you shouldn't have any problems.\n",
    "\n",
    "Let's calculate the quartiles for the weights of cereal boxes in our sample, as well as the smallest and largest weights using the \"quantile()\" function."
   ]
  },
  {
   "cell_type": "code",
   "execution_count": 5,
   "metadata": {
    "collapsed": false
   },
   "outputs": [
    {
     "data": {
      "text/html": [
       "<dl class=dl-horizontal>\n",
       "\t<dt>0%</dt>\n",
       "\t\t<dd>19.984</dd>\n",
       "\t<dt>25%</dt>\n",
       "\t\t<dd>20.335</dd>\n",
       "\t<dt>50%</dt>\n",
       "\t\t<dd>20.483</dd>\n",
       "\t<dt>75%</dt>\n",
       "\t\t<dd>20.6445</dd>\n",
       "\t<dt>100%</dt>\n",
       "\t\t<dd>20.975</dd>\n",
       "</dl>\n"
      ],
      "text/latex": [
       "\\begin{description*}\n",
       "\\item[0\\textbackslash{}\\%] 19.984\n",
       "\\item[25\\textbackslash{}\\%] 20.335\n",
       "\\item[50\\textbackslash{}\\%] 20.483\n",
       "\\item[75\\textbackslash{}\\%] 20.6445\n",
       "\\item[100\\textbackslash{}\\%] 20.975\n",
       "\\end{description*}\n"
      ],
      "text/markdown": [
       "0%\n",
       ":   19.98425%\n",
       ":   20.33550%\n",
       ":   20.48375%\n",
       ":   20.6445100%\n",
       ":   20.975\n",
       "\n"
      ],
      "text/plain": [
       "     0%     25%     50%     75%    100% \n",
       "19.9840 20.3350 20.4830 20.6445 20.9750 "
      ]
     },
     "metadata": {},
     "output_type": "display_data"
    }
   ],
   "source": [
    "quantile(data.cfsb$Weight)"
   ]
  },
  {
   "cell_type": "markdown",
   "metadata": {},
   "source": [
    "The first number, 19.984, is larger than 0% of the data, so it is the mimimum. The second number, 20.365, is larger than 25% of the data, so it is the first quartile, and so on."
   ]
  },
  {
   "cell_type": "markdown",
   "metadata": {},
   "source": [
    "### Inter-Quartile Range"
   ]
  },
  {
   "cell_type": "markdown",
   "metadata": {},
   "source": [
    "The inter-quartile range, or IQR, is the difference between the third and first quartiles in a dataset. In other words, the middle 50% of the dataset. The IQR is a measure of the spread of a dataset.\n",
    "\n",
    "We calculate the IQR of a variable in R using the \"IQR()\" function. The \"IQR()\" function has one input: \"x\". \n",
    "\n",
    "Let's calculate the IQR for the weights of cereal boxes in our sample using the \"IQR()\" function."
   ]
  },
  {
   "cell_type": "code",
   "execution_count": 6,
   "metadata": {
    "collapsed": false,
    "scrolled": true
   },
   "outputs": [
    {
     "data": {
      "text/html": [
       "0.3095"
      ],
      "text/latex": [
       "0.3095"
      ],
      "text/markdown": [
       "0.3095"
      ],
      "text/plain": [
       "[1] 0.3095"
      ]
     },
     "metadata": {},
     "output_type": "display_data"
    }
   ],
   "source": [
    "IQR(data.cfsb$Weight)"
   ]
  },
  {
   "cell_type": "markdown",
   "metadata": {},
   "source": [
    "### Standard Deviation"
   ]
  },
  {
   "cell_type": "markdown",
   "metadata": {},
   "source": [
    "The standard deviation of a variable it a popular measure of its spread. Roughly speaking, standard deviation measures the average distance from an observation to the mean.\n",
    "\n",
    "We calculate the standard deviation of a variable in R using the \"sd()\" function. The \"sd()\" function has one input: \"x\". \n",
    "\n",
    "Let's calculate the standard deviation for the weights of cereal boxes in our sample using the \"sd()\" function."
   ]
  },
  {
   "cell_type": "code",
   "execution_count": 7,
   "metadata": {
    "collapsed": false,
    "scrolled": true
   },
   "outputs": [
    {
     "data": {
      "text/html": [
       "0.217152547042094"
      ],
      "text/latex": [
       "0.217152547042094"
      ],
      "text/markdown": [
       "0.217152547042094"
      ],
      "text/plain": [
       "[1] 0.2171525"
      ]
     },
     "metadata": {},
     "output_type": "display_data"
    }
   ],
   "source": [
    "sd(data.cfsb$Weight)"
   ]
  },
  {
   "cell_type": "markdown",
   "metadata": {},
   "source": [
    "Note that the \"sd()\" function calculates the sample standard deviation, not the population standard deviation. That is, the denominator in the equation for \"sd()\" is n-1, the sample size minus 1."
   ]
  },
  {
   "cell_type": "markdown",
   "metadata": {},
   "source": [
    "As promised, here is a pig eating an ice-cream cone."
   ]
  },
  {
   "cell_type": "markdown",
   "metadata": {},
   "source": [
    "<!-- ***** If you can see this, re-run this cell and you should get the happy pig back ***** -->\n",
    "<img src=\"../Module_3/Pig_Ice_Cream.png\",width=400>"
   ]
  },
  {
   "cell_type": "markdown",
   "metadata": {},
   "source": [
    "### The \"summary\" Function"
   ]
  },
  {
   "cell_type": "markdown",
   "metadata": {},
   "source": [
    "The statistics that we calculated in the previous section are summaries of the data. Many of these can be calculated at the same time in R using the \"summary()\" function. Specifically, the \"summary()\" function gives us the minimum and maximum, first and third quartiles, median and mean of a dataset.\n",
    "\n",
    "As with all of the functions we described in the last section, the \"summary()\" function has only a single input, so we don't have to worry about including the input's name.\n",
    "\n",
    "Let's now use the \"summary()\" function to calculate summary statistics for cereal weights in the CFSB dataset."
   ]
  },
  {
   "cell_type": "code",
   "execution_count": 8,
   "metadata": {
    "collapsed": false
   },
   "outputs": [
    {
     "data": {
      "text/plain": [
       "   Min. 1st Qu.  Median    Mean 3rd Qu.    Max. \n",
       "  19.98   20.34   20.48   20.49   20.64   20.98 "
      ]
     },
     "metadata": {},
     "output_type": "display_data"
    }
   ],
   "source": [
    "summary(data.cfsb$Weight)"
   ]
  },
  {
   "cell_type": "markdown",
   "metadata": {},
   "source": [
    "### Boxplots"
   ]
  },
  {
   "cell_type": "markdown",
   "metadata": {},
   "source": [
    "The 5-number summary contains the minimum, maximum, first and third quartiles, and the median of a variable, all of which can be calculated using the \"summary()\" function. Notice that the mean is not part of the 5-number summary.. Another way to present the information in the 5 number summary is with a boxplot.\n",
    "\n",
    "The R function for making boxplots is, unsurprisingly, called \"boxplot()\". The \"boxplot()\" function has multiple inputs. The main input is \"x\", which tells R what variable to make the boxplot for. We can also include the usual optional inputs for plots, \"main\" and \"ylab\". Boxplots of a single variable don't usually include x-axis labels.\n",
    "\n",
    "Let's now make a boxplot of cereal box weights using the \"boxplot()\" function."
   ]
  },
  {
   "cell_type": "code",
   "execution_count": 9,
   "metadata": {
    "collapsed": false
   },
   "outputs": [
    {
     "data": {
      "image/png": "[encoded data removed]",
      "text/plain": [
       "Plot with title “Boxplot of CFSB Box Weights”"
      ]
     },
     "metadata": {},
     "output_type": "display_data"
    }
   ],
   "source": [
    "boxplot(data.cfsb$Weight, main = \"Boxplot of CFSB Box Weights\", ylab = \"Weight (oz)\")"
   ]
  },
  {
   "cell_type": "markdown",
   "metadata": {},
   "source": [
    "The top and bottom lines at the ends of the whiskers are the maximum and minimum observations. The upper and lower sides of the box are the third and first quartiles. The bold line inside the box is the median. In this way, a boxplot contains the same information as a 5-number summary. It is often helpful to have both so that we have 2 different ways to think about our data."
   ]
  },
  {
   "cell_type": "markdown",
   "metadata": {},
   "source": [
    "## Entering Data Review: Two Variables"
   ]
  },
  {
   "cell_type": "markdown",
   "metadata": {},
   "source": [
    "We are now going to return to the brain size dataset from Module 1. Remember that this dataset has 2 variables, IQ and brain size (measured in pixels on an MRI scan). This dataset has an extra speedbump: it does not include variable names. This means we have to add them manually. We discussed how to import this dataset and add variable names in more detail in Module 1. We briefly review importing and re-naming variables here.\n",
    "\n",
    "We read in this dataset using the \"read.csv()\" function with \"header=FALSE\". We then set the variable names using the \"names()\" function. Let's do this now and print out the first few observations using the \"head()\" function."
   ]
  },
  {
   "cell_type": "code",
   "execution_count": 10,
   "metadata": {
    "collapsed": false,
    "scrolled": true
   },
   "outputs": [
    {
     "data": {
      "text/html": [
       "<table>\n",
       "<thead><tr><th></th><th scope=col>IQ</th><th scope=col>Size</th></tr></thead>\n",
       "<tbody>\n",
       "\t<tr><th scope=row>1</th><td>   133</td><td>816932</td></tr>\n",
       "\t<tr><th scope=row>2</th><td>    140</td><td>1001121</td></tr>\n",
       "\t<tr><th scope=row>3</th><td>    139</td><td>1038437</td></tr>\n",
       "\t<tr><th scope=row>4</th><td>   133</td><td>965353</td></tr>\n",
       "\t<tr><th scope=row>5</th><td>   137</td><td>951545</td></tr>\n",
       "\t<tr><th scope=row>6</th><td>    99</td><td>928799</td></tr>\n",
       "</tbody>\n",
       "</table>\n"
      ],
      "text/latex": [
       "\\begin{tabular}{r|ll}\n",
       "  & IQ & Size\\\\\n",
       "\\hline\n",
       "\t1 &    133 & 816932\\\\\n",
       "\t2 &     140 & 1001121\\\\\n",
       "\t3 &     139 & 1038437\\\\\n",
       "\t4 &    133 & 965353\\\\\n",
       "\t5 &    137 & 951545\\\\\n",
       "\t6 &     99 & 928799\\\\\n",
       "\\end{tabular}\n"
      ],
      "text/plain": [
       "   IQ    Size\n",
       "1 133  816932\n",
       "2 140 1001121\n",
       "3 139 1038437\n",
       "4 133  965353\n",
       "5 137  951545\n",
       "6  99  928799"
      ]
     },
     "metadata": {},
     "output_type": "display_data"
    }
   ],
   "source": [
    "data.brsi = read.csv(\"Brain_Size.csv\", header = FALSE)\n",
    "names(data.brsi) = c(\"IQ\", \"Size\")\n",
    "head(data.brsi)"
   ]
  },
  {
   "cell_type": "markdown",
   "metadata": {},
   "source": [
    "Notice that we can run all three lines of code at once."
   ]
  },
  {
   "cell_type": "markdown",
   "metadata": {},
   "source": [
    "## Two Variable Summary Statistics"
   ]
  },
  {
   "cell_type": "markdown",
   "metadata": {},
   "source": [
    "When we have 2 variables, we can calculate summary statistics for each of them individually. Remember that we get an individual variable out of a data frame using \"$\". Let's print out summary statistics for both IQ and brain size. We can use the print function to add some text that makes our output easier to read."
   ]
  },
  {
   "cell_type": "code",
   "execution_count": 11,
   "metadata": {
    "collapsed": false
   },
   "outputs": [
    {
     "name": "stdout",
     "output_type": "stream",
     "text": [
      "[1] \"Summary of IQ:\"\n"
     ]
    },
    {
     "data": {
      "text/plain": [
       "   Min. 1st Qu.  Median    Mean 3rd Qu.    Max. \n",
       "  77.00   89.75  116.50  113.40  135.50  144.00 "
      ]
     },
     "metadata": {},
     "output_type": "display_data"
    },
    {
     "name": "stdout",
     "output_type": "stream",
     "text": [
      "[1] \"Summary of Brain Size:\"\n"
     ]
    },
    {
     "data": {
      "text/plain": [
       "   Min. 1st Qu.  Median    Mean 3rd Qu.    Max. \n",
       " 790600  855900  905400  908800  950100 1080000 "
      ]
     },
     "metadata": {},
     "output_type": "display_data"
    },
    {
     "name": "stdout",
     "output_type": "stream",
     "text": [
      "[1] \"Standard Deviation of IQ:\"\n"
     ]
    },
    {
     "data": {
      "text/html": [
       "24.0820712117159"
      ],
      "text/latex": [
       "24.0820712117159"
      ],
      "text/markdown": [
       "24.0820712117159"
      ],
      "text/plain": [
       "[1] 24.08207"
      ]
     },
     "metadata": {},
     "output_type": "display_data"
    },
    {
     "name": "stdout",
     "output_type": "stream",
     "text": [
      "[1] \"Standard Deviation of Brain Size:\"\n"
     ]
    },
    {
     "data": {
      "text/html": [
       "72282.0489308447"
      ],
      "text/latex": [
       "72282.0489308447"
      ],
      "text/markdown": [
       "72282.0489308447"
      ],
      "text/plain": [
       "[1] 72282.05"
      ]
     },
     "metadata": {},
     "output_type": "display_data"
    }
   ],
   "source": [
    "print(\"Summary of IQ:\")\n",
    "summary(data.brsi$IQ)\n",
    "print(\"Summary of Brain Size:\")\n",
    "summary(data.brsi$Size)\n",
    "print(\"Standard Deviation of IQ:\")\n",
    "sd(data.brsi$IQ)\n",
    "print(\"Standard Deviation of Brain Size:\")\n",
    "sd(data.brsi$Size)"
   ]
  },
  {
   "cell_type": "markdown",
   "metadata": {},
   "source": [
    "### Correlation"
   ]
  },
  {
   "cell_type": "markdown",
   "metadata": {},
   "source": [
    "Summary statistics tell us a lot about the distribution of IQ and brain size individually, but we might also want to study the relationship between these two variables. A useful summary statistic for measuring the relationship between two variables is correlation. Correlation only measures linear relationships, so a low value for correlation does not necessarily mean that the two variables are independent.\n",
    "\n",
    "We calculate correlation in R using the \"cor()\" function. The \"cor()\" function has two inputs: \"x\" and \"y\". These are the two variables that we want to calculate the correlation for.\n",
    "\n",
    "Let's calculate the correlation between IQ and brain size."
   ]
  },
  {
   "cell_type": "code",
   "execution_count": 12,
   "metadata": {
    "collapsed": false
   },
   "outputs": [
    {
     "data": {
      "text/html": [
       "0.357640969369057"
      ],
      "text/latex": [
       "0.357640969369057"
      ],
      "text/markdown": [
       "0.357640969369057"
      ],
      "text/plain": [
       "[1] 0.357641"
      ]
     },
     "metadata": {},
     "output_type": "display_data"
    }
   ],
   "source": [
    "cor(x = data.brsi$IQ, y = data.brsi$Size)"
   ]
  },
  {
   "cell_type": "markdown",
   "metadata": {},
   "source": [
    "This correlation is quite low, which is consistent with the scatterplot we made in Module 2 where these variables did not appear linearly related. It is important to examine both numerical and graphical summaries of a dataset before making any conclusions."
   ]
  }
 ],
 "metadata": {
  "kernelspec": {
   "display_name": "R",
   "language": "R",
   "name": "ir"
  },
  "language_info": {
   "codemirror_mode": "r",
   "file_extension": ".r",
   "mimetype": "text/x-r-source",
   "name": "R",
   "pygments_lexer": "r",
   "version": "3.3.1"
  }
 },
 "nbformat": 4,
 "nbformat_minor": 1
}
