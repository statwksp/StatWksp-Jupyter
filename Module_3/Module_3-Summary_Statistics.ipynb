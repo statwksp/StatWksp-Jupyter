{
 "cells": [
  {
   "cell_type": "markdown",
   "metadata": {},
   "source": [
    "# Module 3: Summary Statistics"
   ]
  },
  {
   "cell_type": "markdown",
   "metadata": {},
   "source": [
    "In this module, we review how to import data to R from a \".csv\" file. We then discuss how to calculate some common summary statistics, and how to make boxplots."
   ]
  },
  {
   "cell_type": "markdown",
   "metadata": {},
   "source": [
    "## Entering Data Review: CFSB Dataset"
   ]
  },
  {
   "cell_type": "markdown",
   "metadata": {},
   "source": [
    "Before we can analyze a dataset, we have to import it to R. In this module, we will work mostly with the chocolate frosted sugar bombs dataset, or CFSB for short. In Module 1 we discussed how to import this dataset to R in-depth, so we will just do a review here.\n",
    "\n",
    "Recall that we read data into R using the \"read.csv\" function. Set the \"file\" equal to the file name for our dataset and use \"header\" to tell R whether the first row contains variable names or the first observation.\n",
    "\n",
    "Let's import the CFSB dataset to R using the \"read.csv()\" function and call our new data frame \"data.cfsb\"."
   ]
  },
  {
   "cell_type": "code",
   "execution_count": 1,
   "metadata": {
    "collapsed": true
   },
   "outputs": [],
   "source": [
    "data.cfsb = read.csv(file = \"CFSB.csv\")"
   ]
  },
  {
   "cell_type": "markdown",
   "metadata": {},
   "source": [
    "Let's also use the \"head()\" function to print out the first few observations to make sure they were read in properly."
   ]
  },
  {
   "cell_type": "code",
   "execution_count": 2,
   "metadata": {},
   "outputs": [
    {
     "data": {
      "text/html": [
       "<table>\n",
       "<thead><tr><th scope=col>Weight</th></tr></thead>\n",
       "<tbody>\n",
       "\t<tr><td>20.440</td></tr>\n",
       "\t<tr><td>20.244</td></tr>\n",
       "\t<tr><td>20.549</td></tr>\n",
       "\t<tr><td>20.755</td></tr>\n",
       "\t<tr><td>20.740</td></tr>\n",
       "\t<tr><td>20.847</td></tr>\n",
       "</tbody>\n",
       "</table>\n"
      ],
      "text/latex": [
       "\\begin{tabular}{r|l}\n",
       " Weight\\\\\n",
       "\\hline\n",
       "\t 20.440\\\\\n",
       "\t 20.244\\\\\n",
       "\t 20.549\\\\\n",
       "\t 20.755\\\\\n",
       "\t 20.740\\\\\n",
       "\t 20.847\\\\\n",
       "\\end{tabular}\n"
      ],
      "text/markdown": [
       "\n",
       "Weight | \n",
       "|---|---|---|---|---|---|\n",
       "| 20.440 | \n",
       "| 20.244 | \n",
       "| 20.549 | \n",
       "| 20.755 | \n",
       "| 20.740 | \n",
       "| 20.847 | \n",
       "\n",
       "\n"
      ],
      "text/plain": [
       "  Weight\n",
       "1 20.440\n",
       "2 20.244\n",
       "3 20.549\n",
       "4 20.755\n",
       "5 20.740\n",
       "6 20.847"
      ]
     },
     "metadata": {},
     "output_type": "display_data"
    }
   ],
   "source": [
    "head(data.cfsb)"
   ]
  },
  {
   "cell_type": "markdown",
   "metadata": {},
   "source": [
    "## Calculating Summary Statistics"
   ]
  },
  {
   "cell_type": "markdown",
   "metadata": {},
   "source": [
    "Now we discuss how to calculate common summary statistics, including the mean, median, minimum, maximum, quartiles, inter-quartile range and standard deviation. These summary statistics have corresponding functions in R that do the calculations for us. We will describe each of these functions using essentially the same format: we start by introducing the function, then describe how it is used, and finally give an example using the CFSB dataset. \n",
    "\n",
    "This repetitive format might be a little boring to read the first time, but will make it much easier to refer back to this section later (such as when you're doing your assignments). As a reward for making it through this section, at the end there will be a picture of a pig eating an ice-cream cone."
   ]
  },
  {
   "cell_type": "markdown",
   "metadata": {},
   "source": [
    "Important Tips: <br /> \n",
    "\n",
    "$\\bullet$ In general, most functions that calculate something will automatically print their result, unless we give that result a name. This means that we do not need to use the \"print()\" function unless we save the result of a calculation with a name <br /> \n",
    "\n",
    "$\\bullet$ We extract a variable from a data frame using \"\\$\". For example, we extract the \"Weight\" variable from the data frame \"data.cfsb\" by typing \"data.cfsb\\$Weight\" <br />\n",
    "\n",
    "$\\bullet$ In R, capital letters and small letters are distinct. This means that \"Weight\" and \"weight\" are different variables <br /> \n",
    "\n",
    "$\\bullet$ If a function only has one input, then we do not need to specify the name of that input. For example, instead of \"read.csv(file = \"CFSB.csv\")\", we could write \"read.csv(\"CFSB.csv\")\""
   ]
  },
  {
   "cell_type": "markdown",
   "metadata": {},
   "source": [
    "### Mean"
   ]
  },
  {
   "cell_type": "markdown",
   "metadata": {},
   "source": [
    "The mean is one measure of the center of a variable's values. It can be very informative, but is sensitive to outliers.\n",
    "\n",
    "We calculate the mean of a variable in R using the \"mean()\" function. The \"mean()\" function has one input, called \"x\". Recall that we do not need to write \"x=\" in the \"mean()\" function because \"mean()\" only has one input.\n",
    "\n",
    "Let's calculate the mean weight of cereal boxes in our sample using the \"mean()\" function."
   ]
  },
  {
   "cell_type": "code",
   "execution_count": 3,
   "metadata": {
    "scrolled": true
   },
   "outputs": [
    {
     "data": {
      "text/html": [
       "20.49194"
      ],
      "text/latex": [
       "20.49194"
      ],
      "text/markdown": [
       "20.49194"
      ],
      "text/plain": [
       "[1] 20.49194"
      ]
     },
     "metadata": {},
     "output_type": "display_data"
    }
   ],
   "source": [
    "mean(data.cfsb$Weight)"
   ]
  },
  {
   "cell_type": "markdown",
   "metadata": {},
   "source": [
    "### Median"
   ]
  },
  {
   "cell_type": "markdown",
   "metadata": {},
   "source": [
    "The median is another measure of the center of a dataset. It is resistant to outliers, so we say that it is a robust statistic.\n",
    "\n",
    "We calculate the median of a variable in R using the \"median()\" function. The \"median()\" function has one input, called \"x\".  \n",
    "\n",
    "Let's calculate the median weight of cereal boxes in our sample using the \"median()\" function."
   ]
  },
  {
   "cell_type": "code",
   "execution_count": 4,
   "metadata": {},
   "outputs": [
    {
     "data": {
      "text/html": [
       "20.483"
      ],
      "text/latex": [
       "20.483"
      ],
      "text/markdown": [
       "20.483"
      ],
      "text/plain": [
       "[1] 20.483"
      ]
     },
     "metadata": {},
     "output_type": "display_data"
    }
   ],
   "source": [
    "median(data.cfsb$Weight)"
   ]
  },
  {
   "cell_type": "markdown",
   "metadata": {},
   "source": [
    "### Quartiles"
   ]
  },
  {
   "cell_type": "markdown",
   "metadata": {},
   "source": [
    "Quartiles tell us which observations split the data into quarters. The first quartile is larger than 25% of the data, the second quartile is larger than 50% of the data, and the third quartile is larger than 75% of the data. Another name for the second quartile is the median.\n",
    "\n",
    "We calculate the quartiles of a variable in R using the \"quantile()\" function. Quantiles are a more general version of quartiles and let us find which point is larger than any percent of the data. The \"quantile()\" function has one input: \"x\".\n",
    "\n",
    "By default, the \"quantile()\" function gives us the 3 quartiles, as well as the minimum (larger than none, or 0%, of the data) and the maximum (larger than all, or 100%, of the data). There are optional inputs we can use to get other quantiles, but we do not need to worry about that.\n",
    "\n",
    "Let's calculate the quartiles for the weights of cereal boxes in our sample, as well as the smallest and largest weights using the \"quantile()\" function."
   ]
  },
  {
   "cell_type": "code",
   "execution_count": 5,
   "metadata": {},
   "outputs": [
    {
     "data": {
      "text/html": [
       "<dl class=dl-horizontal>\n",
       "\t<dt>0%</dt>\n",
       "\t\t<dd>19.984</dd>\n",
       "\t<dt>25%</dt>\n",
       "\t\t<dd>20.335</dd>\n",
       "\t<dt>50%</dt>\n",
       "\t\t<dd>20.483</dd>\n",
       "\t<dt>75%</dt>\n",
       "\t\t<dd>20.6445</dd>\n",
       "\t<dt>100%</dt>\n",
       "\t\t<dd>20.975</dd>\n",
       "</dl>\n"
      ],
      "text/latex": [
       "\\begin{description*}\n",
       "\\item[0\\textbackslash{}\\%] 19.984\n",
       "\\item[25\\textbackslash{}\\%] 20.335\n",
       "\\item[50\\textbackslash{}\\%] 20.483\n",
       "\\item[75\\textbackslash{}\\%] 20.6445\n",
       "\\item[100\\textbackslash{}\\%] 20.975\n",
       "\\end{description*}\n"
      ],
      "text/markdown": [
       "0%\n",
       ":   19.98425%\n",
       ":   20.33550%\n",
       ":   20.48375%\n",
       ":   20.6445100%\n",
       ":   20.975\n",
       "\n"
      ],
      "text/plain": [
       "     0%     25%     50%     75%    100% \n",
       "19.9840 20.3350 20.4830 20.6445 20.9750 "
      ]
     },
     "metadata": {},
     "output_type": "display_data"
    }
   ],
   "source": [
    "quantile(data.cfsb$Weight)"
   ]
  },
  {
   "cell_type": "markdown",
   "metadata": {},
   "source": [
    "The first number, 19.984, is larger than 0% of the data, so it is the mimimum. The second number, 20.365, is larger than 25% of the data, so it is the first quartile, and so on."
   ]
  },
  {
   "cell_type": "markdown",
   "metadata": {},
   "source": [
    "### Inter-Quartile Range"
   ]
  },
  {
   "cell_type": "markdown",
   "metadata": {},
   "source": [
    "The inter-quartile range, or IQR, is the difference between the third and first quartiles in a dataset. In other words, the middle 50% of the dataset. The IQR is a measure of the spread of a dataset.\n",
    "\n",
    "We calculate the IQR of a variable in R using the \"IQR()\" function. The \"IQR()\" function has one input: \"x\". \n",
    "\n",
    "Let's calculate the IQR for the weights of cereal boxes in our sample using the \"IQR()\" function."
   ]
  },
  {
   "cell_type": "code",
   "execution_count": 6,
   "metadata": {
    "scrolled": true
   },
   "outputs": [
    {
     "data": {
      "text/html": [
       "0.3095"
      ],
      "text/latex": [
       "0.3095"
      ],
      "text/markdown": [
       "0.3095"
      ],
      "text/plain": [
       "[1] 0.3095"
      ]
     },
     "metadata": {},
     "output_type": "display_data"
    }
   ],
   "source": [
    "IQR(data.cfsb$Weight)"
   ]
  },
  {
   "cell_type": "markdown",
   "metadata": {},
   "source": [
    "### Standard Deviation"
   ]
  },
  {
   "cell_type": "markdown",
   "metadata": {},
   "source": [
    "The standard deviation of a variable it a popular measure of its spread. Roughly speaking, standard deviation measures the average distance between observations and the mean.\n",
    "\n",
    "We calculate the standard deviation of a variable in R using the \"sd()\" function. The \"sd()\" function has one input: \"x\". \n",
    "\n",
    "Let's calculate the standard deviation for the weights of cereal boxes in our sample using the \"sd()\" function."
   ]
  },
  {
   "cell_type": "code",
   "execution_count": 7,
   "metadata": {
    "scrolled": true
   },
   "outputs": [
    {
     "data": {
      "text/html": [
       "0.217152547042094"
      ],
      "text/latex": [
       "0.217152547042094"
      ],
      "text/markdown": [
       "0.217152547042094"
      ],
      "text/plain": [
       "[1] 0.2171525"
      ]
     },
     "metadata": {},
     "output_type": "display_data"
    }
   ],
   "source": [
    "sd(data.cfsb$Weight)"
   ]
  },
  {
   "cell_type": "markdown",
   "metadata": {},
   "source": [
    "Note that the \"sd()\" function calculates the sample standard deviation, not the population standard deviation. That is, the denominator in the equation for \"sd()\" is n-1, the sample size minus 1."
   ]
  },
  {
   "cell_type": "markdown",
   "metadata": {},
   "source": [
    "As promised, here is a pig eating an ice-cream cone."
   ]
  },
  {
   "cell_type": "markdown",
   "metadata": {},
   "source": [
    "<!-- ***** If you can see this, re-run this cell and you should get the hungry pig back ***** -->\n",
    "<img src=\"../Module_3/Pig_Ice_Cream.png\",width=400>"
   ]
  },
  {
   "cell_type": "markdown",
   "metadata": {},
   "source": [
    "### The \"summary\" Function"
   ]
  },
  {
   "cell_type": "markdown",
   "metadata": {},
   "source": [
    "The statistics that we calculated in the previous sections are summaries of the data. Many of these can be calculated at the same time in R using the \"summary()\" function. Specifically, the \"summary()\" function gives us the minimum and maximum, first and third quartiles, median and mean of a dataset.\n",
    "\n",
    "As with all of the functions we described in the last section, the \"summary()\" function has only a single input, so we don't have to worry about including the input's name.\n",
    "\n",
    "Let's now use the \"summary()\" function to calculate summary statistics for cereal weights in the CFSB dataset."
   ]
  },
  {
   "cell_type": "code",
   "execution_count": 8,
   "metadata": {},
   "outputs": [
    {
     "data": {
      "text/plain": [
       "   Min. 1st Qu.  Median    Mean 3rd Qu.    Max. \n",
       "  19.98   20.34   20.48   20.49   20.64   20.98 "
      ]
     },
     "metadata": {},
     "output_type": "display_data"
    }
   ],
   "source": [
    "summary(data.cfsb$Weight)"
   ]
  },
  {
   "cell_type": "markdown",
   "metadata": {},
   "source": [
    "### Boxplots"
   ]
  },
  {
   "cell_type": "markdown",
   "metadata": {},
   "source": [
    "The 5-number summary contains the minimum, maximum, first and third quartiles, and the median of a variable, all of which can be calculated using the \"summary()\" function. Notice that the mean is not part of the 5-number summary. Another way to present the information in the 5-number summary is with a boxplot.\n",
    "\n",
    "The R function for making boxplots is, unsurprisingly, called \"boxplot()\". The \"boxplot()\" function has multiple inputs. The main input is \"x\", which tells R what variable to make the boxplot for. We can also include the usual optional inputs for plots, \"main\" and \"ylab\". Boxplots of a single variable don't usually include an x-axis label.\n",
    "\n",
    "Let's now make a boxplot of cereal box weights using the \"boxplot()\" function."
   ]
  },
  {
   "cell_type": "code",
   "execution_count": 9,
   "metadata": {},
   "outputs": [
    {
     "data": {
      "image/png": "[encoded data removed]",
      "text/plain": [
       "Plot with title “Boxplot of CFSB Box Weights”"
      ]
     },
     "metadata": {},
     "output_type": "display_data"
    }
   ],
   "source": [
    "boxplot(data.cfsb$Weight, main = \"Boxplot of CFSB Box Weights\", ylab = \"Weight (oz)\")"
   ]
  },
  {
   "cell_type": "markdown",
   "metadata": {},
   "source": [
    "The lines at the ends of the whiskers are the maximum and minimum observations. The upper and lower sides of the box are the third and first quartiles. The bold line inside the box is the median. In this way, a boxplot contains the same information as a 5-number summary. It is often helpful to have both so that we have multiple different ways to think about our data."
   ]
  }
 ],
 "metadata": {
  "kernelspec": {
   "display_name": "R",
   "language": "R",
   "name": "ir"
  },
  "language_info": {
   "codemirror_mode": "r",
   "file_extension": ".r",
   "mimetype": "text/x-r-source",
   "name": "R",
   "pygments_lexer": "r",
   "version": "3.3.2"
  }
 },
 "nbformat": 4,
 "nbformat_minor": 1
}
