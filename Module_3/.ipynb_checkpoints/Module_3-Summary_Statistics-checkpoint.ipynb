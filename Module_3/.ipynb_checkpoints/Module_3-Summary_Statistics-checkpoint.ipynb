{
 "cells": [
  {
   "cell_type": "markdown",
   "metadata": {},
   "source": [
    "# Module 2: Summary Statistics"
   ]
  },
  {
   "cell_type": "markdown",
   "metadata": {},
   "source": [
    "In this module, we review how to import data to R from a \".csv\" file. We then discuss how to calculate some common summary statistics, and how to make boxplots."
   ]
  },
  {
   "cell_type": "markdown",
   "metadata": {},
   "source": [
    "## Entering Data Review: One Variable"
   ]
  },
  {
   "cell_type": "markdown",
   "metadata": {},
   "source": [
    "Before we can analyze a dataset, we have to import it to R. In this module, we will work mostly with the chocolate frosted sugar bombs dataset, or CFSB for short. In Module 1 we discussed in-depth about how to import this dataset to R, so we will just do a review here. For a more detailed refresher, check back to Module 1.\n",
    "\n",
    "Recall that we read data into R using the \"read.csv\" function. We set the \"file\" equal to the name of the file containing our dataset and use \"header\" to tell R whether the first row contains variable names or the first observation.\n",
    "\n",
    "Let's import the CFSB dataset to R using the \"read.csv()\" function and call our new data frame \"data.cfsb\"."
   ]
  },
  {
   "cell_type": "code",
   "execution_count": null,
   "metadata": {
    "collapsed": true
   },
   "outputs": [],
   "source": [
    "data.cfsb = read.csv(file = \"CFSB.csv\")"
   ]
  },
  {
   "cell_type": "markdown",
   "metadata": {},
   "source": [
    "Let's also print out the first few observations to make sure they were read in properly. Remember that we do this using the \"head\" function."
   ]
  },
  {
   "cell_type": "code",
   "execution_count": null,
   "metadata": {
    "collapsed": false
   },
   "outputs": [],
   "source": [
    "head(data.cfsb)"
   ]
  },
  {
   "cell_type": "markdown",
   "metadata": {},
   "source": [
    "## Calculating Summary Statistics"
   ]
  },
  {
   "cell_type": "markdown",
   "metadata": {},
   "source": [
    "Now we discuss how to calculate common summary statistics, including the mean, median, quartiles, inter-quartile range and standard deviation. All of these summary statistics have corresponding functions in R that do the calculations for us. We will describe each of these functions using essentially the same format. We start by introducing the function, then describe how it is used, and finally give an example using the CFSB dataset. \n",
    "\n",
    "This repetitive format might be a little boring to read the first time, but will make it much easier to refer back to this section later (such as when you're doing your assignments). As a reward for making it through this section, at the end there will be a picture of a pig eating an ice-cream cone."
   ]
  },
  {
   "cell_type": "markdown",
   "metadata": {},
   "source": [
    "Important Tips: <br />\n",
    "$\\bullet$ In general, most functions that calculate something will automatically print their result, unless we give that result a name. This means that we do not need to use the \"print()\" function unless we save the result of a calculation with a name <br />\n",
    "$\\bullet$ We extract a variable from a data frame using \"\\$\". For example, we extract the \"Weight\" variable from the data frame \"data.cfsb\" by typing \"data.cfsb\\$Weight\" <br />\n",
    "$\\bullet$ In R, capital letters and small letters are distinct. This means that \"Weight\" and \"weight\" are different variables <br />\n",
    "$\\bullet$ If a function only has one input, then we do not need to specify the name of that input. For example, instead of \"read.csv(file = \"CFSB.csv\")\", we could write \"read.csv(\"CFSB.csv\")\""
   ]
  },
  {
   "cell_type": "markdown",
   "metadata": {},
   "source": [
    "### Mean"
   ]
  },
  {
   "cell_type": "markdown",
   "metadata": {},
   "source": [
    "The mean is one measure of the center of that dataset. It can be very informative, but is sensitive to outliers.\n",
    "\n",
    "We calculate the mean of a variable in R using the \"mean()\" function. The \"mean()\" function has one input, called \"x\". Recall that we do not need to write \"x=\" in the \"mean()\" function because \"mean()\" only has one input.\n",
    "\n",
    "Let's calculate the mean weight of cereal boxes in our sample using the \"mean()\" function."
   ]
  },
  {
   "cell_type": "code",
   "execution_count": null,
   "metadata": {
    "collapsed": false,
    "scrolled": true
   },
   "outputs": [],
   "source": [
    "mean(data.cfsb$Weight)"
   ]
  },
  {
   "cell_type": "markdown",
   "metadata": {},
   "source": [
    "### Median"
   ]
  },
  {
   "cell_type": "markdown",
   "metadata": {},
   "source": [
    "The median is another measure of the center of a dataset. It is resistant to outliers, so we say that it is a robust statistic.\n",
    "\n",
    "We calculate the median of a variable in R using the \"median()\" function. The \"median()\" function has one input, called \"x\".  \n",
    "\n",
    "Let's calculate the median weight of cereal boxes in our sample using the \"median()\" function."
   ]
  },
  {
   "cell_type": "code",
   "execution_count": null,
   "metadata": {
    "collapsed": false
   },
   "outputs": [],
   "source": [
    "median(data.cfsb$Weight)"
   ]
  },
  {
   "cell_type": "markdown",
   "metadata": {},
   "source": [
    "### Quartiles"
   ]
  },
  {
   "cell_type": "markdown",
   "metadata": {},
   "source": [
    "Quartiles tell us which observations split the data into quarters. The first quartile is larger than 25% of the data, the second quartile is larger than 50% of the data, and the third quartile is larger than 75% of the data. Another name for the second quartile is the median.\n",
    "\n",
    "We calculate the quartiles of a variable in R using the \"quantile()\" function (quantiles are a more general version of quartiles, and let us find which point is larger than any percent of the data). The \"quantile()\" function has one input: \"x\".\n",
    "\n",
    "By default, the \"quantile()\" function gives us the 3 quartiles, as well as the minimum (larger than none, or 0%, of the data) and the maximum (larger than all, or 100%, of the data). There are optional inputs we can use to get other quantiles, but we do not need to worry about that. Keeping quantiles and quartiles straight can be a bit confusing, but as long as you remember that the \"quantile()\" function computes the quartiles you shouldn't have any problems.\n",
    "\n",
    "Let's calculate the quartiles for the weights of cereal boxes in our sample, as well as the smallest and largest weights using the \"quantile()\" function."
   ]
  },
  {
   "cell_type": "code",
   "execution_count": null,
   "metadata": {
    "collapsed": false
   },
   "outputs": [],
   "source": [
    "quantile(data.cfsb$Weight)"
   ]
  },
  {
   "cell_type": "markdown",
   "metadata": {},
   "source": [
    "The first number, 19.984, is larger than 0% of the data, so it is the mimimum. The second number, 20.365, is larger than 25% of the data, so it is the first quartile, and so on."
   ]
  },
  {
   "cell_type": "markdown",
   "metadata": {},
   "source": [
    "### Inter-Quartile Range"
   ]
  },
  {
   "cell_type": "markdown",
   "metadata": {},
   "source": [
    "The inter-quartile range, or IQR, is the difference between the third and first quartiles in a dataset. In other words, the middle 50% of the dataset. The IQR is a measure of the spread of a dataset.\n",
    "\n",
    "We calculate the IQR of a variable in R using the \"IQR()\" function. The \"IQR()\" function has one input: \"x\". \n",
    "\n",
    "Let's calculate the IQR for the weights of cereal boxes in our sample using the \"IQR()\" function."
   ]
  },
  {
   "cell_type": "code",
   "execution_count": null,
   "metadata": {
    "collapsed": false,
    "scrolled": true
   },
   "outputs": [],
   "source": [
    "IQR(data.cfsb$Weight)"
   ]
  },
  {
   "cell_type": "markdown",
   "metadata": {},
   "source": [
    "### Standard Deviation"
   ]
  },
  {
   "cell_type": "markdown",
   "metadata": {},
   "source": [
    "The standard deviation of a variable it a popular measure of its spread. Roughly speaking, standard deviation measures the average distance from an observation to the mean.\n",
    "\n",
    "We calculate the standard deviation of a variable in R using the \"sd()\" function. The \"sd()\" function has one input: \"x\". \n",
    "\n",
    "Let's calculate the standard deviation for the weights of cereal boxes in our sample using the \"sd()\" function."
   ]
  },
  {
   "cell_type": "code",
   "execution_count": null,
   "metadata": {
    "collapsed": false,
    "scrolled": true
   },
   "outputs": [],
   "source": [
    "sd(data.cfsb$Weight)"
   ]
  },
  {
   "cell_type": "markdown",
   "metadata": {},
   "source": [
    "Note that the \"sd()\" function calculates the sample standard deviation, not the population standard deviation. That is, the denominator in the equation for \"sd()\" is n-1, the sample size minus 1."
   ]
  },
  {
   "cell_type": "markdown",
   "metadata": {},
   "source": [
    "As promised, here is a pig eating an ice-cream cone."
   ]
  },
  {
   "cell_type": "markdown",
   "metadata": {},
   "source": [
    "<!-- ***** If you can see this, re-run this cell and you should get the hungry pig back ***** -->\n",
    "<img src=\"../Module_3/Pig_Ice_Cream.png\",width=400>"
   ]
  },
  {
   "cell_type": "markdown",
   "metadata": {},
   "source": [
    "### The \"summary\" Function"
   ]
  },
  {
   "cell_type": "markdown",
   "metadata": {},
   "source": [
    "The statistics that we calculated in the previous section are summaries of the data. Many of these can be calculated at the same time in R using the \"summary()\" function. Specifically, the \"summary()\" function gives us the minimum and maximum, first and third quartiles, median and mean of a dataset.\n",
    "\n",
    "As with all of the functions we described in the last section, the \"summary()\" function has only a single input, so we don't have to worry about including the input's name.\n",
    "\n",
    "Let's now use the \"summary()\" function to calculate summary statistics for cereal weights in the CFSB dataset."
   ]
  },
  {
   "cell_type": "code",
   "execution_count": null,
   "metadata": {
    "collapsed": false
   },
   "outputs": [],
   "source": [
    "summary(data.cfsb$Weight)"
   ]
  },
  {
   "cell_type": "markdown",
   "metadata": {},
   "source": [
    "### Boxplots"
   ]
  },
  {
   "cell_type": "markdown",
   "metadata": {},
   "source": [
    "The 5-number summary contains the minimum, maximum, first and third quartiles, and the median of a variable, all of which can be calculated using the \"summary()\" function. Notice that the mean is not part of the 5-number summary.. Another way to present the information in the 5 number summary is with a boxplot.\n",
    "\n",
    "The R function for making boxplots is, unsurprisingly, called \"boxplot()\". The \"boxplot()\" function has multiple inputs. The main input is \"x\", which tells R what variable to make the boxplot for. We can also include the usual optional inputs for plots, \"main\" and \"ylab\". Boxplots of a single variable don't usually include x-axis labels.\n",
    "\n",
    "Let's now make a boxplot of cereal box weights using the \"boxplot()\" function."
   ]
  },
  {
   "cell_type": "code",
   "execution_count": null,
   "metadata": {
    "collapsed": false
   },
   "outputs": [],
   "source": [
    "boxplot(data.cfsb$Weight, main = \"Boxplot of CFSB Box Weights\", ylab = \"Weight (oz)\")"
   ]
  },
  {
   "cell_type": "markdown",
   "metadata": {},
   "source": [
    "The top and bottom lines at the ends of the whiskers are the maximum and minimum observations. The upper and lower sides of the box are the third and first quartiles. The bold line inside the box is the median. In this way, a boxplot contains the same information as a 5-number summary. It is often helpful to have both so that we have 2 different ways to think about our data."
   ]
  },
  {
   "cell_type": "markdown",
   "metadata": {},
   "source": [
    "## Entering Data Review: Two Variables"
   ]
  },
  {
   "cell_type": "markdown",
   "metadata": {},
   "source": [
    "We are now going to return to the brain size dataset from Module 1. Remember that this dataset has 2 variables, IQ and brain size (measured in pixels on an MRI scan). This dataset has an extra speedbump: it does not include variable names. This means we have to add them manually. We discussed how to import this dataset and add variable names in more detail in Module 1. We briefly review importing and re-naming variables here.\n",
    "\n",
    "We read in this dataset using the \"read.csv()\" function with \"header=FALSE\". We then set the variable names using the \"names()\" function. Let's do this now and print out the first few observations using the \"head()\" function."
   ]
  },
  {
   "cell_type": "code",
   "execution_count": null,
   "metadata": {
    "collapsed": false,
    "scrolled": true
   },
   "outputs": [],
   "source": [
    "data.brsi = read.csv(\"Brain_Size.csv\", header = FALSE)\n",
    "names(data.brsi) = c(\"IQ\", \"Size\")\n",
    "head(data.brsi)"
   ]
  },
  {
   "cell_type": "markdown",
   "metadata": {},
   "source": [
    "Notice that we can run all three lines of code at once."
   ]
  },
  {
   "cell_type": "markdown",
   "metadata": {},
   "source": [
    "## Two Variable Summary Statistics"
   ]
  },
  {
   "cell_type": "markdown",
   "metadata": {},
   "source": [
    "When we have 2 variables, we can calculate summary statistics for each of them individually. Remember that we get an individual variable out of a data frame using \"$\". Let's print out summary statistics for both IQ and brain size. We can use the print function to add some text that makes our output easier to read."
   ]
  },
  {
   "cell_type": "code",
   "execution_count": null,
   "metadata": {
    "collapsed": false
   },
   "outputs": [],
   "source": [
    "print(\"Summary of IQ:\")\n",
    "summary(data.brsi$IQ)\n",
    "print(\"Summary of Brain Size:\")\n",
    "summary(data.brsi$Size)\n",
    "print(\"Standard Deviation of IQ:\")\n",
    "sd(data.brsi$IQ)\n",
    "print(\"Standard Deviation of Brain Size:\")\n",
    "sd(data.brsi$Size)"
   ]
  },
  {
   "cell_type": "markdown",
   "metadata": {},
   "source": [
    "### Correlation"
   ]
  },
  {
   "cell_type": "markdown",
   "metadata": {},
   "source": [
    "Summary statistics tell us a lot about the distribution of IQ and brain size individually, but we might also want to study the relationship between these two variables. A useful summary statistic for measuring the relationship between two variables is correlation. Correlation only measures linear relationships, so a low value for correlation does not necessarily mean that the two variables are independent.\n",
    "\n",
    "We calculate correlation in R using the \"cor()\" function. The \"cor()\" function has two inputs: \"x\" and \"y\". These are the two variables that we want to calculate the correlation for.\n",
    "\n",
    "Let's calculate the correlation between IQ and brain size."
   ]
  },
  {
   "cell_type": "code",
   "execution_count": null,
   "metadata": {
    "collapsed": false
   },
   "outputs": [],
   "source": [
    "cor(x = data.brsi$IQ, y = data.brsi$Size)"
   ]
  },
  {
   "cell_type": "markdown",
   "metadata": {},
   "source": [
    "This correlation is quite low, which is consistent with the scatterplot we made in Module 2 where these variables did not appear linearly related. It is important to examine both numerical and graphical summaries of a dataset before making any conclusions."
   ]
  }
 ],
 "metadata": {
  "kernelspec": {
   "display_name": "R",
   "language": "R",
   "name": "ir"
  },
  "language_info": {
   "codemirror_mode": "r",
   "file_extension": ".r",
   "mimetype": "text/x-r-source",
   "name": "R",
   "pygments_lexer": "r",
   "version": "3.3.1"
  }
 },
 "nbformat": 4,
 "nbformat_minor": 1
}
