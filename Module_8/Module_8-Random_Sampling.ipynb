{
 "cells": [
  {
   "cell_type": "markdown",
   "metadata": {},
   "source": [
    "# Module 8: Random Sampling"
   ]
  },
  {
   "cell_type": "markdown",
   "metadata": {},
   "source": [
    "In this module, you will learn how to randomly generate numbers in R. This is useful for selecting a simple random sample in observational studies and for assigning individuals to treatments in experiments."
   ]
  },
  {
   "cell_type": "markdown",
   "metadata": {},
   "source": [
    "## Generating Random Numbers"
   ]
  },
  {
   "cell_type": "markdown",
   "metadata": {},
   "source": [
    "R has many ways of generating random numbers. In this module, we focus on the \"sample()\" function. This function draws some number of values from a list. To be more specific, let’s say you want to draw a sample of size n from a population of size N. You’ll first want to assign a unique ID number between 1 and N to each member of the population. \n",
    "\n",
    "You can create a list of numbers between 1 and N in R using the \":\" function. To do this, write 1, followed by \":\", followed by the number you want your list to end at. Let's make a list of the numbers between 1 and 10."
   ]
  },
  {
   "cell_type": "code",
   "execution_count": 1,
   "metadata": {},
   "outputs": [
    {
     "data": {
      "text/html": [
       "<ol class=list-inline>\n",
       "\t<li>1</li>\n",
       "\t<li>2</li>\n",
       "\t<li>3</li>\n",
       "\t<li>4</li>\n",
       "\t<li>5</li>\n",
       "\t<li>6</li>\n",
       "\t<li>7</li>\n",
       "\t<li>8</li>\n",
       "\t<li>9</li>\n",
       "\t<li>10</li>\n",
       "</ol>\n"
      ],
      "text/latex": [
       "\\begin{enumerate*}\n",
       "\\item 1\n",
       "\\item 2\n",
       "\\item 3\n",
       "\\item 4\n",
       "\\item 5\n",
       "\\item 6\n",
       "\\item 7\n",
       "\\item 8\n",
       "\\item 9\n",
       "\\item 10\n",
       "\\end{enumerate*}\n"
      ],
      "text/markdown": [
       "1. 1\n",
       "2. 2\n",
       "3. 3\n",
       "4. 4\n",
       "5. 5\n",
       "6. 6\n",
       "7. 7\n",
       "8. 8\n",
       "9. 9\n",
       "10. 10\n",
       "\n",
       "\n"
      ],
      "text/plain": [
       " [1]  1  2  3  4  5  6  7  8  9 10"
      ]
     },
     "metadata": {},
     "output_type": "display_data"
    }
   ],
   "source": [
    "1:10"
   ]
  },
  {
   "cell_type": "markdown",
   "metadata": {},
   "source": [
    "In order to sample from a population, we first sample from the numbers between 1 and 10, then sample the individuals in your population with the corresponding labels. We therefore need to be able to draw a sample of size n from the numbers between 1 and N. We do this in R using the \"sample()\" function.\n",
    "\n",
    "The \"sample()\" function has two required inputs: \"x\" and \"size\". The \"x\" input is the list of values that we want to draw a sample from (i.e., the population). The \"size\" input is the number of values we want to sample (i.e., the sample size). \n",
    "\n",
    "If we want to sample values between 1 and N, then we must set \"x\" equal to a list containing all the numbers between 1 and N. We can generate this list in R using \":\". We then set \"size\" equal to n, the size of our sample.\n",
    "\n",
    "Let's make a list of all the values from 1 to 100, then randomly sample 20 of them."
   ]
  },
  {
   "cell_type": "code",
   "execution_count": 2,
   "metadata": {},
   "outputs": [
    {
     "data": {
      "text/html": [
       "<ol class=list-inline>\n",
       "\t<li>75</li>\n",
       "\t<li>93</li>\n",
       "\t<li>77</li>\n",
       "\t<li>24</li>\n",
       "\t<li>41</li>\n",
       "\t<li>8</li>\n",
       "\t<li>67</li>\n",
       "\t<li>2</li>\n",
       "\t<li>51</li>\n",
       "\t<li>86</li>\n",
       "\t<li>1</li>\n",
       "\t<li>23</li>\n",
       "\t<li>9</li>\n",
       "\t<li>83</li>\n",
       "\t<li>42</li>\n",
       "\t<li>12</li>\n",
       "\t<li>47</li>\n",
       "\t<li>33</li>\n",
       "\t<li>3</li>\n",
       "\t<li>69</li>\n",
       "</ol>\n"
      ],
      "text/latex": [
       "\\begin{enumerate*}\n",
       "\\item 75\n",
       "\\item 93\n",
       "\\item 77\n",
       "\\item 24\n",
       "\\item 41\n",
       "\\item 8\n",
       "\\item 67\n",
       "\\item 2\n",
       "\\item 51\n",
       "\\item 86\n",
       "\\item 1\n",
       "\\item 23\n",
       "\\item 9\n",
       "\\item 83\n",
       "\\item 42\n",
       "\\item 12\n",
       "\\item 47\n",
       "\\item 33\n",
       "\\item 3\n",
       "\\item 69\n",
       "\\end{enumerate*}\n"
      ],
      "text/markdown": [
       "1. 75\n",
       "2. 93\n",
       "3. 77\n",
       "4. 24\n",
       "5. 41\n",
       "6. 8\n",
       "7. 67\n",
       "8. 2\n",
       "9. 51\n",
       "10. 86\n",
       "11. 1\n",
       "12. 23\n",
       "13. 9\n",
       "14. 83\n",
       "15. 42\n",
       "16. 12\n",
       "17. 47\n",
       "18. 33\n",
       "19. 3\n",
       "20. 69\n",
       "\n",
       "\n"
      ],
      "text/plain": [
       " [1] 75 93 77 24 41  8 67  2 51 86  1 23  9 83 42 12 47 33  3 69"
      ]
     },
     "metadata": {},
     "output_type": "display_data"
    }
   ],
   "source": [
    "our.list = 1:100\n",
    "sample(x=our.list, size=20)"
   ]
  },
  {
   "cell_type": "markdown",
   "metadata": {},
   "source": [
    "Try re-running the last cell a few times. As you might expect, you will get a different list of numbers each time. \n",
    "\n",
    "Sometimes we may want to be able to generate the same sample again. We are able to do this because the procedure that R uses to generate random numbers is actually not random at all, just really complicated. This is called pseudo-random number generation. R uses a 'random seed' to determine where to start this complicated procedure for generating pseudo-random numbers. If we choose a fixed random seed, then we will get the same 'random' numbers every time we re-run the code. We can fix the random seed in R using the \"set.seed()\" function. \n",
    "\n",
    "The \"set.seed()\" function has only one input: \"seed\". The \"seed\" input tells R what random seed. The \"seed\" input can be any number, although typically people don't use more than eight digits. \n",
    "\n",
    "Let's again generate 20 numbers between 1 and 100, but this time we will set the random seed to 12345678. Remember that if a function has only one input we do not need to include the name of that input."
   ]
  },
  {
   "cell_type": "code",
   "execution_count": 3,
   "metadata": {},
   "outputs": [
    {
     "data": {
      "text/html": [
       "<ol class=list-inline>\n",
       "\t<li>88</li>\n",
       "\t<li>29</li>\n",
       "\t<li>93</li>\n",
       "\t<li>86</li>\n",
       "\t<li>1</li>\n",
       "\t<li>50</li>\n",
       "\t<li>38</li>\n",
       "\t<li>90</li>\n",
       "\t<li>75</li>\n",
       "\t<li>9</li>\n",
       "\t<li>21</li>\n",
       "\t<li>89</li>\n",
       "\t<li>20</li>\n",
       "\t<li>48</li>\n",
       "\t<li>73</li>\n",
       "\t<li>71</li>\n",
       "\t<li>97</li>\n",
       "\t<li>59</li>\n",
       "\t<li>82</li>\n",
       "\t<li>46</li>\n",
       "</ol>\n"
      ],
      "text/latex": [
       "\\begin{enumerate*}\n",
       "\\item 88\n",
       "\\item 29\n",
       "\\item 93\n",
       "\\item 86\n",
       "\\item 1\n",
       "\\item 50\n",
       "\\item 38\n",
       "\\item 90\n",
       "\\item 75\n",
       "\\item 9\n",
       "\\item 21\n",
       "\\item 89\n",
       "\\item 20\n",
       "\\item 48\n",
       "\\item 73\n",
       "\\item 71\n",
       "\\item 97\n",
       "\\item 59\n",
       "\\item 82\n",
       "\\item 46\n",
       "\\end{enumerate*}\n"
      ],
      "text/markdown": [
       "1. 88\n",
       "2. 29\n",
       "3. 93\n",
       "4. 86\n",
       "5. 1\n",
       "6. 50\n",
       "7. 38\n",
       "8. 90\n",
       "9. 75\n",
       "10. 9\n",
       "11. 21\n",
       "12. 89\n",
       "13. 20\n",
       "14. 48\n",
       "15. 73\n",
       "16. 71\n",
       "17. 97\n",
       "18. 59\n",
       "19. 82\n",
       "20. 46\n",
       "\n",
       "\n"
      ],
      "text/plain": [
       " [1] 88 29 93 86  1 50 38 90 75  9 21 89 20 48 73 71 97 59 82 46"
      ]
     },
     "metadata": {},
     "output_type": "display_data"
    }
   ],
   "source": [
    "set.seed(12345678)\n",
    "sample(x=our.list, size=20)"
   ]
  },
  {
   "cell_type": "markdown",
   "metadata": {},
   "source": [
    "You can run this cell as many times as you want; you will get the same answer every time. The \"set.seed()\" function allows us to make sure our work is reproducible, by making sure that we get the can get the same sample every time."
   ]
  },
  {
   "cell_type": "markdown",
   "metadata": {},
   "source": [
    "## Review Topic: Sampling From a Population in R"
   ]
  },
  {
   "cell_type": "markdown",
   "metadata": {},
   "source": [
    "Suppose that we have a list of all the members of a population in R, and we need to select which ones to sample. For example, we might have a list of people in a class, and we want to ask some of them what their major is. In order to do this, we will need to index the list of names. We discuss how to index a list in Module 6. We now expand upon these ideas a bit.\n",
    "\n",
    "Suppose that we have a list of names called \"names\", and we want to get the first and third elements of that list. Remember that we can get the first element using \"names[1]\" and the third element using \"names[3]\". To get both of these elements, we index our list with another list.\n",
    "\n"
   ]
  },
  {
   "cell_type": "code",
   "execution_count": 4,
   "metadata": {},
   "outputs": [
    {
     "data": {
      "text/html": [
       "<ol class=list-inline>\n",
       "\t<li>Sophia</li>\n",
       "\t<li>Olivia</li>\n",
       "</ol>\n"
      ],
      "text/latex": [
       "\\begin{enumerate*}\n",
       "\\item Sophia\n",
       "\\item Olivia\n",
       "\\end{enumerate*}\n"
      ],
      "text/markdown": [
       "1. Sophia\n",
       "2. Olivia\n",
       "\n",
       "\n"
      ],
      "text/plain": [
       "[1] Sophia Olivia\n",
       "100 Levels: Aaliyah Abigail Addison Aiden Alexander Amelia Andrew ... Zoe"
      ]
     },
     "metadata": {},
     "output_type": "display_data"
    }
   ],
   "source": [
    "#Import our data and obtain the corresponding list\n",
    "data = read.csv(\"Names.csv\")\n",
    "names = data$Name\n",
    "\n",
    "#Index our list with another list\n",
    "names[c(1,3)]"
   ]
  },
  {
   "cell_type": "markdown",
   "metadata": {},
   "source": [
    "Remember that the \"c()\" function produces a list containing the elements inside the parentheses.\n",
    "\n",
    "The file \"Names.csv\" contains a list of 100 people. Let's choose 20 of them for our sample. Remember that the \"sample()\" function produces a list of numbers that can be used for indexing. Try writing some code to do this yourself before you look at the solution."
   ]
  },
  {
   "cell_type": "code",
   "execution_count": 5,
   "metadata": {},
   "outputs": [
    {
     "data": {
      "text/html": [
       "<table>\n",
       "<thead><tr><th scope=col>Name</th></tr></thead>\n",
       "<tbody>\n",
       "\t<tr><td>Sophia  </td></tr>\n",
       "\t<tr><td>Emma    </td></tr>\n",
       "\t<tr><td>Olivia  </td></tr>\n",
       "\t<tr><td>Isabella</td></tr>\n",
       "\t<tr><td>Ava     </td></tr>\n",
       "\t<tr><td>Lily    </td></tr>\n",
       "</tbody>\n",
       "</table>\n"
      ],
      "text/latex": [
       "\\begin{tabular}{r|l}\n",
       " Name\\\\\n",
       "\\hline\n",
       "\t Sophia  \\\\\n",
       "\t Emma    \\\\\n",
       "\t Olivia  \\\\\n",
       "\t Isabella\\\\\n",
       "\t Ava     \\\\\n",
       "\t Lily    \\\\\n",
       "\\end{tabular}\n"
      ],
      "text/markdown": [
       "\n",
       "Name | \n",
       "|---|---|---|---|---|---|\n",
       "| Sophia   | \n",
       "| Emma     | \n",
       "| Olivia   | \n",
       "| Isabella | \n",
       "| Ava      | \n",
       "| Lily     | \n",
       "\n",
       "\n"
      ],
      "text/plain": [
       "  Name    \n",
       "1 Sophia  \n",
       "2 Emma    \n",
       "3 Olivia  \n",
       "4 Isabella\n",
       "5 Ava     \n",
       "6 Lily    "
      ]
     },
     "metadata": {},
     "output_type": "display_data"
    },
    {
     "name": "stdout",
     "output_type": "stream",
     "text": [
      " [1] Grace     Riley     Elizabeth Evelyn    Isabelle  Wyatt     Kylie    \n",
      " [8] Dylan     Hunter    Benjamin  Henry     Lily      Aaliyah   Ethan    \n",
      "[15] Oliver    Hannah    Cameron   Landon    Jacob     Kaitlyn  \n",
      "100 Levels: Aaliyah Abigail Addison Aiden Alexander Amelia Andrew ... Zoe\n"
     ]
    }
   ],
   "source": [
    "#Import the dataset\n",
    "data = read.csv(\"Names.csv\")\n",
    "head(data)\n",
    "\n",
    "#Generate a sample of numbers\n",
    "sample.numbers = sample(x=1:100, size=20)\n",
    "\n",
    "#Choose the corresponding people\n",
    "sample.names = data$Name[sample.numbers]\n",
    "print(sample.names)"
   ]
  },
  {
   "cell_type": "markdown",
   "metadata": {},
   "source": [
    "Our final answer is a list of 20 names. We can ignore the part that says \"100 Levels:...\"."
   ]
  }
 ],
 "metadata": {
  "kernelspec": {
   "display_name": "R",
   "language": "R",
   "name": "ir"
  },
  "language_info": {
   "codemirror_mode": "r",
   "file_extension": ".r",
   "mimetype": "text/x-r-source",
   "name": "R",
   "pygments_lexer": "r",
   "version": "3.3.2"
  }
 },
 "nbformat": 4,
 "nbformat_minor": 1
}
