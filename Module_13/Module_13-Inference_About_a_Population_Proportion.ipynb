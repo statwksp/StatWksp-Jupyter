{
 "cells": [
  {
   "cell_type": "markdown",
   "metadata": {},
   "source": [
    "# Module 13: Inference About a Population Proportion"
   ]
  },
  {
   "cell_type": "markdown",
   "metadata": {},
   "source": [
    "In this module, we discuss how to find a confidence interval for the proportion of a population with some trait. We also show how to test whether the population proportion is equal to a particular value. Keep in mind when working through this module that the formulas for confidence intervals and test statistics are more different when we're working with population proportions than they are for population means."
   ]
  },
  {
   "cell_type": "markdown",
   "metadata": {},
   "source": [
    "## Sampling Distribution of a Sample Proportion\n",
    "## (I'm not sure if this section is worth keeping)"
   ]
  },
  {
   "cell_type": "markdown",
   "metadata": {},
   "source": [
    "If our sample is large enough, then the sampling distribution of a sample proportion, $\\hat{p}$, is approximately normal. The mean of this normal distribution is $p$, the population proportion, and the standard deviation of this normal distribution is $\\sqrt{p(1-p)/n}$, where $n$ is our sample size. \n",
    "\n",
    "Something to keep in mind when doing inference about a population proportion is that our sample size must be large in order for the inference to be valid. This large sample size means that, even if we have to estimate the standard deviation, we can still use Z-based inference rather than T-tests and T-confidence intervals. Remember that the T-distribution with large degrees of freedom is close to a standard normal."
   ]
  },
  {
   "cell_type": "markdown",
   "metadata": {},
   "source": [
    "## Confidence Intervals"
   ]
  },
  {
   "cell_type": "markdown",
   "metadata": {},
   "source": [
    "We construct confidence intervals for population proportions in much the same way as we did for population means in Modules 10, 11 and 12. The formula for our confidence interval is of the form: estimate $\\pm$ critical value $*$ standard error. When working with a population proportion, our estimate is $\\hat{p}$, our standard error is $\\sqrt{\\hat{p}(1-\\hat{p})/n}$ and our critical value is from a standard normal. This confidence interval is a hybrid of the ones we used in Modules 10 and 11, where we have to estimate the standard error of our estimate, but we still use a standard normal critical value because we have assumed that our sample is large (T-distributions with large degrees of freedom are close to the standard normal).\n",
    "\n",
    "Suppose that we are interested in the proportion of people that are between the ages of 15 and 64. Let's estimate this using the 2011 Canadian census. That is, we will treat the population of Canada as a sample from the population of the world. The 2011 Canadian census found that $68.5\\%$ of the $33476685$ people living in Canada are between 15 and 64. Taking Canada as a sample of the entire world (which admittely is probably not a great idea), let's make a $99.9\\%$ confidence interval for the proportion of people worldwide that are between 15 and 64 years old."
   ]
  },
  {
   "cell_type": "code",
   "execution_count": 1,
   "metadata": {
    "collapsed": false
   },
   "outputs": [
    {
     "name": "stdout",
     "output_type": "stream",
     "text": [
      "[1] \"Confidence interval is between:\"\n",
      "[1] 0.6847358\n",
      "[1] 0.6852642\n"
     ]
    }
   ],
   "source": [
    "p.hat = 0.685 #Sample proportion\n",
    "n = 33476685 #Sample size\n",
    "SE = sqrt(p.hat*(1-p.hat)/n) #Standard error of p.hat\n",
    "Z.crit = qnorm(p=0.9995) #Z critical value\n",
    "MOE = Z.crit*SE #Margin of error\n",
    "lcl = p.hat - MOE\n",
    "ucl = p.hat + MOE\n",
    "print(\"Confidence interval is between:\")\n",
    "print(lcl)\n",
    "print(ucl)"
   ]
  },
  {
   "cell_type": "markdown",
   "metadata": {},
   "source": [
    "Even with such a high confidence level, our interval is still very narrow. This is because our sample size is very large."
   ]
  },
  {
   "cell_type": "markdown",
   "metadata": {},
   "source": [
    "## Sample Size For Confidence Intervals"
   ]
  },
  {
   "cell_type": "markdown",
   "metadata": {},
   "source": [
    "It is helpful to know approximately how many observations will be required to get inference that is sufficiently precise. In the case of confidence intervals, this means that we have to specify the maximum margin of error that we are willing to accept. Once we have a margin of error, there is a formula we can use to calculate the required sample size.\n",
    "\n",
    "Let's find how large of a sample would be required to get a $99\\%$ confidence interval with margin of error 0.01 for the proportion of people aged 15 to 64."
   ]
  },
  {
   "cell_type": "code",
   "execution_count": 1,
   "metadata": {
    "collapsed": false
   },
   "outputs": [
    {
     "name": "stdout",
     "output_type": "stream",
     "text": [
      "[1] \"Required sample size is:\"\n",
      "[1] 16587.24\n"
     ]
    }
   ],
   "source": [
    "Z.star = qnorm(p=0.995) #Z-critical value\n",
    "MOE = 0.01 #Margin Of Error\n",
    "p.star = 0.5\n",
    "n = p.star * (1-p.star)*(Z.star/MOE)^2\n",
    "print(\"Required sample size is:\")\n",
    "print(n)"
   ]
  },
  {
   "cell_type": "markdown",
   "metadata": {},
   "source": [
    "Therefore, a sample size of 16588 observations would give us a margin of error at least as small as the one we specified.\n",
    "\n",
    "The actual required sample size depends on the population proportion, which is unknown. The value p.star in our formula is the 'worst-case' value, that makes our required sample size the largest. If we have a good guess for the population proportion then we can use that guess as p.star instead of 0.5. "
   ]
  },
  {
   "cell_type": "markdown",
   "metadata": {},
   "source": [
    "## Hypothesis Testing"
   ]
  },
  {
   "cell_type": "markdown",
   "metadata": {},
   "source": [
    "Hypothesis testing for a population proportion starts with a null and alternative hypothesis about the population proportion, $p$. The null hypothesis always says that $p$ is equal to some value, often 0.5. The alternative hypothesis can say that $p$ is less than the null hypothesis value, greater than the null hypothesis value or not equal to the null hypothesis value. \n",
    "\n",
    "We test these hypotheses using a test statistic of the usual form: (estimate - null value) / standard error. Remember that, when doing hypothesis tests, we always start by assuming that the null hypothesis is true. This means that we can use the value of $p$ under the null hypothesis to calculate the standard error of our estimator, rather than estimating the standard error using our data.\n",
    "\n",
    "This test statistic approximately follows a standard normal distribution, so we get our p-value using the \"pnorm()\" function.\n",
    "\n",
    "Suppose that we have a sample of 50 students from SFU, 22 of which study part-time and 28 study full-time. Let's test the null hypothesis that the proportion of part-time students equals 0.5 (i.e., half the students at SFU study part-time) versus the alternative hypothesis that this proportion is greater than 0.5."
   ]
  },
  {
   "cell_type": "code",
   "execution_count": 2,
   "metadata": {
    "collapsed": false
   },
   "outputs": [
    {
     "name": "stdout",
     "output_type": "stream",
     "text": [
      "[1] 0.3961439\n"
     ]
    }
   ],
   "source": [
    "p0 = 0.5 #Null hypothesis value for p\n",
    "n = 50 #Sample size\n",
    "p.hat = 22/50 #Sample proportion of part-time students\n",
    "SE = sqrt(p0*(1-p0)/n) #Standard error\n",
    "Z = (p.hat - p0)/SE #Test statistic\n",
    "p.value = 2*pnorm(abs(Z), lower.tail=F) #P-value\n",
    "print(p.value)"
   ]
  },
  {
   "cell_type": "markdown",
   "metadata": {},
   "source": [
    "The p-value of our test is 0.3961439, which is larger than 0.05 so we do not reject the null hypothesis that the proportion of part-time students at SFU is 0.5. In reality, for the 2015/2016 academic year, this proportion was around 0.47. We would need a larger sample size to be able to reliably detect this difference.\n",
    "\n",
    "The formula we used to calculate our p-value is a bit complicated because our test is two-sided. Check back to Module 10 for an explanation of why we calculate p-values this way in two-sided tests."
   ]
  }
 ],
 "metadata": {
  "kernelspec": {
   "display_name": "R",
   "language": "R",
   "name": "ir"
  },
  "language_info": {
   "codemirror_mode": "r",
   "file_extension": ".r",
   "mimetype": "text/x-r-source",
   "name": "R",
   "pygments_lexer": "r",
   "version": "3.3.1"
  }
 },
 "nbformat": 4,
 "nbformat_minor": 1
}
