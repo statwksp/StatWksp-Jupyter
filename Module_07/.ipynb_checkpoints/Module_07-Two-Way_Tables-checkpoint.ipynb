{
 "cells": [
  {
   "cell_type": "markdown",
   "metadata": {},
   "source": [
    "# Module 7: Two-Way Tables"
   ]
  },
  {
   "cell_type": "raw",
   "metadata": {},
   "source": [
    "In this module, we discuss how to describe the relationship between two categorical variables using R. In particular, we look at how to display this type of data in R, as well as how to find marginal and conditional distributions from two-way tables.\n",
    "\n",
    "The marginal distribution of a categorical variable from a two-way table is the distribution of the variable’s values over all units (individuals) in the data set."
   ]
  },
  {
   "cell_type": "markdown",
   "metadata": {},
   "source": [
    "## Our Dataset"
   ]
  },
  {
   "cell_type": "markdown",
   "metadata": {},
   "source": [
    "The dataset we will work with in this module is a hypothetical study about peoples' snack preferences. In this hypothetical study, we present people with two choices of snack, a cookie or a piece of fruit, and two choices of beverage, milk or water. We then record the choices made by 100 people.\n",
    "\n",
    "This dataset has two variables: beverage and snack. Both of these variables are categorical with two possible outcomes. Let's import this dataset to R using the \"read.csv()\" function and check the first few observations."
   ]
  },
  {
   "cell_type": "code",
   "execution_count": null,
   "metadata": {},
   "outputs": [],
   "source": [
    "data = read.csv(\"Snacks.csv\")\n",
    "head(data)"
   ]
  },
  {
   "cell_type": "markdown",
   "metadata": {},
   "source": [
    "## Displaying Two-Way Tables"
   ]
  },
  {
   "cell_type": "markdown",
   "metadata": {},
   "source": [
    "Our dataset is a list of outcomes with one line per subject. To summarize this data in a two-way table, we need the R function called \"table()\". We can use the \"table()\" function with a single input to tell us all the unique values of a single variable and how many times each of those values occurs. Let's try this with the \"Snack\" variable in our dataset."
   ]
  },
  {
   "cell_type": "code",
   "execution_count": null,
   "metadata": {},
   "outputs": [],
   "source": [
    "table(data$Snack)"
   ]
  },
  {
   "cell_type": "markdown",
   "metadata": {},
   "source": [
    "This means that 67 of our participants chose milk, and 33 chose water.\n",
    "\n",
    "We can also use the \"table()\" function with two inputs, one input for each of the two categorical variables. This lists all the unique combinations of values for the two variables and the number of times that each combination occurs. Let's do this now with the two variables in our dataset."
   ]
  },
  {
   "cell_type": "code",
   "execution_count": null,
   "metadata": {},
   "outputs": [],
   "source": [
    "table(data$Snack, data$Drink)"
   ]
  },
  {
   "cell_type": "markdown",
   "metadata": {},
   "source": [
    "This is how we make two-way tables in R.\n",
    "\n",
    "We can save a two-way table to make it easier to refer back to later. Let's call our two-way table \"snacks.table\"."
   ]
  },
  {
   "cell_type": "code",
   "execution_count": null,
   "metadata": {
    "collapsed": true
   },
   "outputs": [],
   "source": [
    "snacks.table = table(data$Snack, data$Drink)"
   ]
  },
  {
   "cell_type": "markdown",
   "metadata": {},
   "source": [
    "Advanced Topic: The \"table()\" function can be used with more than two inputs. This allows us to construct three-way tables, or even n-way tables for any n. After two-ways, these tables start to get harder to read, and it is rare to see anything higher than a three-way table."
   ]
  },
  {
   "cell_type": "markdown",
   "metadata": {},
   "source": [
    "## Marginal Distributions"
   ]
  },
  {
   "cell_type": "markdown",
   "metadata": {},
   "source": [
    "A two-way table tells us about the joint distribution of two variables. We sometimes also want to investigate the marginal distribution of each variable separately. We can start by getting the row and column totals for our table using the \"margin.table()\" function. \n",
    "\n",
    "The \"margin.table()\" function has one required input: \"x\". The \"x\" input tells the \"margin.table()\" function which table to work with. We can also provide an optional second input called \"margin\". The \"margin\" input tells \"margin.table()\" what to calculate. If \"margin=1\" then row totals are calculated. If \"margin=2\" then column totals are calculated. If we do not specify a value for \"margin\" then the grand total (i.e., overall total) is calculated.\n",
    "\n",
    "Let's use \"margin.table()\" to calculate the row, column and grand totals of our two-way table. We will also print some extra text to make our output easier to read."
   ]
  },
  {
   "cell_type": "code",
   "execution_count": null,
   "metadata": {},
   "outputs": [],
   "source": [
    "print(\"Row Totals:\")\n",
    "margin.table(x=snacks.table, margin=1)\n",
    "print(\"Column Totals:\")\n",
    "margin.table(x=snacks.table, margin=2)\n",
    "print(\"Grand Total:\")\n",
    "margin.table(x=snacks.table)"
   ]
  },
  {
   "cell_type": "markdown",
   "metadata": {},
   "source": [
    "We want the marginal distribution, not just the row and column totals. We turn these counts into probabilities by dividing the marginal totals by the grand total. Let's now calculate the marginal distribution for drink and snack."
   ]
  },
  {
   "cell_type": "code",
   "execution_count": null,
   "metadata": {},
   "outputs": [],
   "source": [
    "print(\"Marginal Distribution for Drink:\")\n",
    "margin.table(x=snacks.table, margin=1)/margin.table(x=snacks.table)\n",
    "print(\"Marginal Distribution for Snack:\")\n",
    "margin.table(x=snacks.table, margin=2)/margin.table(x=snacks.table)"
   ]
  },
  {
   "cell_type": "markdown",
   "metadata": {},
   "source": [
    "To make our code easier to read, we can give names to the row, column and grand totals. "
   ]
  },
  {
   "cell_type": "code",
   "execution_count": null,
   "metadata": {},
   "outputs": [],
   "source": [
    "row.tot = margin.table(x=snacks.table, margin=1)\n",
    "col.tot = margin.table(x=snacks.table, margin=2)\n",
    "gr.tot = margin.table(x=snacks.table)\n",
    "print(\"Marginal Distribution for Drink:\")\n",
    "row.tot/gr.tot\n",
    "print(\"Marginal Distribution for Snack:\")\n",
    "col.tot/gr.tot"
   ]
  },
  {
   "cell_type": "markdown",
   "metadata": {},
   "source": [
    "## Indexing Lists and Tables"
   ]
  },
  {
   "cell_type": "markdown",
   "metadata": {},
   "source": [
    "Before we can move on to calculating conditional distributions, we must look at a technical part of R: how to get a particular value from a list. Another name for this procedure is \"indexing\" a list. This section is a bit dry, but it is very important because many useful procedures in R require indexing. Indexing is so important that reading through this whole section will make a certain hedgehog very happy.\n",
    "\n",
    "In order to get a particular value out of a list in R, we must use square brackets, \"[]\". This is best understood by seeing an example. Let's find the number of people in our study that chose milk. Recall that \"row.tot\" is a list of row totals. Using the index \"[1]\" gives us the first number in this list, which corresponds to the number of people in our study that chose milk."
   ]
  },
  {
   "cell_type": "code",
   "execution_count": null,
   "metadata": {},
   "outputs": [],
   "source": [
    "row.tot[1]"
   ]
  },
  {
   "cell_type": "markdown",
   "metadata": {},
   "source": [
    "If we want the number of people that chose fruit, we would get the second number in the list of column totals."
   ]
  },
  {
   "cell_type": "code",
   "execution_count": null,
   "metadata": {},
   "outputs": [],
   "source": [
    "col.tot[2]"
   ]
  },
  {
   "cell_type": "markdown",
   "metadata": {},
   "source": [
    "We can get a particular cell value from a table by indexing with two numbers. For example, suppose that we want to know the number of people that chose water and a cookie."
   ]
  },
  {
   "cell_type": "code",
   "execution_count": null,
   "metadata": {},
   "outputs": [],
   "source": [
    "snacks.table[2,1]"
   ]
  },
  {
   "cell_type": "markdown",
   "metadata": {},
   "source": [
    "*Important Note: The first number selects the row and the second number selects the column. If you mix these up you will end up with the wrong number.*"
   ]
  },
  {
   "cell_type": "markdown",
   "metadata": {},
   "source": [
    "We can also get whole rows and whole columns from a table. You can think of this as choosing a row and getting all the column values for that row, or choosing a column and getting all the row values for that column.\n",
    "\n",
    "We get a row from a table in R by indexing the row in the usual way, and leaving the column index blank. Let's get the distribution of snacks among people who chose milk in our study (the entire first row)."
   ]
  },
  {
   "cell_type": "code",
   "execution_count": null,
   "metadata": {
    "scrolled": true
   },
   "outputs": [],
   "source": [
    "snacks.table[1,]"
   ]
  },
  {
   "cell_type": "markdown",
   "metadata": {},
   "source": [
    "Similarly, we can get an entire column by indexing the column and leaving the row index blank."
   ]
  },
  {
   "cell_type": "code",
   "execution_count": null,
   "metadata": {
    "scrolled": true
   },
   "outputs": [],
   "source": [
    "snacks.table[,2]"
   ]
  },
  {
   "cell_type": "markdown",
   "metadata": {},
   "source": [
    "Note that both rows and columns are printed in a vertical list. This is how Jupyter prints lists of numbers, and both rows and columns are just lists of numbers once you remove them from the table."
   ]
  },
  {
   "cell_type": "markdown",
   "metadata": {},
   "source": [
    "<!-- ***** If you can see this, re-run this cell and you should get the happy hedgehog back ***** -->\n",
    "<img src=\"../Module_07/Happy_Hedgehog.png\",width=600>"
   ]
  },
  {
   "cell_type": "markdown",
   "metadata": {},
   "source": [
    "Look at how happy he is that you finished."
   ]
  },
  {
   "cell_type": "markdown",
   "metadata": {},
   "source": [
    "## Conditional distributions"
   ]
  },
  {
   "cell_type": "markdown",
   "metadata": {},
   "source": [
    "We calculate a conditional distribution from a two-way table by first choosing a row or column to condition on. For concreteness, say that we choose a row. We then divide the counts in that row by the row total to get our conditional distribution given that row.\n",
    "\n",
    "Let's calculate the conditional distribution of snacks given that someone chose milk as a beverage. That is, we want the distribution of snacks given that someone is in the first row of our table. Remember that we use square brackets, \"[]\" to get rows from tables and numbers from lists."
   ]
  },
  {
   "cell_type": "code",
   "execution_count": null,
   "metadata": {},
   "outputs": [],
   "source": [
    "row.milk = snacks.table[1,] #The entire first row of our table\n",
    "tot.milk = row.tot[1] #The first row total, which corresponds to milk\n",
    "row.milk/tot.milk #Computes the conditional probability (or proportion) \n",
    "                  #for each snack given that milk was selected"
   ]
  },
  {
   "cell_type": "markdown",
   "metadata": {},
   "source": [
    "This means that, in our study, someone who chose milk as a beverage was almost twice as likely to choose a cookie instead of a piece of fruit. This also means that about 64% of people made the correct choice."
   ]
  },
  {
   "cell_type": "code",
   "execution_count": null,
   "metadata": {},
   "outputs": [],
   "source": [
    "library(gmodels)"
   ]
  }
 ],
 "metadata": {
  "kernelspec": {
   "display_name": "R",
   "language": "R",
   "name": "ir"
  },
  "language_info": {
   "codemirror_mode": "r",
   "file_extension": ".r",
   "mimetype": "text/x-r-source",
   "name": "R",
   "pygments_lexer": "r",
   "version": "3.3.2"
  }
 },
 "nbformat": 4,
 "nbformat_minor": 1
}
