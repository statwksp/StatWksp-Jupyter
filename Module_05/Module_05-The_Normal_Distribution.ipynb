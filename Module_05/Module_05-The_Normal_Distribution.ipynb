{
 "cells": [
  {
   "cell_type": "markdown",
   "metadata": {},
   "source": [
    "# Module 5 - The Normal Distribution"
   ]
  },
  {
   "cell_type": "markdown",
   "metadata": {},
   "source": [
    "In this module, you will learn how to work with something very important to probability and statistics: the normal distribution. The density curve for the normal distribution looks like a bell curve. This distribution describes the behaviour of many real-world phenomena, from average monthly rainfall to heights of students in your class. In this module, we look specifically at how to calculate probabilities relating to the normal distribution, and how to find quantiles of the normal distribution."
   ]
  },
  {
   "cell_type": "markdown",
   "metadata": {},
   "source": [
    "## Calculating Standard Normal Probabilities"
   ]
  },
  {
   "cell_type": "markdown",
   "metadata": {},
   "source": [
    "Suppose that we are working with observations from a standard normal distribution, and we want to know the probability of getting a value less than 1.50. You can get this probability from the table in your textbook, and it will be precise to 4 decimal places. However, suppose that we want to know the probability of getting an observation less than 1.524. Most tables do not let us look up numbers with three decimal places. In this case, the best we can say is that the probability we want is somewhere between the probabilities for 1.52 and 1.53. \n",
    "\n",
    "The \"pnorm()\" function in R calculates the probability of an observation being less than any value from a standard normal distribution. Suppose we want to find the probability that a point falls below some value. We can use the \"pnorm()\" function with the \"q\" input, setting \"q\" to the desired value. \n",
    "\n",
    "Let's calculate the probability of an observation being below several values: 1.5, 1.524, 1.52 and 1.53 on a standard normal distribution. We will also print some text to identify which probability corresponds to which value."
   ]
  },
  {
   "cell_type": "code",
   "execution_count": null,
   "metadata": {},
   "outputs": [],
   "source": [
    "print(\"Probability that a value falls below 1.5\")\n",
    "pnorm(q = 1.5)\n",
    "print(\"Probability that a value falls below 1.524\")\n",
    "pnorm(q = 1.524)\n",
    "print(\"Probability that a value falls below 1.52\")\n",
    "pnorm(q = 1.52)\n",
    "print(\"Probability that a value falls below 1.53\")\n",
    "pnorm(q = 1.53)"
   ]
  },
  {
   "cell_type": "markdown",
   "metadata": {},
   "source": [
    "Notice that we would have been correct in guessing that the probability of an observation being below 1.524 (about 0.9362) is between the probabilities for 1.52 (about 0.93574) and 1.53 (about 0.93699). However, the \"pnorm()\" function gives us the exact value for 1.524, rather than just a range. It also gives us much more than four decimal places for each probability. Four decimal places is enough for most applications, but it is nice to be able to get more of we need to."
   ]
  },
  {
   "cell_type": "markdown",
   "metadata": {},
   "source": [
    "## Calculating Upper-Tail Probabilities"
   ]
  },
  {
   "cell_type": "markdown",
   "metadata": {},
   "source": [
    "Sometimes we want to know the probability that an observation falls above a particular point on the standard normal distribution. One way to do this is to calculate the probability of an observation being below that point and subtracting it from 1. Let's use this method to find the probability of an observation being above 0.793."
   ]
  },
  {
   "cell_type": "code",
   "execution_count": null,
   "metadata": {},
   "outputs": [],
   "source": [
    "print(\"Probability that a value falls above 0.793\")\n",
    "1 - pnorm(q = 0.793)"
   ]
  },
  {
   "cell_type": "markdown",
   "metadata": {},
   "source": [
    "We could instead assign a variable name to the probability of being below 0.793, and subtract this variable from 1. Let's use the name \"p.below\" for the probability of being below 0.793."
   ]
  },
  {
   "cell_type": "code",
   "execution_count": null,
   "metadata": {},
   "outputs": [],
   "source": [
    "print(\"Probability that a value falls above 0.793\")\n",
    "p.below = pnorm(q = 0.793)\n",
    "1 - p.below"
   ]
  },
  {
   "cell_type": "markdown",
   "metadata": {},
   "source": [
    "*R Tip: Notice that the \"pnorm()\" function did not print anything this time. That is because we saved its output under the name \"p.below\". Most functions in R that calculate something will print out their answer unless you save it under a name. If we want to see the value of \"p.below\", we have to use the \"print()\" function on it. Similarly, if we don't want to see the value of \"1 - p.below\", we have to save it under a name.*"
   ]
  },
  {
   "cell_type": "code",
   "execution_count": null,
   "metadata": {},
   "outputs": [],
   "source": [
    "print(p.below)\n",
    "p.above = 1 - p.below"
   ]
  },
  {
   "cell_type": "markdown",
   "metadata": {},
   "source": [
    "*This is a useful bit of R knowledge that can help you diagnose why something is printing when it shouldn't be, or not printing when it should be.*"
   ]
  },
  {
   "cell_type": "markdown",
   "metadata": {},
   "source": [
    "Now back to computing probabilities. So far, we have had to calculate the probability that an observation falls above a certain point by subtracting from 1 the probability that the observation falls below that point. The \"pnorm()\" function has an optional input called \"lower.tail\" that lets us skip this step. If \"lower.tail\" is set to \"TRUE\" then the \"pnorm()\" function calculates the probability that an observation falls below the point. However, if \"lower.tail\" is set to \"FALSE\" then the \"pnorm()\" function calculates the probability that an observation falls above that value. If we're not calculating lower tail probabilities, then we must be calculating upper tail probabilities. This can save us some time when calculating right-tailed probabilities from the standard normal distribution. \n",
    "\n",
    "Let's calculate the probability that an observation falls above 0.793 on a standard normal distribution once more, this time using the \"pnorm()\" function with its \"lower.tail\" input set to \"FALSE\"."
   ]
  },
  {
   "cell_type": "code",
   "execution_count": null,
   "metadata": {},
   "outputs": [],
   "source": [
    "pnorm(q = 0.793, lower.tail=FALSE)"
   ]
  },
  {
   "cell_type": "markdown",
   "metadata": {},
   "source": [
    "Note that the default value of \"lower.tail\" is \"TRUE\", so if we do not include \"lower.tail\" in our \"pnorm()\" function, it will automatically be set to \"TRUE\" and we will get left-tailed probabilities."
   ]
  },
  {
   "cell_type": "markdown",
   "metadata": {},
   "source": [
    "## Calculating General Normal Probabilities"
   ]
  },
  {
   "cell_type": "markdown",
   "metadata": {},
   "source": [
    "Suppose that we are now working with a normal distribution with mean 5 and standard deviation 2 (that is, a N(5,2)). Let's find the probability that an observation falls below 6.284.\n",
    "\n",
    "We will calculate this probability in R using three steps. First, we enter the value 6.284, and give it a name, say \"x\" (lower case, remembering that R is case sensitive). Second, we standardize \"x\" by subtracting the mean, 5, and dividing by the standard deviation, 2. This gives us a Z-score. We will give the Z-score a name, say \"z\". Finally, we use \"z\" as the input for \"pnorm()\" to calculate the probability we are looking for. We don't need to give the probability a name because we want to see the value it produces. Here are the three steps in R code."
   ]
  },
  {
   "cell_type": "code",
   "execution_count": null,
   "metadata": {},
   "outputs": [],
   "source": [
    "x = 6.284\n",
    "z = (x - 5)/2 # The perentheses are important here. Remember order of operations.\n",
    "pnorm(q = z)"
   ]
  },
  {
   "cell_type": "markdown",
   "metadata": {},
   "source": [
    "Remember that anything following the \"#\" symbol is called a comment and is ignored by R.\n",
    "\n",
    "If we want to store this probability so that we can use it later, we can give it a name, say \"prob.below\". We would then need to use the \"print()\" function to see the value of this probability."
   ]
  },
  {
   "cell_type": "code",
   "execution_count": null,
   "metadata": {},
   "outputs": [],
   "source": [
    "x = 6.284\n",
    "z = (x - 5)/2 \n",
    "prob.below = pnorm(q = z)\n",
    "print(\"The probability that an observation falls below 6.284 is:\")\n",
    "print(prob.below)"
   ]
  },
  {
   "cell_type": "markdown",
   "metadata": {},
   "source": [
    "Since we did not include the \"lower.tail\" input, the \"pnorm()\" function uses the default value of \"TRUE\". This is exactly what we want here.\n",
    "\n",
    "Note that the \"print()\" function does not give us as many decimal places as we had when using the \"pnorm()\" function.. We can increase this, but seven decimal places is already more than enough for most purposes. \n",
    "\n",
    "*R Tip: If we want fewer decimal places (e.g. to make our output more readable), we can use the \"round()\" function. The \"round()\" function has two inputs: \"x\" and \"digits\". The \"x\" input is the value that we want to round, and \"digits\" is the number of decimal places that we want to keep. *\n",
    "\n",
    "*Let's round the probability in the previous code cell to four decimal places. We can keep using the name \"prob.below\" for this probability.*"
   ]
  },
  {
   "cell_type": "code",
   "execution_count": null,
   "metadata": {},
   "outputs": [],
   "source": [
    "round(x=prob.below, digits=4)"
   ]
  },
  {
   "cell_type": "markdown",
   "metadata": {},
   "source": [
    "In the code above, we were able use three lines of R code to find the probability that an observation from N(5,2) falls below the value 6.284. We can find this same probability with just one line of R code using the \"pnorm()\" function with the optional inputs \"mean\" and \"sd\" for mean and standard deviation respectively. Using these options, \"pnorm()\" will perform the standardization and find the probability all in one step.\n",
    "\n",
    "Let's calculate the probability that an observation falls below 6.284 on a normal distribution with mean 5 and standard deviation 2. In a previous code cell, we created a variable called \"x\" with the value 6.284. We can use \"x\" again here."
   ]
  },
  {
   "cell_type": "code",
   "execution_count": null,
   "metadata": {
    "scrolled": true
   },
   "outputs": [],
   "source": [
    "pnorm(q = x, mean = 5, sd = 2)"
   ]
  },
  {
   "cell_type": "markdown",
   "metadata": {},
   "source": [
    "*Note: We could use the \"round()\" function again to specify the number of decimal places that we want.*\n",
    "\n",
    "Let's calculate the probability that an observation falls above -3 on a normal distribution with mean -1 and standard deviation 5. To do this, we need to put together all the optional inputs that we have learned for the \"pnorm()\" function. "
   ]
  },
  {
   "cell_type": "code",
   "execution_count": null,
   "metadata": {},
   "outputs": [],
   "source": [
    "pnorm(q = -3, mean = -1, sd = 5, lower.tail=FALSE)"
   ]
  },
  {
   "cell_type": "markdown",
   "metadata": {},
   "source": [
    "This one line of code produces the same output as the following four lines."
   ]
  },
  {
   "cell_type": "code",
   "execution_count": null,
   "metadata": {},
   "outputs": [],
   "source": [
    "y = -3\n",
    "w = (y - (-1))/5\n",
    "new.prob.below = pnorm(w)\n",
    "1 - new.prob.below"
   ]
  },
  {
   "cell_type": "markdown",
   "metadata": {},
   "source": [
    "## Finding Standard Normal Quantiles"
   ]
  },
  {
   "cell_type": "markdown",
   "metadata": {},
   "source": [
    "Suppose that we want to find the value on a standard normal distribution that has a cumulative proportion (i.e. probability) of 0.7. You might try using your textbook, but the probability 0.7 does not show up in most standard normal tables. This means we could only say that the value we are looking for is between 0.52 and 0.53. You can check this in your book.\n",
    "\n",
    "Fortunately, we can find an exact answer to this problem using the \"qnorm()\" function. We use the \"qnorm()\" function in much the same way as the \"pnorm\" function, but \"qnorm()\" gives us values corresponding to probabilities while \"pnorm()\" gives us probabilities corresponding to values. The main input for \"qnorm()\" is called \"p\". This is the cumulative proportion corresponding to the value that we want to find.\n",
    "\n",
    "We can now find the point on a standard normal distribution that has 0.7 probability below it."
   ]
  },
  {
   "cell_type": "code",
   "execution_count": null,
   "metadata": {},
   "outputs": [],
   "source": [
    "qnorm(p = 0.7)"
   ]
  },
  {
   "cell_type": "markdown",
   "metadata": {},
   "source": [
    "Let's double-check that the resulting value (0.524400512708041) actually has 0.7 probability below it by using the \"pnorm()\" function."
   ]
  },
  {
   "cell_type": "code",
   "execution_count": null,
   "metadata": {},
   "outputs": [],
   "source": [
    "pnorm(0.524400512708041)"
   ]
  },
  {
   "cell_type": "markdown",
   "metadata": {},
   "source": [
    "Alternatively, we could save the value given by \"qnorm()\" as a name, say \"value\". We can then use the \"pnorm()\" function on \"value\". This means we don't have to copy and paste the output from \"qnorm()\" into \"pnorm()\"."
   ]
  },
  {
   "cell_type": "code",
   "execution_count": null,
   "metadata": {},
   "outputs": [],
   "source": [
    "value = qnorm(p = 0.7)\n",
    "pnorm(value)"
   ]
  },
  {
   "cell_type": "markdown",
   "metadata": {},
   "source": [
    "## Finding General Normal Quantiles"
   ]
  },
  {
   "cell_type": "markdown",
   "metadata": {},
   "source": [
    "As you might have guessed, the \"qnorm()\" function has several optional inputs. They are the same ones we used for the \"pnorm()\" function. \n",
    "\n",
    "We can use the \"lower.tail\" input to tell R whether we are specifying the lower-tail or upper-tail probability. If we want the value that has a certain probability below it, we set \"lower.tail\" equal to \"TRUE\". Alternatively, if we want the point that has a certain probability above it, we set \"lower.tail\" equal to \"FALSE\". In \"qnorm()\", the default value of \"lower.tail\" is \"TRUE\", just like in \"pnorm()\". If we don't specify the value of \"lower.tail\", it is automatically set to \"TRUE\".\n",
    "\n",
    "Let's use the \"lower.tail\" option in \"qnorm()\" to find the point on the standard normal distribution that has 0.2 probability above it. That means we have to set \"lower.tail\" equal to \"FALSE\"."
   ]
  },
  {
   "cell_type": "code",
   "execution_count": null,
   "metadata": {},
   "outputs": [],
   "source": [
    "qnorm(p = 0.2, lower.tail=FALSE)"
   ]
  },
  {
   "cell_type": "markdown",
   "metadata": {},
   "source": [
    "The \"qnorm()\" function has optional inputs that let us set the mean and standard deviation of our normal distribution. These inputs are called \"mean\" and \"sd\" respectively.\n",
    "\n",
    "Let's use the \"mean\" and \"sd\" inputs with \"qnorm()\" to find the point that has probability 0.45 below it on a normal distribution with mean 1 and standard deviation 10. We are letting \"qnorm()\" use the default setting for \"lower.tail\"."
   ]
  },
  {
   "cell_type": "code",
   "execution_count": null,
   "metadata": {},
   "outputs": [],
   "source": [
    "qnorm(p = 0.45, mean = 1, sd = 10)"
   ]
  },
  {
   "cell_type": "markdown",
   "metadata": {},
   "source": [
    "Let's put together all the optional inputs for \"qnorm()\" to find the point that has probability 0.05 above it on a normal distribution with mean -3 and standard deviation 0.2."
   ]
  },
  {
   "cell_type": "code",
   "execution_count": null,
   "metadata": {},
   "outputs": [],
   "source": [
    "qnorm(p = 0.05, mean = -3, sd = 0.2, lower.tail = FALSE)"
   ]
  }
 ],
 "metadata": {
  "kernelspec": {
   "display_name": "R",
   "language": "R",
   "name": "ir"
  },
  "language_info": {
   "codemirror_mode": "r",
   "file_extension": ".r",
   "mimetype": "text/x-r-source",
   "name": "R",
   "pygments_lexer": "r",
   "version": "3.3.2"
  }
 },
 "nbformat": 4,
 "nbformat_minor": 1
}
