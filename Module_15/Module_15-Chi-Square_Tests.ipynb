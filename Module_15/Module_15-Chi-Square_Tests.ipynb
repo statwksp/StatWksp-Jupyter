{
 "cells": [
  {
   "cell_type": "markdown",
   "metadata": {},
   "source": [
    "# Module 15: Chi-Square Tests"
   ]
  },
  {
   "cell_type": "markdown",
   "metadata": {},
   "source": [
    "In this module, we examine how to use the chi-square test to study different relationships in one- and two-way tables. Specifically we are able to test for independence and homogeneity in two-way tables and goodness-of-fit in one-way tables."
   ]
  },
  {
   "cell_type": "markdown",
   "metadata": {},
   "source": [
    "## Two-Way Tables Review"
   ]
  },
  {
   "cell_type": "markdown",
   "metadata": {},
   "source": [
    "In Module 7, we studied a dataset that measured peoples' preference for milk or water and their preference for cookies or fruit. This dataset contains one row per individual that lists their snack preference and their drink preference. We can turn this into a two-way table using the \"table()\" function in R.\n",
    "\n",
    "Let's read-in this dataset, print out the first few observations using \"head()\", then print out the corresponding two-way table."
   ]
  },
  {
   "cell_type": "code",
   "execution_count": 1,
   "metadata": {
    "collapsed": false
   },
   "outputs": [
    {
     "data": {
      "text/html": [
       "<table>\n",
       "<thead><tr><th></th><th scope=col>Snack</th><th scope=col>Drink</th></tr></thead>\n",
       "<tbody>\n",
       "\t<tr><th scope=row>1</th><td>Milk  </td><td>Cookie</td></tr>\n",
       "\t<tr><th scope=row>2</th><td>Milk </td><td>Fruit</td></tr>\n",
       "\t<tr><th scope=row>3</th><td>Milk </td><td>Fruit</td></tr>\n",
       "\t<tr><th scope=row>4</th><td>Milk  </td><td>Cookie</td></tr>\n",
       "\t<tr><th scope=row>5</th><td>Water </td><td>Cookie</td></tr>\n",
       "\t<tr><th scope=row>6</th><td>Water </td><td>Cookie</td></tr>\n",
       "</tbody>\n",
       "</table>\n"
      ],
      "text/latex": [
       "\\begin{tabular}{r|ll}\n",
       "  & Snack & Drink\\\\\n",
       "\\hline\n",
       "\t1 & Milk   & Cookie\\\\\n",
       "\t2 & Milk  & Fruit\\\\\n",
       "\t3 & Milk  & Fruit\\\\\n",
       "\t4 & Milk   & Cookie\\\\\n",
       "\t5 & Water  & Cookie\\\\\n",
       "\t6 & Water  & Cookie\\\\\n",
       "\\end{tabular}\n"
      ],
      "text/plain": [
       "  Snack  Drink\n",
       "1  Milk Cookie\n",
       "2  Milk  Fruit\n",
       "3  Milk  Fruit\n",
       "4  Milk Cookie\n",
       "5 Water Cookie\n",
       "6 Water Cookie"
      ]
     },
     "metadata": {},
     "output_type": "display_data"
    },
    {
     "data": {
      "text/plain": [
       "       \n",
       "        Cookie Fruit\n",
       "  Milk      43    24\n",
       "  Water     19    14"
      ]
     },
     "metadata": {},
     "output_type": "display_data"
    }
   ],
   "source": [
    "data = read.csv(\"Snacks.csv\")\n",
    "head(data)\n",
    "table(data$Snack, data$Drink)"
   ]
  },
  {
   "cell_type": "markdown",
   "metadata": {},
   "source": [
    "## Test for Independence"
   ]
  },
  {
   "cell_type": "markdown",
   "metadata": {},
   "source": [
    "The first chi-square test that we examine is for independence. Our null hypothesis is that the two variables in our contingency table are independent, and our alternative hypothesis is that they are dependent. We test these hypotheses with a chi-square test.\n",
    "\n",
    "We carry out chi-square tests in R using the \"chisq.test()\" function. This function has one main input: \"x\". This \"x\" input is the two-way table for our dataset.\n",
    "\n",
    "Let's test the hypothesis that snack and drink choices are independent using our sample from the previous section."
   ]
  },
  {
   "cell_type": "code",
   "execution_count": 2,
   "metadata": {
    "collapsed": false
   },
   "outputs": [
    {
     "data": {
      "text/plain": [
       "\n",
       "\tPearson's Chi-squared test with Yates' continuity correction\n",
       "\n",
       "data:  data.tab\n",
       "X-squared = 0.17692, df = 1, p-value = 0.674\n"
      ]
     },
     "metadata": {},
     "output_type": "display_data"
    }
   ],
   "source": [
    "data.tab = table(data$Snack, data$Drink) #Save the two-way table\n",
    "chisq.test(data.tab)"
   ]
  },
  {
   "cell_type": "markdown",
   "metadata": {},
   "source": [
    "The p-value for our test is 0.674, so we do not have enough evidence to conclude that snack and drink choice are dependent."
   ]
  },
  {
   "cell_type": "markdown",
   "metadata": {},
   "source": [
    "## Test for Homogeneity"
   ]
  },
  {
   "cell_type": "markdown",
   "metadata": {},
   "source": [
    "There is a slightly different chi-square test called a test for homogeneity. This test assumes that we sample a fixed number of individuals in each category of one of our variables.\n",
    "\n",
    "For example, of the people in our study, we might have chosen to sample only 10 milk drinkers and 10 water drinkers. We could then ask whether snack preferences differ between the milk and water drinking populations.\n",
    "\n",
    "Our null hypothesis "
   ]
  }
 ],
 "metadata": {
  "kernelspec": {
   "display_name": "R",
   "language": "R",
   "name": "ir"
  },
  "language_info": {
   "codemirror_mode": "r",
   "file_extension": ".r",
   "mimetype": "text/x-r-source",
   "name": "R",
   "pygments_lexer": "r",
   "version": "3.3.1"
  }
 },
 "nbformat": 4,
 "nbformat_minor": 1
}
