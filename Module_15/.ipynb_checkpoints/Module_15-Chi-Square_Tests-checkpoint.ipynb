{
 "cells": [
  {
   "cell_type": "markdown",
   "metadata": {},
   "source": [
    "# Module 15: Chi-Square Tests"
   ]
  },
  {
   "cell_type": "markdown",
   "metadata": {},
   "source": [
    "In this module, we examine how to use the chi-square test to study different relationships in one- and two-way tables. Specifically we are able to test for independence and homogeneity in two-way tables and goodness-of-fit in one-way tables."
   ]
  },
  {
   "cell_type": "markdown",
   "metadata": {},
   "source": [
    "## Two-Way Tables Review"
   ]
  },
  {
   "cell_type": "markdown",
   "metadata": {},
   "source": [
    "In Module 7, we studied a dataset that measured peoples' preference for milk or water and their preference for cookies or fruit. This dataset contains one row per individual that lists their snack preference and their drink preference. We can turn this into a two-way table using the \"table()\" function in R.\n",
    "\n",
    "Let's read-in this dataset, print out the first few observations using \"head()\", then print out the corresponding two-way table."
   ]
  },
  {
   "cell_type": "code",
   "execution_count": null,
   "metadata": {},
   "outputs": [],
   "source": [
    "data = read.csv(\"Snacks.csv\")\n",
    "head(data)\n",
    "data.table = table(data$Snack, data$Drink)\n",
    "print(data.table)"
   ]
  },
  {
   "cell_type": "markdown",
   "metadata": {},
   "source": [
    "## Packages and CrossTable"
   ]
  },
  {
   "cell_type": "markdown",
   "metadata": {},
   "source": [
    "The default way to display two-way tables in R is pretty awkward. We can make pretties two-way tables using something called a \"Package\". Packages are programs that have been written by other people and are free to use. They are a great way to do more complicated things in R without having to write a ton of code yourself. The package that we are going to use is called \"gmodels\".\n",
    "\n",
    "There are many packages in R, so before we can use one we may have to download it first. To download a package in R, we use the \"install.packages()\" function. This function has a single input: the name of the package that we want to download. Let's download the \"gmodels\" package now. This may take a few minutes depending on how fast your internet and computer are."
   ]
  },
  {
   "cell_type": "code",
   "execution_count": null,
   "metadata": {},
   "outputs": [],
   "source": [
    "install.packages(\"gmodels\")"
   ]
  },
  {
   "cell_type": "markdown",
   "metadata": {},
   "source": [
    "Downloading a package in R makes it available to us, but we still have to tell R that we want to use it. This is called \"loading\" a package. We load packages in R using the \"library()\" function. Much like \"install.packages()\", the \"library()\" function has a single input: the name of the package we want to load. You won't see any output when you run the \"library()\" function, but you know it worked if you don't get any errors. Let's load the \"gmodels\" package. "
   ]
  },
  {
   "cell_type": "code",
   "execution_count": null,
   "metadata": {
    "collapsed": true
   },
   "outputs": [],
   "source": [
    "library(\"gmodels\")"
   ]
  },
  {
   "cell_type": "markdown",
   "metadata": {},
   "source": [
    "Now that we have loaded \"gmodels\", we can start using it. The \"gmodels\" package contains many functions, but we are only going to use one called \"CrossTable()\". The \"CrossTable()\" function has one main input: our table of data. Let's run \"CrossTable()\" on the \"data.table\" object that we made in the last section."
   ]
  },
  {
   "cell_type": "code",
   "execution_count": null,
   "metadata": {},
   "outputs": [],
   "source": [
    "CrossTable(data.table)"
   ]
  },
  {
   "cell_type": "markdown",
   "metadata": {},
   "source": [
    "This new table gives us a lot of information. In each cell we get the number of observations, the \"chi-square contribution\" (more on this later), the row and column proportions (conditional proportions, see Module 7), and the proportion of all observations in that cell. This is a lot of information, but it is summarized nicely just above our table in the box labelled \"Cell Contents\". We also get the proportion of observations in each row at the end of the row (the marginal distributions), and the proportion in each column. Finally, the bottom right cell is the total number of observations."
   ]
  },
  {
   "cell_type": "markdown",
   "metadata": {},
   "source": [
    "## Test for Independence"
   ]
  },
  {
   "cell_type": "markdown",
   "metadata": {},
   "source": [
    "The first chi-square test that we examine is for independence. Our null hypothesis is that the two variables in our contingency table are independent, and our alternative hypothesis is that they are dependent. We test these hypotheses with a chi-square test.\n",
    "\n",
    "P-values for a chi-square test are always calculated as if the test were one-sided, even though the null hypothesis does not specify a direction. The chi-square distribution has degrees of freedom, similar to the T-distribution. The number of degrees of freedom for the chi-square test for independence is the number of rows in our two-way table minus one, times the number of columns minus one.\n",
    "\n",
    "We carry out chi-square tests in R using the \"chisq.test()\" function. This function has one main input: \"x\". This \"x\" input is the two-way table for our dataset.\n",
    "\n",
    "Let's test the hypothesis that snack and drink choices are independent using our sample from the previous section."
   ]
  },
  {
   "cell_type": "code",
   "execution_count": null,
   "metadata": {},
   "outputs": [],
   "source": [
    "data.tab = table(data$Snack, data$Drink) #Save the two-way table\n",
    "chisq.test(data.tab)"
   ]
  },
  {
   "cell_type": "markdown",
   "metadata": {},
   "source": [
    "The p-value for our test is 0.674, so we do not have enough evidence to conclude that snack and drink choice are dependent. Notice that the degrees of freedom is the number of rows (2) minus one, times the number of columns (2) minus one, which is 1*1=1.\n",
    "\n",
    "In the textbook, you can see that the chi-squared test statistic is obtained by adding together a quantity for each cell. These quantities are the \"chi-square contributions\" given by the \"CrossTable()\" function. We can suppress the \"chi-square contributions\" entries by setting the \"chisq\" option to \"FALSE\" inside the \"CrossTable()\" function. The other information in the cells can also be suppressed by setting other optional inputs to \"FALSE\". See the help file for the \"CrossTable()\" function for more information.\n",
    "\n",
    "One output that is not included by default in the \"CrossTable()\" function is expected cell counts. These are used to calculate the \"chi-square contribution\" for each cell. We can get expected cell counts by setting the \"expected\" input to \"TRUE\" inside \"CrossTable()\"."
   ]
  },
  {
   "cell_type": "markdown",
   "metadata": {},
   "source": [
    "## Test for Homogeneity"
   ]
  },
  {
   "cell_type": "markdown",
   "metadata": {},
   "source": [
    "There is a slightly different chi-square test called a test for homogeneity. This test assumes that we sample a fixed number of individuals in each category for one of our variables.\n",
    "\n",
    "For example, of the people in our study, we might have chosen to sample only 10 milk drinkers and 10 water drinkers. We could then ask whether snack preferences differ between the milk and water drinking populations.\n",
    "\n",
    "Our null hypothesis is that the proportion of people who prefer cookies over fruit is the same among milk drinkers and water drinkers. That is, our hypothesis says that the distributions of snack preference among milk drinkers and water drinkers are 'homogeneous', or 'the same'.\n",
    "\n",
    "We test this hypothesis in exactly the same way as we do for the hypothesis of independence. We use the same function, \"chi.test()\" with the same input, \"x\". The degrees of freedom is also still the same, number of rows minus one, times number of columns minus one."
   ]
  },
  {
   "cell_type": "markdown",
   "metadata": {},
   "source": [
    "All that changes between the tests for independence and homogeneity are the assumptions we make about our data and what we can conclude. When testing for independence, we assume that the number of individuals in our study is chosen before gathering data, while the test for homogeneity requires that we choose the number of individuals in each group. The test for independence allows us to conclude that there is dependence between the two variables we measured, while the test for homogeneity allows us to conclude that the distribution of the variable we measure is different between groups."
   ]
  },
  {
   "cell_type": "markdown",
   "metadata": {},
   "source": [
    "## Test for Goodness of Fit"
   ]
  },
  {
   "cell_type": "markdown",
   "metadata": {
    "collapsed": true
   },
   "source": [
    "The last type of chi-square test we will study is for goodness of fit. This test allows us to examine hypotheses about single populations where we completely specify the distribution.\n",
    "\n",
    "Degrees of freedom are calculated differently for the chi-square goodness of fit test. We now use one less than the number of categories specified in our null hypothesis. \n",
    "\n",
    "For example, suppose you heard that 20 percent of all students fail introductory statistics, and that only five percent get an A. This means that 20 percent of students fail, five percent get an A, and the other 75 percent pass but don't get A's. Let's test this hypothesis using the following dataset inspired by data from an actual introductory statistics course at Simon Fraser University."
   ]
  },
  {
   "cell_type": "code",
   "execution_count": null,
   "metadata": {
    "collapsed": true
   },
   "outputs": [],
   "source": [
    "#Number of people with F, P, D, C, B, A respectively\n",
    "grades = c(9, 9, 20, 50, 59, 22)"
   ]
  },
  {
   "cell_type": "markdown",
   "metadata": {},
   "source": [
    "Remember that the groups we are interested in are 'fail', 'pass but not A' and 'A'. These are different from the categories we were given. We therefore have to process the data before we can do any analysis.\n",
    "\n",
    "The failing and A grades are already in the dataset (9 people and 22 people respectively), but the other category requires that we add the other four categories together. Remember that we get a single value from a list using square brackets, \"[]\"."
   ]
  },
  {
   "cell_type": "code",
   "execution_count": null,
   "metadata": {},
   "outputs": [],
   "source": [
    "#Get all the values from our list\n",
    "fail = grades[1]\n",
    "A = grades[6]\n",
    "B = grades[5]\n",
    "C = grades[4]\n",
    "D = grades[3]\n",
    "P = grades[2]\n",
    "\n",
    "#Create a 'Pass' category\n",
    "pass = B + C + D + P\n",
    "\n",
    "#Print out how many people are in each category\n",
    "print(\"A's:\")\n",
    "print(A)\n",
    "print(\"Pass but not A:\")\n",
    "print(pass)\n",
    "print(\"Fail:\")\n",
    "print(fail)"
   ]
  },
  {
   "cell_type": "markdown",
   "metadata": {},
   "source": [
    "Note that there are 171 students in this class. Our hypothesis says that 20 percent fail, 75 percent pass but don't get an A, and five percent get an A. This means that we would expect about 34 students to fail (0.20*171=34.2), about 128 students to pass but not get A's (0.75*171=128.25), and about 9 students to get A's (0.05*171=8.55). The goodness of fit chi-square tests compares these expected values to our observed values.\n",
    "\n",
    "Let's test our hypothesis in R using the \"chisq.test()\" function. We need to use a new input, \"p\", to specify the probability of each category under our null hypothesis. The order that we use when entering probabilities for \"p\" must match the order that we use for entering the number of people in each category for \"x\"."
   ]
  },
  {
   "cell_type": "code",
   "execution_count": null,
   "metadata": {},
   "outputs": [],
   "source": [
    "#Create a list of how many people are in each category\n",
    "groups = c(fail, pass, A)\n",
    "\n",
    "#Create a list of the probability of being \n",
    "#in each category under our null hypothesis\n",
    "probabilities = c(0.20, 0.75, 0.05)\n",
    "\n",
    "#Carry out the chi-square goodness of fit test\n",
    "chisq.test(x=groups, p=probabilities)"
   ]
  },
  {
   "cell_type": "markdown",
   "metadata": {},
   "source": [
    "The p-value of our test is very small, so we can reject our null hypothesis and conclude that the grade breakdown we heard is wrong (at least for the year we have data for). Notice that we have two degrees of freedom because our null hypothesis describes three groups."
   ]
  }
 ],
 "metadata": {
  "kernelspec": {
   "display_name": "R",
   "language": "R",
   "name": "ir"
  },
  "language_info": {
   "codemirror_mode": "r",
   "file_extension": ".r",
   "mimetype": "text/x-r-source",
   "name": "R",
   "pygments_lexer": "r",
   "version": "3.3.2"
  }
 },
 "nbformat": 4,
 "nbformat_minor": 1
}
