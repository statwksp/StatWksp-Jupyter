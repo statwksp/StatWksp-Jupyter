{
 "cells": [
  {
   "cell_type": "markdown",
   "metadata": {},
   "source": [
    "# Module 14: Inference for Two Population Proportions"
   ]
  },
  {
   "cell_type": "markdown",
   "metadata": {},
   "source": [
    "In this module, we look at how to handle two populations, each of which has a different proportion of members with some property. In particular, we want to study the difference between these two population proportions; usually with a null hypothesis that the difference is zero"
   ]
  },
  {
   "cell_type": "markdown",
   "metadata": {},
   "source": [
    "## Confidence Intervals"
   ]
  },
  {
   "cell_type": "markdown",
   "metadata": {},
   "source": [
    "We can construct a confidence interval for the difference between these proportions. Our confidence interval takes the usual form: estimate $\\pm$ critical value $*$ standard error. We estimate the difference between the population proportions using the difference between our sample proportions. Our standard error is very close to the sum of the standard errors that we would use for each population separately. Our critical value is from a standard normal.\n",
    "\n",
    "For example, suppose we ask 50 Canadians and 50 Americans whether they prefer coffee or tea. The results of this survey are given in the following code cell. We create a $95\\%$ confidence interval for the difference between the proportion of Canadians and Americans that prefer coffee over tea."
   ]
  },
  {
   "cell_type": "code",
   "execution_count": null,
   "metadata": {},
   "outputs": [],
   "source": [
    "n = 50 #Sample size (same for both countries)\n",
    "coffee.Can = 26 #Number of Canadians that prefer coffee\n",
    "coffee.US = 34 #Number of Americans that prefer coffee\n",
    "\n",
    "#Estimate the difference in population proportions\n",
    "p.hat.Can = coffee.Can/n #Proportion of Canadians that prefer coffee\n",
    "p.hat.US = coffee.US/n #Proportion of Americans that prefer coffee\n",
    "diff = p.hat.Can - p.hat.US\n",
    "\n",
    "#Get the standard error of the difference in sample proportions\n",
    "var.Can = p.hat.Can*(1-p.hat.Can)/n #Variance of p.hat.Can\n",
    "var.US = p.hat.US*(1-p.hat.US)/n #Variance of p.hat.US\n",
    "SE = sqrt(var.Can + var.US)\n",
    "\n",
    "#Construct our confidence interval\n",
    "Z.star = qnorm(p=0.975)\n",
    "MOE = Z.star * SE\n",
    "lcl = diff - MOE\n",
    "ucl = diff + MOE\n",
    "\n",
    "#Print our results\n",
    "print(\"Confidence interval is from\")\n",
    "print(lcl)\n",
    "print(\"to\")\n",
    "print(ucl)"
   ]
  },
  {
   "cell_type": "markdown",
   "metadata": {},
   "source": [
    "*R Tip: Notice that we split up our program into segments. This is a helpful way to stay organized when you're writing longer programs. Remember to add a comment at the start of each segment to remind you what that segment does. It is also often helpful to print some of the intermediate results to make sure they are being calculated the way you want.*"
   ]
  },
  {
   "cell_type": "markdown",
   "metadata": {},
   "source": [
    "## Hypothesis Tests"
   ]
  },
  {
   "cell_type": "markdown",
   "metadata": {},
   "source": [
    "We might also want to test hypotheses about the difference between two population proportions. The usual null hypothesis is that both populations have the same proportion. An equivalent way to state this null hypothesis is that the difference between the population proportions is zero. Our alternative hypothesis can be that the difference between the population proportions is greater than zero, less than zero or not equal to zero.\n",
    "\n",
    "Our test statistic is calculated in following way: estimated difference / standard error. We don't need to include a null hypothesis value because our null hypothesis says that the difference is zero. \n",
    "\n",
    "We calculate our standard error using a 'pooled proportion', $\\hat{p}$. This $\\hat{p}$ is the total number of individuals with our property of interest divided by the total number of individuals surveyed across both populations. \n",
    "\n",
    "Our standard error is: $\\sqrt{\\hat{p} (1-\\hat{p})((1/n_1) + (1/n_2))}$, where $n_1$ is the size of the sample from population 1 and $n_2$ is the size of the sample from population 2.\n",
    "\n",
    "Suppose that we repeat our study comparing tea drinkers and coffee drinkers, but this time we survey 50 people from China and 60 people from Brazil. Let's test the hypothesis that there is no difference in the proportion of coffee drinkers across these two countries."
   ]
  },
  {
   "cell_type": "code",
   "execution_count": null,
   "metadata": {},
   "outputs": [],
   "source": [
    "n.Ch = 50 #Number of Chinese people surveyed\n",
    "n.Br = 60 #Number of Brazilian people surveyed\n",
    "coffee.Ch = 3 #Number of Chinese people that prefer coffee\n",
    "coffee.Br = 56 #Number of Brazilian people that prefer coffee\n",
    "\n",
    "#Estimate the difference in population proportions\n",
    "p.hat.Ch = coffee.Ch/n.Ch #Proportion of Chinese people that prefer coffee\n",
    "p.hat.Br = coffee.Br/n.Br #Proportion of Brazilian people that prefer coffee\n",
    "diff = p.hat.Ch - p.hat.Br\n",
    "print(\"Difference is:\")\n",
    "print(diff)\n",
    "\n",
    "#Get the standard error of the difference in sample proportions\n",
    "p.pooled = (coffee.Ch + coffee.Br)/(n.Ch + n.Br) #Pooled proportion of coffee drinkers\n",
    "SE = sqrt(p.pooled*(1-p.pooled)*((1/n.Ch) + (1/n.Br)))\n",
    "print(\"Standard error is:\")\n",
    "print(SE)\n",
    "\n",
    "#Calculate our test statistic and p-value\n",
    "stat = diff/SE\n",
    "p.value = 2*pnorm(abs(stat), lower.tail=F)\n",
    "print(\"P-value is:\")\n",
    "print(p.value)"
   ]
  },
  {
   "cell_type": "markdown",
   "metadata": {},
   "source": [
    "This p-value is very small, so we can conclude that there is a difference in the proportion of people who prefer coffee over tea between China and Brazil. In fact, according to a 2012 survey, Brazil is one of the most coffee preferring countries, and China is one of the least."
   ]
  }
 ],
 "metadata": {
  "kernelspec": {
   "display_name": "R",
   "language": "R",
   "name": "ir"
  },
  "language_info": {
   "codemirror_mode": "r",
   "file_extension": ".r",
   "mimetype": "text/x-r-source",
   "name": "R",
   "pygments_lexer": "r",
   "version": "3.3.2"
  }
 },
 "nbformat": 4,
 "nbformat_minor": 1
}
