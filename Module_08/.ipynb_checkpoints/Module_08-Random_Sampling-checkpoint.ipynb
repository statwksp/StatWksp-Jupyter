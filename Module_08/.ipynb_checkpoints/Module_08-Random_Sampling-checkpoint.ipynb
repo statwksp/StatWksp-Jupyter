{
 "cells": [
  {
   "cell_type": "markdown",
   "metadata": {},
   "source": [
    "# Module 8: Random Sampling"
   ]
  },
  {
   "cell_type": "markdown",
   "metadata": {},
   "source": [
    "In this module, you will learn how to randomly generate numbers in R. This is useful for selecting a simple random sample in observational studies and for assigning individuals to treatments in experiments."
   ]
  },
  {
   "cell_type": "markdown",
   "metadata": {},
   "source": [
    "## Generating Random Numbers"
   ]
  },
  {
   "cell_type": "markdown",
   "metadata": {},
   "source": [
    "R has many ways of generating random numbers. In this module, we focus on the \"sample()\" function. This function draws some number of values from a list. To be more specific, let’s say you want to draw a sample of size n from a population of size N. You’ll first want to assign a unique ID number between 1 and N to each member of the population. \n",
    "\n",
    "You can create a list of numbers between 1 and N in R using the \":\" function. To do this, write 1, followed by \":\", followed by the number you want your list to end at. Let's make a list of the numbers between 1 and 10."
   ]
  },
  {
   "cell_type": "code",
   "execution_count": null,
   "metadata": {},
   "outputs": [],
   "source": [
    "1:10"
   ]
  },
  {
   "cell_type": "markdown",
   "metadata": {},
   "source": [
    "In order to sample from a population, we first sample from the numbers between 1 and 10, then sample the individuals in your population with the corresponding labels. We therefore need to be able to draw a sample of size n from the numbers between 1 and N. We do this in R using the \"sample()\" function.\n",
    "\n",
    "The \"sample()\" function has two required inputs: \"x\" and \"size\". The \"x\" input is the list of values that we want to draw a sample from (i.e., the population). The \"size\" input is the number of values we want to sample (i.e., the sample size). \n",
    "\n",
    "If we want to sample values between 1 and N, then we must set \"x\" equal to a list containing all the numbers between 1 and N. We can generate this list in R using \":\". We then set \"size\" equal to n, the size of our sample.\n",
    "\n",
    "Let's make a list of all the values from 1 to 100, then randomly sample 20 of them."
   ]
  },
  {
   "cell_type": "code",
   "execution_count": null,
   "metadata": {},
   "outputs": [],
   "source": [
    "our.list = 1:100\n",
    "sample(x=our.list, size=20)"
   ]
  },
  {
   "cell_type": "markdown",
   "metadata": {},
   "source": [
    "Try re-running the last cell a few times. As you might expect, you will get a different list of numbers each time. \n",
    "\n",
    "Sometimes we may want to be able to generate the same sample again. We are able to do this because the procedure that R uses to generate random numbers is actually not random at all, just really complicated. This is called pseudo-random number generation. R uses a 'random seed' to determine where to start this complicated procedure for generating pseudo-random numbers. If we choose a fixed random seed, then we will get the same 'random' numbers every time we re-run the code. We can fix the random seed in R using the \"set.seed()\" function. \n",
    "\n",
    "The \"set.seed()\" function has only one input: \"seed\". The \"seed\" input tells R what random seed. The \"seed\" input can be any number, although typically people don't use more than eight digits. \n",
    "\n",
    "Let's again generate 20 numbers between 1 and 100, but this time we will set the random seed to 12345678. Remember that if a function has only one input we do not need to include the name of that input."
   ]
  },
  {
   "cell_type": "code",
   "execution_count": null,
   "metadata": {},
   "outputs": [],
   "source": [
    "set.seed(12345678)\n",
    "sample(x=our.list, size=20)"
   ]
  },
  {
   "cell_type": "markdown",
   "metadata": {},
   "source": [
    "You can run this cell as many times as you want; you will get the same answer every time. The \"set.seed()\" function allows us to make sure our work is reproducible, by making sure that we get the can get the same sample every time."
   ]
  },
  {
   "cell_type": "markdown",
   "metadata": {},
   "source": [
    "## Review Topic: Sampling From a Population in R"
   ]
  },
  {
   "cell_type": "markdown",
   "metadata": {},
   "source": [
    "Suppose that we have a list of all the members of a population in R, and we need to select which ones to sample. For example, we might have a list of people in a class, and we want to ask some of them what their major is. In order to do this, we will need to index the list of names. We discuss how to index a list in Module 7. We now expand upon these ideas a bit.\n",
    "\n",
    "Suppose that we have a list of names called \"names\", and we want to get the first and third elements of that list. Remember that we can get the first element using \"names[1]\" and the third element using \"names[3]\". To get both of these elements, we index our list with another list.\n",
    "\n"
   ]
  },
  {
   "cell_type": "code",
   "execution_count": null,
   "metadata": {},
   "outputs": [],
   "source": [
    "#Import our data and obtain the corresponding list\n",
    "data = read.csv(\"Names.csv\")\n",
    "names = data$Name\n",
    "\n",
    "#Index our list with another list\n",
    "names[c(1,3)]"
   ]
  },
  {
   "cell_type": "markdown",
   "metadata": {},
   "source": [
    "Remember that the \"c()\" function produces a list containing the elements inside the parentheses.\n",
    "\n",
    "The file \"Names.csv\" contains a list of 100 people. Let's choose 20 of them for our sample. Remember that the \"sample()\" function produces a list of numbers that can be used for indexing. Try writing some code to do this yourself before you look at the solution."
   ]
  },
  {
   "cell_type": "code",
   "execution_count": null,
   "metadata": {},
   "outputs": [],
   "source": [
    "#Import the dataset\n",
    "data = read.csv(\"Names.csv\")\n",
    "head(data)\n",
    "\n",
    "#Generate a sample of numbers\n",
    "sample.numbers = sample(x=1:100, size=20)\n",
    "\n",
    "#Choose the corresponding people\n",
    "sample.names = data$Name[sample.numbers]\n",
    "print(sample.names)"
   ]
  },
  {
   "cell_type": "markdown",
   "metadata": {},
   "source": [
    "Our final answer is a list of 20 names. We can ignore the part that says \"100 Levels:...\"."
   ]
  }
 ],
 "metadata": {
  "kernelspec": {
   "display_name": "R",
   "language": "R",
   "name": "ir"
  },
  "language_info": {
   "codemirror_mode": "r",
   "file_extension": ".r",
   "mimetype": "text/x-r-source",
   "name": "R",
   "pygments_lexer": "r",
   "version": "3.3.2"
  }
 },
 "nbformat": 4,
 "nbformat_minor": 1
}
