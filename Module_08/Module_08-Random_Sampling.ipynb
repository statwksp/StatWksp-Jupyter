{
 "cells": [
  {
   "cell_type": "markdown",
   "metadata": {},
   "source": [
    "# Module 8: Random Sampling"
   ]
  },
  {
   "cell_type": "markdown",
   "metadata": {},
   "source": [
    "In this module, you will learn how to randomly generate numbers in R. This is useful for selecting a simple random sample in observational studies and for assigning individuals to treatments in experiments."
   ]
  },
  {
   "cell_type": "markdown",
   "metadata": {},
   "source": [
    "## Generating a Simple Random Sample"
   ]
  },
  {
   "cell_type": "markdown",
   "metadata": {},
   "source": [
    "It is often useful to be able to generate a simple random sample from a dataset. This may be to choose a sample from our population, or to choose a group from our sample that will receive some treatment. Regardless of what we plan to do with our sample, we generate it in R using the same procedure.\n",
    "\n",
    "The function that we use for random sampling in R is called \"sample()\". The \"sample()\" function generates random numbers that we then use to pick individuals from a list. The \"sample()\" function has two inputs, \"x\" and \"size\". The \"x\" input is the number of individuals that we want to sample from. The \"size\" input is the number of individuals that we want to select. \n",
    "\n",
    "You can run the \"sample()\" function by itself, but it is most useful when combined with \"indexing\" to select individuals from a data frame. The details of how indexing works is a bit technical, so for now we will focus on just how to choose our sample.\n",
    "\n",
    "Suppose that we have a list of names of people in an introductory statistics class, and we want to survey some of them about how much fun the class is. The file \"Names.csv\" contains 100 names under a variable called \"Name\", and a second variable called \"Fun\" that lists how each person rated the class on a scale of 1 to 5, with 5 being the most fun. Let's read this file into R."
   ]
  },
  {
   "cell_type": "code",
   "execution_count": null,
   "metadata": {
    "collapsed": true
   },
   "outputs": [],
   "source": [
    "data = read.csv(\"Names.csv\")\n",
    "head(data)"
   ]
  },
  {
   "cell_type": "markdown",
   "metadata": {},
   "source": [
    "We can sample 10 random people from this list using the \"sample()\" function in the following way."
   ]
  },
  {
   "cell_type": "code",
   "execution_count": null,
   "metadata": {
    "collapsed": true
   },
   "outputs": [],
   "source": [
    "data[sample(x = 100, size = 10),]"
   ]
  },
  {
   "cell_type": "markdown",
   "metadata": {},
   "source": [
    "We now have the names and ratings of 10 people randomly sampled from our original list. The numbers in the left hand column give the row number in the original dataset for each person. \n",
    "\n",
    "We place the \"sample()\" function in square brackets after the name of our data frame, setting \"x\" equal to the length of the original list (100) and \"size\" equal to the size of the desired sample (10). We then add a comma after \"sample()\" and before closing the square brackets. Running this code produces a sample of 10 people from the original list of 100 people.\n",
    "\n",
    "In general, we sample from any dataset by writing the name of the dataset, then putting \"sample()\" in square brackets with the appropriate values of \"x\" and \"size\", followed by a comma.\n",
    "\n",
    "Important Note: If your dataset has only a single variable, then the code we have been using for random sampling will give an error. To fix this error, delete the comma between \"sample()\" and the second square bracket. The reason for why this error occurs is described in the 'Technical Details' section at the end of this module."
   ]
  },
  {
   "cell_type": "markdown",
   "metadata": {},
   "source": [
    "Try re-running the last code cell a few times. Notice that you get a different sample each time. This is because our sample is chosen randomly. Sometimes however, we want to be able to re-produce our results, so we need a way to control the randomness. We do this in R using the \"set.seed()\" function.\n",
    "\n",
    "Anything R does that is called random is actually not random at all, but instead chosen from a big list of numbers that were chosen using some complicated math so that the numbers look random. If we tell R to always start in the same place in this list, it will always give the same results. The \"set.seed()\" function tells R where to look in this list. The \"set.seed()\" function has only one input, called \"seed\". If we set \"seed\" equal to a number, then R will produce consistent results.\n",
    "\n",
    "Let's generate a new random sample from our list of names, but first we will use the \"set.seed()\" function to make sure that our sample is re-producible."
   ]
  },
  {
   "cell_type": "code",
   "execution_count": null,
   "metadata": {
    "collapsed": true
   },
   "outputs": [],
   "source": [
    "set.seed(seed = 1)\n",
    "data[sample(x = 100, size = 10),]"
   ]
  },
  {
   "cell_type": "markdown",
   "metadata": {},
   "source": [
    "You can re-run this cell as many times as you want, and it will always give the same sample. If you change the value of \"seed\", your sample will change, but will now stay the same every time you run the cell.\n",
    "\n",
    "You can use any value for \"seed\", but it's a good idea to use a different value for each new Jupyter notebook."
   ]
  },
  {
   "cell_type": "markdown",
   "metadata": {},
   "source": [
    "## Technical Details: How Indexing Works"
   ]
  },
  {
   "cell_type": "markdown",
   "metadata": {},
   "source": [
    "Let's continue with our previous example of choosing people from a list. The square brackets in our above code means that we're indexing the data frame called \"data\". We discuss how to index a list in Module 7, but now we will expand on these ideas a bit.\n",
    "\n",
    "Suppose that we are just interested in peoples' names. We can extract the \"Names\" variable from our data frame using the \"\\$\". We can get the first element using \"data\\$Name[1]\" and the third element using \"data\\$Name[3]\". To get both of these elements, we index our list with another list."
   ]
  },
  {
   "cell_type": "code",
   "execution_count": null,
   "metadata": {
    "collapsed": true
   },
   "outputs": [],
   "source": [
    "#Index our list with another list\n",
    "data$Name[c(1,3)]"
   ]
  },
  {
   "cell_type": "markdown",
   "metadata": {},
   "source": [
    "Remember that the \"c()\" function produces a list containing the elements inside the parentheses.\n",
    "\n",
    "This procedure allows us to index lists, which have 1 dimension, but data frames have 2, rows and columns. To index an object with 2 dimensions in R, you write which row and column you want inside square brackets, and separate these two numbers with a comma. For example, if we want the name of the 4th person in our dataset, we want the 4th row and first column. We get this in R using the following code."
   ]
  },
  {
   "cell_type": "code",
   "execution_count": null,
   "metadata": {
    "collapsed": true,
    "scrolled": true
   },
   "outputs": [],
   "source": [
    "data[4,1]"
   ]
  },
  {
   "cell_type": "markdown",
   "metadata": {},
   "source": [
    "You can double check that this is correct by looking above at where we used the \"head()\" function on \"data\". \n",
    "\n",
    "Sometimes we want to look at an entire row or entire column. We can get an entire row in R by not including a column index, or an entire column by not including a row index. Let's get the entire 4th row of our dataset."
   ]
  },
  {
   "cell_type": "code",
   "execution_count": null,
   "metadata": {
    "collapsed": true,
    "scrolled": true
   },
   "outputs": [],
   "source": [
    "data[4,]"
   ]
  },
  {
   "cell_type": "markdown",
   "metadata": {},
   "source": [
    "Unsurprisingly, Isabella gave the class a maximum fun rating. Let's look at all the students' fun ratings. That is, we want the entire second column of our dataset."
   ]
  },
  {
   "cell_type": "code",
   "execution_count": null,
   "metadata": {
    "collapsed": true,
    "scrolled": true
   },
   "outputs": [],
   "source": [
    "data[,2]"
   ]
  },
  {
   "cell_type": "markdown",
   "metadata": {},
   "source": [
    "Exactly as we would expect, everyone loved their statistics class."
   ]
  },
  {
   "cell_type": "markdown",
   "metadata": {},
   "source": [
    "We can also select multiple rows or columns by indexing with a list. This is exactly what we are doing with the \"sample()\" function earlier in this module.\n",
    "\n",
    "The \"sample()\" function generates a list of 'random' numbers between 1 and the value of \"x\". This list has length \"size\". When we put \"sample()\" in square brackets after the name of our data frame followed by a comma, we are really just getting the rows of our dataset that correspond to the values output by \"sample()\"."
   ]
  }
 ],
 "metadata": {
  "kernelspec": {
   "display_name": "R",
   "language": "R",
   "name": "ir"
  },
  "language_info": {
   "codemirror_mode": "r",
   "file_extension": ".r",
   "mimetype": "text/x-r-source",
   "name": "R",
   "pygments_lexer": "r",
   "version": "3.3.2"
  }
 },
 "nbformat": 4,
 "nbformat_minor": 1
}
