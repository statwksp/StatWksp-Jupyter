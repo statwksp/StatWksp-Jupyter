{
 "cells": [
  {
   "cell_type": "markdown",
   "metadata": {},
   "source": [
    "# Module 8: Random Sampling"
   ]
  },
  {
   "cell_type": "markdown",
   "metadata": {},
   "source": [
    "In this module, you will learn how to randomly generate numbers in R. This is useful for selecting a simple random sample in observational studies and for assigning individuals to treatments in experiments."
   ]
  },
  {
   "cell_type": "markdown",
   "metadata": {},
   "source": [
    "## Generating a Simple Random Sample"
   ]
  },
  {
   "cell_type": "markdown",
   "metadata": {},
   "source": [
    "It is often useful to be able to generate a simple random sample from a dataset. This may be to choose a sample from our population, or to choose a group from our sample that will receive some treatment. Regardless of what we plan to do with our sample, we generate it in R using the same procedure.\n",
    "\n",
    "The function that we use for random sampling in R is called \"sample()\". The \"sample()\" function generates random numbers that we then use to pick individuals from a list. The \"sample()\" function has two inputs, \"x\" and \"size\". The \"x\" input is the number of individuals that we want to sample from. The \"size\" input is the number of individuals that we want to select. \n",
    "\n",
    "You can run the \"sample()\" function by itself, but it is most useful when combined with \"indexing\" to select individuals from a data frame. The details of how indexing works is a bit technical, so for now we will focus on just how to choose our sample.\n",
    "\n",
    "Suppose that we have a list of names of people in an introductory statistics class, and we want to survey some of them about how much fun the class is. The file \"Names.csv\" contains 100 names under a variable called \"Name\". Let's read this file into R."
   ]
  },
  {
   "cell_type": "code",
   "execution_count": null,
   "metadata": {},
   "outputs": [],
   "source": [
    "data = read.csv(\"Names.csv\")\n",
    "head(data)\n"
   ]
  },
  {
   "cell_type": "markdown",
   "metadata": {},
   "source": [
    "We can sample 10 random names from this list using the \"sample()\" function in the following way."
   ]
  },
  {
   "cell_type": "code",
   "execution_count": null,
   "metadata": {},
   "outputs": [],
   "source": [
    "data$Name[sample(x = 100, size = 10)]"
   ]
  },
  {
   "cell_type": "markdown",
   "metadata": {},
   "source": [
    "The \"Name\" variable (data$Name) contains the original list of names. We place the \"sample()\" function in square brackets after the \"Name\" variable, setting \"x\" equal to the length of the original list (100) and \"size\" equal to the size of the desired sample (10). Running this code produces a sample of 10 names from the original list of 100 names.\n",
    "\n",
    "In general, we sample from any variable by first getting the variable from its data frame using \"$\", then putting \"sample()\" in square brackets with the appropriate values of \"x\" and \"size\"."
   ]
  },
  {
   "cell_type": "markdown",
   "metadata": {},
   "source": [
    "Try re-running the last code cell a few times. Notice that you get a different sample each time. This is because our sample is chosen randomly. Sometimes however, we want to be able to re-produce our results, so we need a way to control the randomness. We do this in R using the \"set.seed()\" function.\n",
    "\n",
    "Anything R does that is called random is actually not random at all, but instead chosen from a big list of numbers that were chosen using some complicated math so that the numbers look random. If we tell R to always start in the same place in this list, it will always give the same results. The \"set.seed()\" function tells R where to look in this list. The \"set.seed()\" function has only one input, called \"seed\". If we set \"seed\" equal to a number, then R will produce consistent results.\n",
    "\n",
    "Let's generate a new random sample from our list of names, but first we will use the \"set.seed()\" function to make sure that our sample is re-producible."
   ]
  },
  {
   "cell_type": "code",
   "execution_count": null,
   "metadata": {},
   "outputs": [],
   "source": [
    "set.seed(seed = 1)\n",
    "data$Name[sample(x = 100, size = 10)]"
   ]
  },
  {
   "cell_type": "markdown",
   "metadata": {},
   "source": [
    "You can re-run this cell as many times as you want, and it will always give the same sample. If you change the value of \"seed\", your sample will change, but will now stay the same every time you run the cell.\n",
    "\n",
    "You can use any value for \"seed\", but it's a good idea to use a different value for each new Jupyter notebook."
   ]
  },
  {
   "cell_type": "markdown",
   "metadata": {},
   "source": [
    "## Technical Details: How Indexing Works"
   ]
  },
  {
   "cell_type": "markdown",
   "metadata": {},
   "source": [
    "Let's continue with our previous example of choosing names from a list. The square brackets in our above code means that we're indexing the variable \"data$Name\". We discuss how to index a list in Module 7, but now we will expand on these ideas a bit.\n",
    "\n",
    "Suppose that we have a list of names called \"names\", and we want to get the first and third elements of that list. Remember that we can get the first element using \"names[1]\" and the third element using \"names[3]\". To get both of these elements, we index our list with another list."
   ]
  },
  {
   "cell_type": "code",
   "execution_count": null,
   "metadata": {},
   "outputs": [],
   "source": [
    "#Index our list with another list\n",
    "data$Name[c(1,3)]"
   ]
  },
  {
   "cell_type": "markdown",
   "metadata": {},
   "source": [
    "Remember that the \"c()\" function produces a list containing the elements inside the parentheses."
   ]
  },
  {
   "cell_type": "markdown",
   "metadata": {},
   "source": [
    "The \"sample()\" function generates a list of numbers between 1 and the value of \"x\". This list has length \"size\". When we put \"sample()\" in square brackets after the name of our variable, we are really just indexing our variable with the values output by \"sample()\"."
   ]
  }
 ],
 "metadata": {
  "kernelspec": {
   "display_name": "R",
   "language": "R",
   "name": "ir"
  },
  "language_info": {
   "codemirror_mode": "r",
   "file_extension": ".r",
   "mimetype": "text/x-r-source",
   "name": "R",
   "pygments_lexer": "r",
   "version": "3.3.2"
  }
 },
 "nbformat": 4,
 "nbformat_minor": 1
}
