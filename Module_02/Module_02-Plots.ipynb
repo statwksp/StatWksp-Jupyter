{
 "cells": [
  {
   "cell_type": "markdown",
   "metadata": {},
   "source": [
    "# Module 2: Making Plots"
   ]
  },
  {
   "cell_type": "markdown",
   "metadata": {},
   "source": [
    "In this module, we review how to input data to R both directly and from a file. We also look at how to make some of the standard plots in R, including pie charts, bar charts and histograms."
   ]
  },
  {
   "cell_type": "markdown",
   "metadata": {},
   "source": [
    "## Entering Data Review: Typing Data Into R"
   ]
  },
  {
   "cell_type": "markdown",
   "metadata": {},
   "source": [
    "We start this module by working with the SFU enrollment dataset from Module 1. Before we can analyze this dataset, we must import it to R. The simplest way to do this is by typing the data directly into R. We cover how to enter data this way in-depth in Module 1, so we will only review how to do it here. Feel free to go back to Module 1 if any of these steps are unclear.\n",
    "\n",
    "We start by creating each of the variables separately using the \"c()\" function. Let's call the list of faculties \"faculty.input\", and the number of students in each faculty \"students.input\". "
   ]
  },
  {
   "cell_type": "code",
   "execution_count": null,
   "metadata": {
    "collapsed": true
   },
   "outputs": [],
   "source": [
    "faculty.input = c(\"ASci\", \"FASS\", \"Bus\", \"CAT\", \"Educ\", \"Env\", \"HSci\", \"Sci\", \"Other\")\n",
    "students.input = c(3557, 11516, 3791, 3008, 1425, 1027, 1412, 3824, 32)"
   ]
  },
  {
   "cell_type": "markdown",
   "metadata": {},
   "source": [
    "We now combine these variables into a single data frame using the \"data.frame()\" function. Let's call our data frame \"data.faculty\"."
   ]
  },
  {
   "cell_type": "code",
   "execution_count": null,
   "metadata": {
    "collapsed": true
   },
   "outputs": [],
   "source": [
    "data.faculty = data.frame(faculty = faculty.input, students = students.input)"
   ]
  },
  {
   "cell_type": "markdown",
   "metadata": {},
   "source": [
    "We should print the first few observations to make sure that everything has been entered the way we want. Remember that we can do this using the \"head()\" function."
   ]
  },
  {
   "cell_type": "code",
   "execution_count": null,
   "metadata": {},
   "outputs": [],
   "source": [
    "head(data.faculty)"
   ]
  },
  {
   "cell_type": "markdown",
   "metadata": {},
   "source": [
    "## Pie Charts"
   ]
  },
  {
   "cell_type": "markdown",
   "metadata": {},
   "source": [
    "Now that we have entered our dataset, let's investigate the distribution of students in faculties using plots. First, let's make a pie chart using the \"pie()\" function. \n",
    "\n",
    "The \"pie()\" function uses two inputs: \"x\" and \"label\" separated by a comma. Whenever a function in R has multiple inputs, we always separate them using commas. In general, code for the \"pie()\" function is of the form \"pie(x=data.frame\\$count.variable, labels=data.frame\\$category.variable)\".\n",
    "\n",
    "The first input, \"x\", is the proportion or number of things in each category. The second input, \"labels\", gives the name of each category.\n",
    "\n",
    "Let's put this information together and make a pie chart of the number of students in each faculty. Set the \"x\" input equal to the \"students\" variable and the \"labels\" input to the \"faculty\" variable. Remember from the last section that we can get \"students\" and \"faculty\" from \"data.faculty\" by using the \"$\". Run the following cell now."
   ]
  },
  {
   "cell_type": "code",
   "execution_count": null,
   "metadata": {},
   "outputs": [],
   "source": [
    "pie(x = data.faculty$students, labels = data.faculty$faculty)"
   ]
  },
  {
   "cell_type": "markdown",
   "metadata": {},
   "source": [
    "We can also add a title to our pie chart using another, optional input to the \"pie()\" function called \"main\". We set \"main\" equal to whatever we want our title to be. We need to make sure that R reads our title as a string (words instead of the name of another R object), so we must enclose the title in quotation marks.\n",
    "\n",
    "Let's make the same pie chart again, but this time we will give it the informative, super-exciting title \"Pie Chart of Student Enrollment by Faculty\"."
   ]
  },
  {
   "cell_type": "code",
   "execution_count": null,
   "metadata": {},
   "outputs": [],
   "source": [
    "pie(x = data.faculty$students, labels = data.faculty$faculty, main=\"Pie Chart of Student Enrollment by Faculty\")"
   ]
  },
  {
   "cell_type": "markdown",
   "metadata": {},
   "source": [
    "## Bar Charts"
   ]
  },
  {
   "cell_type": "markdown",
   "metadata": {
    "collapsed": true
   },
   "source": [
    "We now move on to bar charts. The R function for making bar charts is called \"barplot()\". \n",
    "\n",
    "The \"barplot()\" function has two important inputs: \"height\" and \"names.arg\". The \"height\" input is a variable that tells R how tall to draw each bar. The \"names.arg\" input is a variable that tells R how to label each bar. As with the pie chart, we can optionally add a title using the \"main\" input. \n",
    "\n",
    "Let's make a bar chart based on our enrollment dataset. Run the following R code."
   ]
  },
  {
   "cell_type": "code",
   "execution_count": null,
   "metadata": {},
   "outputs": [],
   "source": [
    "barplot(height = data.faculty$students, names.arg = data.faculty$faculty, main = \"Bar Chart of Student Enrollment by Faculty\")"
   ]
  },
  {
   "cell_type": "markdown",
   "metadata": {},
   "source": [
    "Sometimes the names of our categories are too long to fit horizontally below the x-axis, so we want to write them vertically instead. We can do this in R using the optional input to the \"barplot()\" function called \"las\". We can leave \"las\" out of \"barplot()\", in which case bar labels are printed horizontally below the x-axis, like we saw in the last plot. If we instead set \"las\" equal to 2, then these labels are printed vertically. The \"las\" input is only ever left out or set equal to 2. Other values for \"las\" don't do anything.\n",
    "\n",
    "Let's make the same bar plot, but this time with vertical bar labels."
   ]
  },
  {
   "cell_type": "code",
   "execution_count": null,
   "metadata": {},
   "outputs": [],
   "source": [
    "barplot(height = data.faculty$students, names.arg = data.faculty$faculty, \n",
    "        las = 2, main = \"Bar Chart of Student Enrollment by Faculty\")"
   ]
  },
  {
   "cell_type": "markdown",
   "metadata": {},
   "source": [
    "The \"las\" input is especially helpful when our labels have long names that take up more space than the width of 1 bar."
   ]
  },
  {
   "cell_type": "markdown",
   "metadata": {},
   "source": [
    "## Entering Data Review: Files With Variable Names"
   ]
  },
  {
   "cell_type": "markdown",
   "metadata": {},
   "source": [
    "Next, we will work with the CFSB dataset from Module 1. We discussed how to import this dataset to R in Module 1 so, as above, we only briefly review how to import it here. \n",
    "\n",
    "We use the \"read.csv()\" function to import data from a .csv file into R. We set the \"file\" input equal to the name of the file containing our dataset. The file containing our dataset has variable names in the first row, so we set \"header=TRUE\". Let's now import the CFSB dataset to R, and call our new data frame \"data.cfsb\"."
   ]
  },
  {
   "cell_type": "code",
   "execution_count": null,
   "metadata": {
    "collapsed": true
   },
   "outputs": [],
   "source": [
    "data.cfsb = read.csv(file=\"CFSB.csv\", header=TRUE)"
   ]
  },
  {
   "cell_type": "markdown",
   "metadata": {},
   "source": [
    "Finally, we should print the first few observations using the \"head()\" function."
   ]
  },
  {
   "cell_type": "code",
   "execution_count": null,
   "metadata": {},
   "outputs": [],
   "source": [
    "head(data.cfsb)"
   ]
  },
  {
   "cell_type": "markdown",
   "metadata": {},
   "source": [
    "## Histograms"
   ]
  },
  {
   "cell_type": "markdown",
   "metadata": {},
   "source": [
    "Now that we've read in our CFSB data, let's learn something about it. Our variable is quantitative, so a histogram is an appropriate plot. We make histograms in R using the \"hist()\" function. \n",
    "\n",
    "The \"hist()\" function has one main input called \"x\". The \"x\" input tells R the values that our variable takes. We can also include a title for our histogram using the usual optional input called \"main\".\n",
    "\n",
    "Let's make our histogram now."
   ]
  },
  {
   "cell_type": "code",
   "execution_count": null,
   "metadata": {},
   "outputs": [],
   "source": [
    "hist(x = data.cfsb$Weight, main=\"Histogram of Cereal Box Weights\")"
   ]
  },
  {
   "cell_type": "markdown",
   "metadata": {},
   "source": [
    "This histogram is missing axis labels. We can add labels using the optional inputs \"xlab\" and \"ylab\". The \"xlab\" input lets us set the x-axis label (the horizontal axis). Similarly, \"ylab\" lets us set the label on the y-axis (the vertical axis). \n",
    "\n",
    "Let's make the same histogram again, but this time with axis labels."
   ]
  },
  {
   "cell_type": "code",
   "execution_count": null,
   "metadata": {},
   "outputs": [],
   "source": [
    "hist(x = data.cfsb$Weight, main=\"Histogram of Cereal Box Weights\",\n",
    "    xlab = \"Weight (oz)\", ylab = \"Number of Boxes\")"
   ]
  },
  {
   "cell_type": "markdown",
   "metadata": {},
   "source": [
    "We can also add axis labels to barplots using the \"xlab\" and \"ylab\" inputs."
   ]
  }
 ],
 "metadata": {
  "kernelspec": {
   "display_name": "R",
   "language": "R",
   "name": "ir"
  },
  "language_info": {
   "codemirror_mode": "r",
   "file_extension": ".r",
   "mimetype": "text/x-r-source",
   "name": "R",
   "pygments_lexer": "r",
   "version": "3.3.2"
  }
 },
 "nbformat": 4,
 "nbformat_minor": 1
}
