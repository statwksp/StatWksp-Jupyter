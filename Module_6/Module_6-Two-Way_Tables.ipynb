{
 "cells": [
  {
   "cell_type": "markdown",
   "metadata": {},
   "source": [
    "# Module 6: Two-Way Tables"
   ]
  },
  {
   "cell_type": "markdown",
   "metadata": {},
   "source": [
    "In this module, we discuss how to work with two categorical variables in R. In particular, we look at how to display this type of data in R, as well as how to find marginal and conditional distributions from two-way tables."
   ]
  },
  {
   "cell_type": "markdown",
   "metadata": {},
   "source": [
    "## Our Dataset"
   ]
  },
  {
   "cell_type": "markdown",
   "metadata": {},
   "source": [
    "The dataset we will work with in this module is a hypothetical study about peoples' snack preferences. In this hypothetical study, we present people with two choices of snack, a cookie or a piece of fruit, and two choices of beverage, milk or water. We then record the choices made by 100 people.\n",
    "\n",
    "This dataset has two variables: beverage and snack. Both of these variables are categorical with two possible outcomes. Let's import this dataset to R using the \"read.csv()\" function."
   ]
  },
  {
   "cell_type": "code",
   "execution_count": 3,
   "metadata": {
    "collapsed": false
   },
   "outputs": [],
   "source": [
    "data = read.csv(\"Snacks.csv\")"
   ]
  },
  {
   "cell_type": "markdown",
   "metadata": {},
   "source": [
    "## Displaying Two-Way Tables"
   ]
  },
  {
   "cell_type": "markdown",
   "metadata": {},
   "source": [
    "We can start by printing the first few observations in our dataset to make sure that we imported the data correctly. Remember that we use the \"head()\" function to print just the first few observations."
   ]
  },
  {
   "cell_type": "code",
   "execution_count": 4,
   "metadata": {
    "collapsed": false
   },
   "outputs": [
    {
     "data": {
      "text/html": [
       "<table>\n",
       "<thead><tr><th></th><th scope=col>Snack</th><th scope=col>Drink</th></tr></thead>\n",
       "<tbody>\n",
       "\t<tr><th scope=row>1</th><td>Milk  </td><td>Cookie</td></tr>\n",
       "\t<tr><th scope=row>2</th><td>Milk </td><td>Fruit</td></tr>\n",
       "\t<tr><th scope=row>3</th><td>Milk </td><td>Fruit</td></tr>\n",
       "\t<tr><th scope=row>4</th><td>Milk  </td><td>Cookie</td></tr>\n",
       "\t<tr><th scope=row>5</th><td>Water </td><td>Cookie</td></tr>\n",
       "\t<tr><th scope=row>6</th><td>Water </td><td>Cookie</td></tr>\n",
       "</tbody>\n",
       "</table>\n"
      ],
      "text/latex": [
       "\\begin{tabular}{r|ll}\n",
       "  & Snack & Drink\\\\\n",
       "\\hline\n",
       "\t1 & Milk   & Cookie\\\\\n",
       "\t2 & Milk  & Fruit\\\\\n",
       "\t3 & Milk  & Fruit\\\\\n",
       "\t4 & Milk   & Cookie\\\\\n",
       "\t5 & Water  & Cookie\\\\\n",
       "\t6 & Water  & Cookie\\\\\n",
       "\\end{tabular}\n"
      ],
      "text/plain": [
       "  Snack  Drink\n",
       "1  Milk Cookie\n",
       "2  Milk  Fruit\n",
       "3  Milk  Fruit\n",
       "4  Milk Cookie\n",
       "5 Water Cookie\n",
       "6 Water Cookie"
      ]
     },
     "metadata": {},
     "output_type": "display_data"
    }
   ],
   "source": [
    "head(data)"
   ]
  },
  {
   "cell_type": "markdown",
   "metadata": {},
   "source": [
    "This is definitely our dataset, but it doesn't look like a two-way table yet. For that, we need the R function called \"table()\". The \"table()\" function tells us all the unique values of a variable and how many times each of those values occurs. We can use the \"table()\" function with a single input to tell us about the values of a single variable. Let's try this with the \"Snack\" variable in our dataset."
   ]
  },
  {
   "cell_type": "code",
   "execution_count": 5,
   "metadata": {
    "collapsed": false
   },
   "outputs": [
    {
     "data": {
      "text/plain": [
       "\n",
       " Milk Water \n",
       "   67    33 "
      ]
     },
     "metadata": {},
     "output_type": "display_data"
    }
   ],
   "source": [
    "table(data$Snack)"
   ]
  },
  {
   "cell_type": "markdown",
   "metadata": {},
   "source": [
    "This means that 67 of our participants chose milk, and 33 chose water.\n",
    "\n",
    "We can also use the \"table()\" function with two inputs. This lists all the unique values of both variables and the number of times that each combination occurs. Let's do this now with the two variables in our dataset."
   ]
  },
  {
   "cell_type": "code",
   "execution_count": 6,
   "metadata": {
    "collapsed": false
   },
   "outputs": [
    {
     "data": {
      "text/plain": [
       "       \n",
       "        Cookie Fruit\n",
       "  Milk      43    24\n",
       "  Water     19    14"
      ]
     },
     "metadata": {},
     "output_type": "display_data"
    }
   ],
   "source": [
    "table(data$Snack, data$Drink)"
   ]
  },
  {
   "cell_type": "markdown",
   "metadata": {},
   "source": [
    "This is how we make two-way tables in R.\n",
    "\n",
    "We can also save a two-way table to make it easier to refer back to later. Let's call our two-way table \"snacks.table\"."
   ]
  },
  {
   "cell_type": "code",
   "execution_count": 7,
   "metadata": {
    "collapsed": true
   },
   "outputs": [],
   "source": [
    "snacks.table = table(data$Snack, data$Drink)"
   ]
  },
  {
   "cell_type": "markdown",
   "metadata": {},
   "source": [
    "Advanced Topic: The \"table()\" function can be used with more than two inputs. This allows us to construct three-way tables, or even n-way tables. After two-ways, these tables start to get harder to read, and it is rare to see anything higher than a three-way table."
   ]
  },
  {
   "cell_type": "markdown",
   "metadata": {},
   "source": [
    "## Marginal Distributions"
   ]
  },
  {
   "cell_type": "markdown",
   "metadata": {},
   "source": [
    "A two-way table tells us about the joint distribution of two variables. We sometimes also want to investigate the marginal distribution of each variable separately. We can start by getting the row and column totals in our table using the \"margin.table()\" function. \n",
    "\n",
    "The \"margin.table()\" function has one required input: \"x\". The \"x\" input tells the \"margin.table()\" function which table to work with. We can also provide an optional second input called \"margin\". The \"margin\" input tells \"margin.table()\" what to calculate. If \"margin=1\" then row totals are calculated. If \"margin=2\" then column totals are calculated. If we do not specify a value for \"margin\" then the grand total is calculated.\n",
    "\n",
    "Let's use \"margin.table()\" to calculate the row, column and grand totals of our two-way table. We will also print some extra text to make our output easier to read."
   ]
  },
  {
   "cell_type": "code",
   "execution_count": 9,
   "metadata": {
    "collapsed": false
   },
   "outputs": [
    {
     "name": "stdout",
     "output_type": "stream",
     "text": [
      "[1] \"Row Totals:\"\n"
     ]
    },
    {
     "data": {
      "text/plain": [
       "\n",
       " Milk Water \n",
       "   67    33 "
      ]
     },
     "metadata": {},
     "output_type": "display_data"
    },
    {
     "name": "stdout",
     "output_type": "stream",
     "text": [
      "[1] \"Column Totals:\"\n"
     ]
    },
    {
     "data": {
      "text/plain": [
       "\n",
       "Cookie  Fruit \n",
       "    62     38 "
      ]
     },
     "metadata": {},
     "output_type": "display_data"
    },
    {
     "name": "stdout",
     "output_type": "stream",
     "text": [
      "[1] \"Grand Total:\"\n"
     ]
    },
    {
     "data": {
      "text/html": [
       "100"
      ],
      "text/latex": [
       "100"
      ],
      "text/markdown": [
       "100"
      ],
      "text/plain": [
       "[1] 100"
      ]
     },
     "metadata": {},
     "output_type": "display_data"
    }
   ],
   "source": [
    "print(\"Row Totals:\")\n",
    "margin.table(x=snacks.table, margin=1)\n",
    "print(\"Column Totals:\")\n",
    "margin.table(x=snacks.table, margin=2)\n",
    "print(\"Grand Total:\")\n",
    "margin.table(x=snacks.table)"
   ]
  },
  {
   "cell_type": "markdown",
   "metadata": {},
   "source": [
    "We want the marginal distribution, not just the row and column totals. We turn these counts into probabilities by dividing by the grand total. Let's now calculate the marginal distribution for drink and snack."
   ]
  },
  {
   "cell_type": "code",
   "execution_count": 11,
   "metadata": {
    "collapsed": false
   },
   "outputs": [
    {
     "name": "stdout",
     "output_type": "stream",
     "text": [
      "[1] \"Marginal Distribution for Drink:\"\n"
     ]
    },
    {
     "data": {
      "text/plain": [
       "\n",
       " Milk Water \n",
       " 0.67  0.33 "
      ]
     },
     "metadata": {},
     "output_type": "display_data"
    },
    {
     "name": "stdout",
     "output_type": "stream",
     "text": [
      "[1] \"Marginal Distribution for Snack:\"\n"
     ]
    },
    {
     "data": {
      "text/plain": [
       "\n",
       "Cookie  Fruit \n",
       "  0.62   0.38 "
      ]
     },
     "metadata": {},
     "output_type": "display_data"
    }
   ],
   "source": [
    "print(\"Marginal Distribution for Drink:\")\n",
    "margin.table(x=snacks.table, margin=1)/margin.table(x=snacks.table)\n",
    "print(\"Marginal Distribution for Snack:\")\n",
    "margin.table(x=snacks.table, margin=2)/margin.table(x=snacks.table)"
   ]
  },
  {
   "cell_type": "markdown",
   "metadata": {},
   "source": [
    "To make our code easier to read, we can give names to the row, column and grand totals. "
   ]
  },
  {
   "cell_type": "code",
   "execution_count": 12,
   "metadata": {
    "collapsed": false
   },
   "outputs": [
    {
     "name": "stdout",
     "output_type": "stream",
     "text": [
      "[1] \"Marginal Distribution for Drink:\"\n"
     ]
    },
    {
     "data": {
      "text/plain": [
       "\n",
       " Milk Water \n",
       " 0.67  0.33 "
      ]
     },
     "metadata": {},
     "output_type": "display_data"
    },
    {
     "name": "stdout",
     "output_type": "stream",
     "text": [
      "[1] \"Marginal Distribution for Snack:\"\n"
     ]
    },
    {
     "data": {
      "text/plain": [
       "\n",
       "Cookie  Fruit \n",
       "  0.62   0.38 "
      ]
     },
     "metadata": {},
     "output_type": "display_data"
    }
   ],
   "source": [
    "row.tot = margin.table(x=snacks.table, margin=1)\n",
    "col.tot = margin.table(x=snacks.table, margin=2)\n",
    "gr.tot = margin.table(x=snacks.table)\n",
    "print(\"Marginal Distribution for Drink:\")\n",
    "row.tot/gr.tot\n",
    "print(\"Marginal Distribution for Snack:\")\n",
    "col.tot/gr.tot"
   ]
  },
  {
   "cell_type": "markdown",
   "metadata": {},
   "source": [
    "## Indexing Lists and Tables"
   ]
  },
  {
   "cell_type": "markdown",
   "metadata": {},
   "source": [
    "Before we can move on to calculating conditional distributions, we must look at a technical part of R: how to get a particular value from a list. Another name for this procedure is \"indexing\" a list. This section is a bit dry, but it is very important because many useful procedures in R require indexing. Indexing is so important that reading through this whole section will make a certain hedgehog very happy.\n",
    "\n",
    "In order to get a particular value out of a list in R, we must use square brackets, \"[]\". This is best understood by seeing an example. Let's find the number of people in our study that chose milk."
   ]
  },
  {
   "cell_type": "code",
   "execution_count": 13,
   "metadata": {
    "collapsed": false
   },
   "outputs": [
    {
     "data": {
      "text/html": [
       "<strong>Milk:</strong> 67"
      ],
      "text/latex": [
       "\\textbf{Milk:} 67"
      ],
      "text/markdown": [
       "**Milk:** 67"
      ],
      "text/plain": [
       "Milk \n",
       "  67 "
      ]
     },
     "metadata": {},
     "output_type": "display_data"
    }
   ],
   "source": [
    "row.tot[1]"
   ]
  },
  {
   "cell_type": "markdown",
   "metadata": {},
   "source": [
    "This gives us the first number in the list called \"row.tot\". If we want the number of people that chose fruit, we would get the second number in the list of column totals."
   ]
  },
  {
   "cell_type": "code",
   "execution_count": 14,
   "metadata": {
    "collapsed": false
   },
   "outputs": [
    {
     "data": {
      "text/html": [
       "<strong>Fruit:</strong> 38"
      ],
      "text/latex": [
       "\\textbf{Fruit:} 38"
      ],
      "text/markdown": [
       "**Fruit:** 38"
      ],
      "text/plain": [
       "Fruit \n",
       "   38 "
      ]
     },
     "metadata": {},
     "output_type": "display_data"
    }
   ],
   "source": [
    "col.tot[2]"
   ]
  },
  {
   "cell_type": "markdown",
   "metadata": {},
   "source": [
    "We can get a particular value from a table by indexing with two numbers. For example, suppose that we want to know the number of people that chose water and a cookie."
   ]
  },
  {
   "cell_type": "code",
   "execution_count": 16,
   "metadata": {
    "collapsed": false
   },
   "outputs": [
    {
     "data": {
      "text/html": [
       "19"
      ],
      "text/latex": [
       "19"
      ],
      "text/markdown": [
       "19"
      ],
      "text/plain": [
       "[1] 19"
      ]
     },
     "metadata": {},
     "output_type": "display_data"
    }
   ],
   "source": [
    "snacks.table[2,1]"
   ]
  },
  {
   "cell_type": "markdown",
   "metadata": {},
   "source": [
    "Important Note: The first number selects the row and the second number selects the column. If you mix these up you will end up with the wrong number."
   ]
  },
  {
   "cell_type": "markdown",
   "metadata": {},
   "source": [
    "We can also get whole rows and whole columns from a table. You can think of this as choosing a row and getting all the columns for that row, or choosing a column and getting all the rows. We get a row from a table in R by indexing the row in the usual way, and leaving the column index blank. Let's get the distribution of snacks among people who chose milk in our study (the entire first row)."
   ]
  },
  {
   "cell_type": "code",
   "execution_count": 19,
   "metadata": {
    "collapsed": false,
    "scrolled": true
   },
   "outputs": [
    {
     "data": {
      "text/html": [
       "<dl class=dl-horizontal>\n",
       "\t<dt>Cookie</dt>\n",
       "\t\t<dd>43</dd>\n",
       "\t<dt>Fruit</dt>\n",
       "\t\t<dd>24</dd>\n",
       "</dl>\n"
      ],
      "text/latex": [
       "\\begin{description*}\n",
       "\\item[Cookie] 43\n",
       "\\item[Fruit] 24\n",
       "\\end{description*}\n"
      ],
      "text/markdown": [
       "Cookie\n",
       ":   43Fruit\n",
       ":   24\n",
       "\n"
      ],
      "text/plain": [
       "Cookie  Fruit \n",
       "    43     24 "
      ]
     },
     "metadata": {},
     "output_type": "display_data"
    }
   ],
   "source": [
    "snacks.table[1,]"
   ]
  },
  {
   "cell_type": "markdown",
   "metadata": {},
   "source": [
    "Similarly, we can get an entire column by indexing the column and leaving the row index blank."
   ]
  },
  {
   "cell_type": "code",
   "execution_count": 20,
   "metadata": {
    "collapsed": false,
    "scrolled": true
   },
   "outputs": [
    {
     "data": {
      "text/html": [
       "<dl class=dl-horizontal>\n",
       "\t<dt>Milk</dt>\n",
       "\t\t<dd>24</dd>\n",
       "\t<dt>Water</dt>\n",
       "\t\t<dd>14</dd>\n",
       "</dl>\n"
      ],
      "text/latex": [
       "\\begin{description*}\n",
       "\\item[Milk] 24\n",
       "\\item[Water] 14\n",
       "\\end{description*}\n"
      ],
      "text/markdown": [
       "Milk\n",
       ":   24Water\n",
       ":   14\n",
       "\n"
      ],
      "text/plain": [
       " Milk Water \n",
       "   24    14 "
      ]
     },
     "metadata": {},
     "output_type": "display_data"
    }
   ],
   "source": [
    "snacks.table[,2]"
   ]
  },
  {
   "cell_type": "markdown",
   "metadata": {},
   "source": [
    "Note that both rows and columns are printed in the same way. This is just how Jupyter prints lists of numbers, and after they are removed from a table, both rows and columns are just lists of numbers."
   ]
  },
  {
   "cell_type": "markdown",
   "metadata": {},
   "source": [
    "<!-- ***** If you can see this, re-run this cell and you should get the happy hedgehog back ***** -->\n",
    "<img src=\"../Module_6/Happy_Hedgehog.png\",width=600>"
   ]
  },
  {
   "cell_type": "markdown",
   "metadata": {},
   "source": [
    "Look at how happy he is that you finished."
   ]
  },
  {
   "cell_type": "markdown",
   "metadata": {},
   "source": [
    "## Conditional distributions"
   ]
  },
  {
   "cell_type": "markdown",
   "metadata": {},
   "source": [
    "We calculate a conditional distribution from a two-way table by first choosing a row or column to condition on. For concreteness, say that we choose a row. We then divide the counts in that row by the row total to get our conditional distribution given that row.\n",
    "\n",
    "Let's calculate the conditional distribution of snacks given that someone chose milk as a beverage. That is, we want the distribution of snacks given that someone is in the first row of our table. Remember that we use square brackets, \"[]\" to get rows from tables and numbers from lists."
   ]
  },
  {
   "cell_type": "code",
   "execution_count": 22,
   "metadata": {
    "collapsed": false
   },
   "outputs": [
    {
     "data": {
      "text/html": [
       "<dl class=dl-horizontal>\n",
       "\t<dt>Cookie</dt>\n",
       "\t\t<dd>0.641791044776119</dd>\n",
       "\t<dt>Fruit</dt>\n",
       "\t\t<dd>0.358208955223881</dd>\n",
       "</dl>\n"
      ],
      "text/latex": [
       "\\begin{description*}\n",
       "\\item[Cookie] 0.641791044776119\n",
       "\\item[Fruit] 0.358208955223881\n",
       "\\end{description*}\n"
      ],
      "text/markdown": [
       "Cookie\n",
       ":   0.641791044776119Fruit\n",
       ":   0.358208955223881\n",
       "\n"
      ],
      "text/plain": [
       "  Cookie    Fruit \n",
       "0.641791 0.358209 "
      ]
     },
     "metadata": {},
     "output_type": "display_data"
    }
   ],
   "source": [
    "row.milk = snacks.table[1,] #The entire first row of our table\n",
    "tot.milk = row.tot[1] #The first row total, which corresponds to milk\n",
    "row.milk/tot.milk"
   ]
  },
  {
   "cell_type": "markdown",
   "metadata": {},
   "source": [
    "This means that, in our study, someone who chose milk as a beverage was almost twice as likely to choose a cookie instead of a piece of fruit. This also means that about 64% of people made the correct choice."
   ]
  }
 ],
 "metadata": {
  "kernelspec": {
   "display_name": "R",
   "language": "R",
   "name": "ir"
  },
  "language_info": {
   "codemirror_mode": "r",
   "file_extension": ".r",
   "mimetype": "text/x-r-source",
   "name": "R",
   "pygments_lexer": "r",
   "version": "3.3.1"
  }
 },
 "nbformat": 4,
 "nbformat_minor": 1
}
