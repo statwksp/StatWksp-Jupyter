{
 "cells": [
  {
   "cell_type": "markdown",
   "metadata": {},
   "source": [
    "# Module 17: One Way ANOVA"
   ]
  },
  {
   "cell_type": "markdown",
   "metadata": {},
   "source": [
    "In this module, we discuss how to compare the means of multiple groups using analysis of variance, or ANOVA. The ANOVA procedure generalizes the two-sample T-test for means that we saw in Module 12, where now we allow for more than two groups. We also look at how to verify some of the assumptions of our inference procedures."
   ]
  },
  {
   "cell_type": "markdown",
   "metadata": {},
   "source": [
    "## The ANOVA F-Test"
   ]
  },
  {
   "cell_type": "markdown",
   "metadata": {},
   "source": [
    "Suppose that you want to open a business, but you're not sure what type. The five types of business you are considering are making pizza, baking, selling shoes, selling gifts and selling pet supplies. You would like to choose something with a low startup cost.\n",
    "\n",
    "You gather data on several of each of these types of businesses, and compile your results in the following dataset."
   ]
  },
  {
   "cell_type": "code",
   "execution_count": null,
   "metadata": {},
   "outputs": [],
   "source": [
    "# Read-in the data and print the first few lines\n",
    "data.bus = read.csv(\"Businesses.csv\")\n",
    "head(data.bus)"
   ]
  },
  {
   "cell_type": "markdown",
   "metadata": {},
   "source": [
    "The two variables in this dataset are \"Type\" and \"Cost\". Note that cost is given in thousands of dollars.\n",
    "\n",
    "Suppose that we want to test whether the average startup cost is the same across these business types. Our null hypothesis is that all five of the business types have the same average startup cost, and our alternative hypothesis is that they do not all have the same average startup cost. We can test these hypotheses using an ANOVA F-test.\n",
    "\n",
    "We start by fitting an ANOVA model to this dataset in R using the \"aov()\" function. The \"aov\" function has two main inputs: \"formula\" and \"data\". The \"formula\" input is a formula describing the relationship between the variables in our model. See Module 6 for more information about formulas in R. The \"data\" input tells R which data frame to get its data from. The \"aov()\" function produces an \"aov\" object that we can save and use later.\n",
    "\n",
    "Notice that the \"aov()\" function is very similar to the \"lm()\" function we used in Modules 6 and 16 to fit linear regression models. The output is similar between these two models as well.\n",
    "\n",
    "Let's fit an ANOVA model to our business dataset."
   ]
  },
  {
   "cell_type": "code",
   "execution_count": null,
   "metadata": {
    "collapsed": true
   },
   "outputs": [],
   "source": [
    "# Fit our ANOVA model\n",
    "fit.bus = aov(formula = Cost ~ Type, data = data.bus)"
   ]
  },
  {
   "cell_type": "markdown",
   "metadata": {},
   "source": [
    "We can evaluate our model using the \"summary()\" function on our \"aov\" object."
   ]
  },
  {
   "cell_type": "code",
   "execution_count": null,
   "metadata": {},
   "outputs": [],
   "source": [
    "summary(fit.bus)"
   ]
  },
  {
   "cell_type": "markdown",
   "metadata": {},
   "source": [
    "This table contains a lot of information, but the key part is the second row of the last column. That is, the intersection of the row labelled for our predictor variable, \"Type\", and the column labelled \"Pr(>F)\". The number at this intersection is the p-value for our ANOVA F-test. The p-value here is 0.0184, which is less than 0.05, so we can conclude that not all of the business types we considered have the same average startup cost."
   ]
  },
  {
   "cell_type": "markdown",
   "metadata": {},
   "source": [
    "## Checking ANOVA Assumptions"
   ]
  },
  {
   "cell_type": "markdown",
   "metadata": {},
   "source": [
    "One of the assumptions for doing an ANOVA F-test is that all groups have the same population standard deviation. We can check this assumption by calculating the sample standard deviation of each group and checking whether the largest is more than double the smallest. If the ratio between the largest and smallest sample standard deviations is more than two, then we conclude that the population standard deviations are too different for an ANOVA F-test to be valid. If this ratio is less than two, we are not able to say that the population standard deviations are different, so we assume that they are similar enough to carry out our analysis.\n",
    "\n",
    "We can compute the standard deviation of each group in R using the \"by()\" function. The \"by()\" function has three main inputs: \"data\", \"INDICES\" and \"FUN\". The \"data\" input tells R which values to work with. Note that, in the \"by()\" function, \"data\" is a list of values, not a data frame. The \"INDICES\" input tells R which group each value in \"data\" belongs to. The \"FUN\" input tells R what function to apply to each group.\n",
    "\n",
    "Let's use the \"by()\" function to calculate the sample standard deviation of startup costs for each of our five business types. We want to calculate the standard deviation of each group, so we should set the \"FUN\" input equal to \"sd\", the name of the R function that calculates standard deviations."
   ]
  },
  {
   "cell_type": "code",
   "execution_count": null,
   "metadata": {},
   "outputs": [],
   "source": [
    "by(data = data.bus$Cost, INDICES = data.bus$Type, FUN = sd)"
   ]
  },
  {
   "cell_type": "markdown",
   "metadata": {},
   "source": [
    "Note that the \"INDICES\" and \"FUN\" input names must both be capitalized.\n",
    "\n",
    "The largest sample standard deviation is 38.9 for baking, and the smallest sample standard deviation is 27.1 for pet supplies. It is pretty clear that 38.9 is less than double 27.1, but let's calculate their ratio anyway."
   ]
  },
  {
   "cell_type": "code",
   "execution_count": null,
   "metadata": {},
   "outputs": [],
   "source": [
    "38.9 / 27.1"
   ]
  },
  {
   "cell_type": "markdown",
   "metadata": {},
   "source": [
    "The ratio between our largest and smallest sample standard deviations is 1.4, which is less than two. Therefore, the assumption of equal population standard deviations across groups is sensible."
   ]
  }
 ],
 "metadata": {
  "kernelspec": {
   "display_name": "R",
   "language": "R",
   "name": "ir"
  },
  "language_info": {
   "codemirror_mode": "r",
   "file_extension": ".r",
   "mimetype": "text/x-r-source",
   "name": "R",
   "pygments_lexer": "r",
   "version": "3.3.2"
  }
 },
 "nbformat": 4,
 "nbformat_minor": 2
}
