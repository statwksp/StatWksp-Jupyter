{
 "cells": [
  {
   "cell_type": "markdown",
   "metadata": {},
   "source": [
    "# Module 1: Entering Data"
   ]
  },
  {
   "cell_type": "markdown",
   "metadata": {},
   "source": [
    "In this module, we look at how to input data to R both directly and with a file. We work with three different datasets, one on enrollment at SFU, one on weights of cereal boxes and one on brain size and intelligence."
   ]
  },
  {
   "cell_type": "markdown",
   "metadata": {},
   "source": [
    "## Entering Data Directly: SFU Enrollment"
   ]
  },
  {
   "cell_type": "markdown",
   "metadata": {},
   "source": [
    "We start with the SFU enrollment dataset. This dataset contains information about enrollment for each faculty at SFU in the 2015-2016 academic year. The two variables in this dataset are called \"faculty\" and \"students\". The \"faculty\" variable tells us the name of each faculty, and \"students\" tells us how many students are enrolled in each faculty (i.e. student count). Faculty is a categorical variable, while \"students\" is a numeric variable. The individuals (also called units) are students, and each student is from one of the faculties."
   ]
  },
  {
   "cell_type": "markdown",
   "metadata": {},
   "source": [
    "### Making Variables"
   ]
  },
  {
   "cell_type": "markdown",
   "metadata": {},
   "source": [
    "To enter data directly into R, we must first create variables. For simplicity's sake, we will create the two variables separately. The only restrictions on variable names are that they must start with a letter and cannot contain spaces. It is common in R to use a period in place of a space. \n",
    "\n",
    "For the SFU enrollment data, we need the variables \"faculty\" and \"students\". We could name these variables \"x1\" and \"IReallyHopeIPassThisCourse\", but it is good practice to name your variables something meaningful. Let's call them \"faculty.input\" and \"students.input\". \n",
    "\n",
    "We create a variable using the \"c()\" function. The format of this function is \"variable.name = c(obs1, obs2,...,obsN)\", where \"N\" is the number of values we have for that variable."
   ]
  },
  {
   "cell_type": "markdown",
   "metadata": {},
   "source": [
    "Important tips:  <br /> \n",
    "$\\bullet$ R is case-sensitive, so \"Faculty.input\" and \"faculty.input\" are distinct objects  <br /> \n",
    "$\\bullet$ In the \"c()\" function, the observations are separated by commas <br /> \n",
    "$\\bullet$ If the variabe values are words instead of numbers, we must enclose each value in double quotation marks (e.g., c(\"red\", \"blue\")) <br />\n",
    "$\\bullet$ The order of values in all of the variables must match"
   ]
  },
  {
   "cell_type": "markdown",
   "metadata": {},
   "source": [
    "We can now create these two variables. The R code for doing this is in the next cell. To run the R code, click on the next cell and press the \"run\" button (the run button looks like a play button. See the introduction document for more information)."
   ]
  },
  {
   "cell_type": "code",
   "execution_count": 1,
   "metadata": {
    "collapsed": true
   },
   "outputs": [],
   "source": [
    "faculty.input = c(\"ASci\", \"FASS\", \"Bus\", \"CAT\", \"Educ\", \"Env\", \"HSci\", \"Sci\", \"Other\")\n",
    "students.input = c(3557, 11516, 3791, 3008, 1425, 1027, 1412, 3824, 32)"
   ]
  },
  {
   "cell_type": "markdown",
   "metadata": {},
   "source": [
    "Notice that if we don't match the order of values in these two variables, then we might end up with 1027 students in Business and 3791 students in Environment.\n",
    "\n",
    "Also, notice that the values of faculty are entered in quotation marks. This tells R that they are strings (words, instead of names of variables). Anytime you want to enter strings into R, you have to put them in quotations. "
   ]
  },
  {
   "cell_type": "markdown",
   "metadata": {},
   "source": [
    "### Making a Data Frame"
   ]
  },
  {
   "cell_type": "markdown",
   "metadata": {},
   "source": [
    "The variables that we created in the last section, \"faculty.input\" and \"students.input\", are separate, unconnected objects. We now need to combine these variables into a single data set, connecting faculties to their student counts. \n",
    "\n",
    "In R, data sets are called data frames. A data frame is a single object that contains multiple variables. We make a data frame using the \"data.frame()\" function. \n",
    "\n",
    "Inside the brackets of \"data.frame()\", we set the name of each variable and tell R what we want that variable to equal. In this case, we want a variable called \"faculty\" that is equal to the list of values we called \"faculty.input\" and a variable called \"students\" that is equal to \"students.input\". \n",
    "\n",
    "Let's put this all together to make a data frame called \"data.faculty\" using the R code in the next cell. Remember, you run a cell by first clicking on it and then pressing the run button."
   ]
  },
  {
   "cell_type": "code",
   "execution_count": 2,
   "metadata": {
    "collapsed": true
   },
   "outputs": [],
   "source": [
    "data.faculty = data.frame(faculty = faculty.input, students = students.input)"
   ]
  },
  {
   "cell_type": "markdown",
   "metadata": {},
   "source": [
    "### Printing Variables and Data Frames"
   ]
  },
  {
   "cell_type": "markdown",
   "metadata": {},
   "source": [
    "We've now made two separate objects containing lists of values and combined them into a data frame called \"data.faculty\". We can see exactly what information is contained in this data frame using the \"print()\" function. Just put the name of the object you want to print inside the brackets.\n",
    "\n",
    "Let's use the \"print()\" function to examine both lists of values and our new data frame. We could include the three lines of R code all in one cell, but we instead use three separate cells so that it's clear what each line of code is printing. Run each of the following three cells to see how the \"print()\" function works."
   ]
  },
  {
   "cell_type": "code",
   "execution_count": 3,
   "metadata": {},
   "outputs": [
    {
     "name": "stdout",
     "output_type": "stream",
     "text": [
      "[1] \"ASci\"  \"FASS\"  \"Bus\"   \"CAT\"   \"Educ\"  \"Env\"   \"HSci\"  \"Sci\"   \"Other\"\n"
     ]
    }
   ],
   "source": [
    "print(faculty.input)"
   ]
  },
  {
   "cell_type": "code",
   "execution_count": 4,
   "metadata": {},
   "outputs": [
    {
     "name": "stdout",
     "output_type": "stream",
     "text": [
      "[1]  3557 11516  3791  3008  1425  1027  1412  3824    32\n"
     ]
    }
   ],
   "source": [
    "print(students.input)"
   ]
  },
  {
   "cell_type": "code",
   "execution_count": 5,
   "metadata": {},
   "outputs": [
    {
     "name": "stdout",
     "output_type": "stream",
     "text": [
      "  faculty students\n",
      "1    ASci     3557\n",
      "2    FASS    11516\n",
      "3     Bus     3791\n",
      "4     CAT     3008\n",
      "5    Educ     1425\n",
      "6     Env     1027\n",
      "7    HSci     1412\n",
      "8     Sci     3824\n",
      "9   Other       32\n"
     ]
    }
   ],
   "source": [
    "print(data.faculty)"
   ]
  },
  {
   "cell_type": "markdown",
   "metadata": {},
   "source": [
    "Notice that the rows in our dataset are numbered. This is just for convenience, and won't actually affect our analysis."
   ]
  },
  {
   "cell_type": "markdown",
   "metadata": {},
   "source": [
    "### Printing Variables Inside Data Frames"
   ]
  },
  {
   "cell_type": "markdown",
   "metadata": {},
   "source": [
    "Suppose that we want to print the values of a single variable from a data frame containing multiple variables. We do this using the \"\\$\". \n",
    "\n",
    "The general format for using \"\\$\" is \"my.data.frame\\$my.variable\". This gives us the values of \"my.variable\" from inside the data frame called \"my.data.frame\". \n",
    "\n",
    "The next cell shows R code that extracts the \"faculty\" variable out of the data frame \"data.faculty\", and prints that variable using the \"print()\" function."
   ]
  },
  {
   "cell_type": "code",
   "execution_count": 6,
   "metadata": {
    "scrolled": false
   },
   "outputs": [
    {
     "name": "stdout",
     "output_type": "stream",
     "text": [
      "[1] ASci  FASS  Bus   CAT   Educ  Env   HSci  Sci   Other\n",
      "Levels: ASci Bus CAT Educ Env FASS HSci Other Sci\n"
     ]
    }
   ],
   "source": [
    "print(data.faculty$faculty)"
   ]
  },
  {
   "cell_type": "markdown",
   "metadata": {},
   "source": [
    "We could have used a similar approach to print the \"students\" variable by writing \"students\" after the \"$\"."
   ]
  },
  {
   "cell_type": "markdown",
   "metadata": {},
   "source": [
    "## Importing Data From a File: CFSB"
   ]
  },
  {
   "cell_type": "markdown",
   "metadata": {},
   "source": [
    "The next dataset we will work with is for a cereal called Chocolate Frosted Sugar Bombs (CFSB for short). Boxes of CFSB are advertised as containing 20 oz. of cereal. In reality, each box differs slightly from this target. This dataset is a record of actual weights (in ounces) for 100 boxes of CFSB cereal. Weight is a numeric variable. The units are boxes of cereal.\n",
    "\n",
    "We tell R to read a dataset from a file using the \"read.csv()\" function. This function reads a \".csv\" file and automatically creates a data frame in R to store it. \n",
    "\n",
    "The \"read.csv()\" function has 1 main input called \"file\". The \"file\" input tells R the name of the file containing your dataset. Note that this file needs to be in the same folder as this Jupyter notebook. You can either navigate to the folder containing a notebook before uploading a dataset, or use the \"Move\" button (see the Introduction document).\n",
    "\n",
    "The \"read.csv\" function has an optional input called \"header\", which tells R whether the first row of your dataset file contains variable names or just another observation. If \"header\" is equal to \"TRUE\" (in all capitals), then the first row of your dataset is read as variable names. If \"header\" is equal to \"FALSE\" (also in all capitals), then the first row of your dataset is read as just another observation. To be certain we are reading data from a csv file correctly, we must always check the first row of the dataset and use the appropriate setting for \"header\".\n",
    "\n",
    "We use a comma to separate the two inputs for the \"read.csv()\" function. Whenever a function in R has multiple inputs, we always separate those inputs with commas.\n",
    "\n",
    "The default value of \"header\" in the \"read.csv()\" function is TRUE. Therefore, if the \"header\" option is not included, then R reads the first for of the dataset as variable names.\n",
    "\n",
    "Let's now read the CFSB dataset into R using the read.csv function. Remember that we can use any name we want for our new data frame as long as it starts with a letter and has no spaces. For clarity, we will call our new data frame \"data.cfsb\"."
   ]
  },
  {
   "cell_type": "code",
   "execution_count": 7,
   "metadata": {
    "collapsed": true
   },
   "outputs": [],
   "source": [
    "data.cfsb = read.csv(file=\"CFSB.csv\", header=TRUE)"
   ]
  },
  {
   "cell_type": "markdown",
   "metadata": {},
   "source": [
    "Instead of setting \"header=TRUE\", we could have just omitted the optional argument \"header\" because the default value is \"TRUE\".\n",
    "\n",
    "Let's print our new data frame using the \"print()\" function."
   ]
  },
  {
   "cell_type": "code",
   "execution_count": 8,
   "metadata": {},
   "outputs": [
    {
     "name": "stdout",
     "output_type": "stream",
     "text": [
      "    Weight\n",
      "1   20.440\n",
      "2   20.244\n",
      "3   20.549\n",
      "4   20.755\n",
      "5   20.740\n",
      "6   20.847\n",
      "7   20.063\n",
      "8   20.453\n",
      "9   20.719\n",
      "10  20.283\n",
      "11  20.362\n",
      "12  20.162\n",
      "13  20.131\n",
      "14  20.304\n",
      "15  20.345\n",
      "16  20.076\n",
      "17  20.386\n",
      "18  20.419\n",
      "19  20.527\n",
      "20  20.427\n",
      "21  20.435\n",
      "22  20.426\n",
      "23  20.769\n",
      "24  20.483\n",
      "25  20.463\n",
      "26  20.397\n",
      "27  20.894\n",
      "28  20.673\n",
      "29  20.975\n",
      "30  20.369\n",
      "31  20.832\n",
      "32  20.178\n",
      "33  20.608\n",
      "34  20.680\n",
      "35  20.884\n",
      "36  20.483\n",
      "37  20.395\n",
      "38  20.635\n",
      "39  20.424\n",
      "40  20.652\n",
      "41  20.211\n",
      "42  20.331\n",
      "43  20.196\n",
      "44  20.427\n",
      "45  20.494\n",
      "46  20.506\n",
      "47  20.435\n",
      "48  20.939\n",
      "49  20.152\n",
      "50  20.353\n",
      "51  19.984\n",
      "52  20.790\n",
      "53  20.244\n",
      "54  20.369\n",
      "55  20.652\n",
      "56  20.593\n",
      "57  20.675\n",
      "58  20.619\n",
      "59  20.226\n",
      "60  20.277\n",
      "61  20.639\n",
      "62  20.565\n",
      "63  20.312\n",
      "64  20.452\n",
      "65  20.526\n",
      "66  20.612\n",
      "67  20.528\n",
      "68  20.318\n",
      "69  20.877\n",
      "70  20.597\n",
      "71  20.514\n",
      "72  20.666\n",
      "73  20.672\n",
      "74  20.373\n",
      "75  20.315\n",
      "76  20.722\n",
      "77  20.260\n",
      "78  20.188\n",
      "79  20.642\n",
      "80  20.628\n",
      "81  20.941\n",
      "82  20.789\n",
      "83  20.761\n",
      "84  20.523\n",
      "85  20.500\n",
      "86  20.591\n",
      "87  20.495\n",
      "88  20.289\n",
      "89  20.145\n",
      "90  20.666\n",
      "91  20.589\n",
      "92  20.624\n",
      "93  20.543\n",
      "94  20.295\n",
      "95  20.748\n",
      "96  20.438\n",
      "97  20.332\n",
      "98  20.336\n",
      "99  20.414\n",
      "100 20.409\n"
     ]
    }
   ],
   "source": [
    "print(data.cfsb)"
   ]
  },
  {
   "cell_type": "markdown",
   "metadata": {},
   "source": [
    "It is a good idea to print a new dataset when you first read it into R to make sure that the variables were read in correctly. We should now have a dataset with a single variable called \"Weight\", and 100 observations for this variable.\n",
    "\n",
    "Especially with large datasets, it is often preferable to look at just the first few lines. The \"head()\" function prints just the first ten lines of a dataset."
   ]
  },
  {
   "cell_type": "code",
   "execution_count": 9,
   "metadata": {},
   "outputs": [
    {
     "data": {
      "text/html": [
       "<table>\n",
       "<thead><tr><th scope=col>Weight</th></tr></thead>\n",
       "<tbody>\n",
       "\t<tr><td>20.440</td></tr>\n",
       "\t<tr><td>20.244</td></tr>\n",
       "\t<tr><td>20.549</td></tr>\n",
       "\t<tr><td>20.755</td></tr>\n",
       "\t<tr><td>20.740</td></tr>\n",
       "\t<tr><td>20.847</td></tr>\n",
       "</tbody>\n",
       "</table>\n"
      ],
      "text/latex": [
       "\\begin{tabular}{r|l}\n",
       " Weight\\\\\n",
       "\\hline\n",
       "\t 20.440\\\\\n",
       "\t 20.244\\\\\n",
       "\t 20.549\\\\\n",
       "\t 20.755\\\\\n",
       "\t 20.740\\\\\n",
       "\t 20.847\\\\\n",
       "\\end{tabular}\n"
      ],
      "text/markdown": [
       "\n",
       "Weight | \n",
       "|---|---|---|---|---|---|\n",
       "| 20.440 | \n",
       "| 20.244 | \n",
       "| 20.549 | \n",
       "| 20.755 | \n",
       "| 20.740 | \n",
       "| 20.847 | \n",
       "\n",
       "\n"
      ],
      "text/plain": [
       "  Weight\n",
       "1 20.440\n",
       "2 20.244\n",
       "3 20.549\n",
       "4 20.755\n",
       "5 20.740\n",
       "6 20.847"
      ]
     },
     "metadata": {},
     "output_type": "display_data"
    }
   ],
   "source": [
    "head(data.cfsb)"
   ]
  },
  {
   "cell_type": "markdown",
   "metadata": {},
   "source": [
    "The \"head\" function formats our data a little differently than the print function, but it makes examining large datasets much more manageable."
   ]
  },
  {
   "cell_type": "markdown",
   "metadata": {},
   "source": [
    "Important Note: We use \".csv\" files instead of a more common Excel format (e.g., .xlsx) because they are the easiest to work with in R. The \".csv\" file type is used for storing lists of data, and \"csv\" stands for \"Comma Separated Value\". You can open \".csv\" files in either Jupyter or Excel, and Excel files can be saved in the \".csv\" format. \n",
    "\n",
    "Advanced Topic: The file containing your dataset does not actually need to be in the same folder as the Jupyter notebook that uses the file. If it is in a different folder, you need to specify the file path as part of the \"file\" input to the \"read.csv()\" function. E.g. \"file = \"Module_1/Datasets/my_data.csv\"\"."
   ]
  },
  {
   "cell_type": "markdown",
   "metadata": {
    "collapsed": true
   },
   "source": [
    "## Importing Data With No Variable Names: Brain Size"
   ]
  },
  {
   "cell_type": "markdown",
   "metadata": {},
   "source": [
    "Our next dataset comes from psychology, where the researchers want to identify whether the size of a person's brain is associated with their intelligence. The first variable in our dataset is the person's IQ. The second variable is the person's brain size, measured in number of pixels it takes up on an MRI scan. These are both quantitative variables. The individuals in this study are people.\n",
    "\n",
    "As in the last example, we import our new dataset to R using the \"read.csv()\" function. Unlike the CFSB dataset, the \"Brain_Size.csv\" file has no variable names. This means we need to set the \"header\" input to \"FALSE\" (in all capitals). We can then add variable names once we have read in the data.\n",
    "\n",
    "Let's start by reading the dataset into a data frame in R, and print out the first few observations to make sure it worked. We call this data frame \"data.brsi\" (for BRainSIze)."
   ]
  },
  {
   "cell_type": "code",
   "execution_count": 10,
   "metadata": {},
   "outputs": [
    {
     "data": {
      "text/html": [
       "<table>\n",
       "<thead><tr><th scope=col>V1</th><th scope=col>V2</th></tr></thead>\n",
       "<tbody>\n",
       "\t<tr><td>133    </td><td> 816932</td></tr>\n",
       "\t<tr><td>140    </td><td>1001121</td></tr>\n",
       "\t<tr><td>139    </td><td>1038437</td></tr>\n",
       "\t<tr><td>133    </td><td> 965353</td></tr>\n",
       "\t<tr><td>137    </td><td> 951545</td></tr>\n",
       "\t<tr><td> 99    </td><td> 928799</td></tr>\n",
       "</tbody>\n",
       "</table>\n"
      ],
      "text/latex": [
       "\\begin{tabular}{r|ll}\n",
       " V1 & V2\\\\\n",
       "\\hline\n",
       "\t 133     &  816932\\\\\n",
       "\t 140     & 1001121\\\\\n",
       "\t 139     & 1038437\\\\\n",
       "\t 133     &  965353\\\\\n",
       "\t 137     &  951545\\\\\n",
       "\t  99     &  928799\\\\\n",
       "\\end{tabular}\n"
      ],
      "text/markdown": [
       "\n",
       "V1 | V2 | \n",
       "|---|---|---|---|---|---|\n",
       "| 133     |  816932 | \n",
       "| 140     | 1001121 | \n",
       "| 139     | 1038437 | \n",
       "| 133     |  965353 | \n",
       "| 137     |  951545 | \n",
       "|  99     |  928799 | \n",
       "\n",
       "\n"
      ],
      "text/plain": [
       "  V1  V2     \n",
       "1 133  816932\n",
       "2 140 1001121\n",
       "3 139 1038437\n",
       "4 133  965353\n",
       "5 137  951545\n",
       "6  99  928799"
      ]
     },
     "metadata": {},
     "output_type": "display_data"
    }
   ],
   "source": [
    "data.brsi = read.csv(file = \"Brain_Size.csv\", header = FALSE)\n",
    "head(data.brsi)"
   ]
  },
  {
   "cell_type": "markdown",
   "metadata": {},
   "source": [
    "The default variable names chosen by R, \"V1\" and \"V2\", are not very informative. We can change them using the \"names()\" function. Let's first run the \"names\" function on our data frame. Notice that it gives us back the current variable names."
   ]
  },
  {
   "cell_type": "code",
   "execution_count": 11,
   "metadata": {},
   "outputs": [
    {
     "data": {
      "text/html": [
       "<ol class=list-inline>\n",
       "\t<li>'V1'</li>\n",
       "\t<li>'V2'</li>\n",
       "</ol>\n"
      ],
      "text/latex": [
       "\\begin{enumerate*}\n",
       "\\item 'V1'\n",
       "\\item 'V2'\n",
       "\\end{enumerate*}\n"
      ],
      "text/markdown": [
       "1. 'V1'\n",
       "2. 'V2'\n",
       "\n",
       "\n"
      ],
      "text/plain": [
       "[1] \"V1\" \"V2\""
      ]
     },
     "metadata": {},
     "output_type": "display_data"
    }
   ],
   "source": [
    "names(data.brsi)"
   ]
  },
  {
   "cell_type": "markdown",
   "metadata": {},
   "source": [
    "This can be helpful if you have a data frame with lots of variables and you want to check what they are all called. \n",
    "\n",
    "However, if we want to assign new variable names, the command we use looks like \"names(my.data) = c(\"var1\", \"var2\",...,\"varN\")\". In this example, \"my.data\" is a data frame with N variables, and \"var1\" to \"varN\" are new names for these variables.\n",
    "\n",
    "Let's give the variables in our \"data.brsi\" data frame more sensible names."
   ]
  },
  {
   "cell_type": "code",
   "execution_count": 12,
   "metadata": {
    "collapsed": true
   },
   "outputs": [],
   "source": [
    "names(data.brsi) = c(\"IQ\", \"Size\")"
   ]
  },
  {
   "cell_type": "markdown",
   "metadata": {},
   "source": [
    "Order matters here. The first name in our list is assigned to the first column of our data frame, and so on for the other names. We therefore have to make sure that we match the order of names to the order of variables in the data frame.\n",
    "\n",
    "Let's print out the first few observations to make sure that our variables now have the right names."
   ]
  },
  {
   "cell_type": "code",
   "execution_count": 13,
   "metadata": {},
   "outputs": [
    {
     "data": {
      "text/html": [
       "<table>\n",
       "<thead><tr><th scope=col>IQ</th><th scope=col>Size</th></tr></thead>\n",
       "<tbody>\n",
       "\t<tr><td>133    </td><td> 816932</td></tr>\n",
       "\t<tr><td>140    </td><td>1001121</td></tr>\n",
       "\t<tr><td>139    </td><td>1038437</td></tr>\n",
       "\t<tr><td>133    </td><td> 965353</td></tr>\n",
       "\t<tr><td>137    </td><td> 951545</td></tr>\n",
       "\t<tr><td> 99    </td><td> 928799</td></tr>\n",
       "</tbody>\n",
       "</table>\n"
      ],
      "text/latex": [
       "\\begin{tabular}{r|ll}\n",
       " IQ & Size\\\\\n",
       "\\hline\n",
       "\t 133     &  816932\\\\\n",
       "\t 140     & 1001121\\\\\n",
       "\t 139     & 1038437\\\\\n",
       "\t 133     &  965353\\\\\n",
       "\t 137     &  951545\\\\\n",
       "\t  99     &  928799\\\\\n",
       "\\end{tabular}\n"
      ],
      "text/markdown": [
       "\n",
       "IQ | Size | \n",
       "|---|---|---|---|---|---|\n",
       "| 133     |  816932 | \n",
       "| 140     | 1001121 | \n",
       "| 139     | 1038437 | \n",
       "| 133     |  965353 | \n",
       "| 137     |  951545 | \n",
       "|  99     |  928799 | \n",
       "\n",
       "\n"
      ],
      "text/plain": [
       "  IQ  Size   \n",
       "1 133  816932\n",
       "2 140 1001121\n",
       "3 139 1038437\n",
       "4 133  965353\n",
       "5 137  951545\n",
       "6  99  928799"
      ]
     },
     "metadata": {},
     "output_type": "display_data"
    }
   ],
   "source": [
    "head(data.brsi)"
   ]
  }
 ],
 "metadata": {
  "kernelspec": {
   "display_name": "R",
   "language": "R",
   "name": "ir"
  },
  "language_info": {
   "codemirror_mode": "r",
   "file_extension": ".r",
   "mimetype": "text/x-r-source",
   "name": "R",
   "pygments_lexer": "r",
   "version": "3.3.2"
  }
 },
 "nbformat": 4,
 "nbformat_minor": 1
}
