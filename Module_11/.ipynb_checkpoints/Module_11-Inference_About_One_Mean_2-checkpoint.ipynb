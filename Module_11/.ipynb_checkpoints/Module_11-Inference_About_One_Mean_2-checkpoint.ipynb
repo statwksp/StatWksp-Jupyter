{
 "cells": [
  {
   "cell_type": "markdown",
   "metadata": {},
   "source": [
    "# Module 11: Inference About a Population Mean II"
   ]
  },
  {
   "cell_type": "markdown",
   "metadata": {},
   "source": [
    "In this module, we look at how to do inference about the population mean when we do not know the population standard deviation. This setting leads to T-confidence intervals and T-tests."
   ]
  },
  {
   "cell_type": "markdown",
   "metadata": {},
   "source": [
    "## The T-Distribution and T-Confidence Intervals"
   ]
  },
  {
   "cell_type": "markdown",
   "metadata": {},
   "source": [
    "The T-confidence interval requires that we assume our data are normally distributed, but we do not need to know the standard deviation of this normal distribution. We instead estimate the population standard deviation with the sample standard deviation. Replacing the known standard deviation with an estimate changes the distribution of our procedure, so we have to use the critical value from a T-distribution instead of from a standard normal.\n",
    "\n",
    "The T-distribution has an extra number associated with it called the degrees of freedom. For all the inference in this module, the degrees of freedom for our T-distribution will be the sample size minus 1.\n",
    "\n",
    "We get the critical value from a T-distribution in R using the \"qt()\" function. This function behaves similarly to the \"qnorm()\" function from Module 5. The \"qt()\" function has two inputs: \"p\" and \"df\". The \"p\" input is a probability, and \"qt()\" gives us the point that has \"p\" probability below it. The \"df\" input is the degrees of freedom for our T-distribution.\n",
    "\n",
    "Remember that confidence intervals are of the form: estimate $\\pm$ critical value $*$ standard error. For T-confidence intervals, the estimate is $\\bar{x}$, the sample mean, the critical value is from a T-distribution with degrees of freedom equal to the sample size minus 1, and the standard error is $s/\\sqrt{n}$, the sample standard deviation divided by the square root of the sample size.\n",
    "\n",
    "Let's read-in the CFSB dataset and make a $95\\%$ T-confidence interval for the average weight of cereal boxes in the population. This means that we need to get the $97.5$th percentile of the T-distribution with 99 degrees of freedom (our dataset contains 100 observations). Remember that we read datasets into R using the \"read.csv()\" function. The first row of this file is the name of our variable, so we can set \"header=T\", or just omit \"header\"."
   ]
  },
  {
   "cell_type": "code",
   "execution_count": 1,
   "metadata": {},
   "outputs": [
    {
     "name": "stdout",
     "output_type": "stream",
     "text": [
      "[1] \"Lower Conficence Limit:\"\n",
      "[1] 20.44885\n",
      "[1] \"Upper Confidence Limit:\"\n",
      "[1] 20.53503\n"
     ]
    }
   ],
   "source": [
    "data = read.csv(\"CFSB.csv\")\n",
    "x.bar = mean(data$Weight) #Estimate\n",
    "s = sd(data$Weight) #Sample standard deviation\n",
    "T.crit = qt(p=0.975, df=99) #Critical value\n",
    "MOE = T.crit*s/sqrt(100) #Margin of error\n",
    "lcl = x.bar - MOE\n",
    "ucl = x.bar + MOE\n",
    "print(\"Lower Conficence Limit:\")\n",
    "print(lcl)\n",
    "print(\"Upper Confidence Limit:\")\n",
    "print(ucl)"
   ]
  },
  {
   "cell_type": "markdown",
   "metadata": {},
   "source": [
    "## T-Tests"
   ]
  },
  {
   "cell_type": "markdown",
   "metadata": {},
   "source": [
    "The T-test for the population mean assumes that our data are normally distributed, and that we do not know the population standard deviation. We start with a null and alternative hypothesis about the population mean and calculate a test statistic based on these hypotheses.\n",
    "\n",
    "The test statistic for the T-test is called the T-statistic. It uses the sample mean,  $\\bar{x}$ , as an estimate, and the true standard deviation of  $\\bar{x}$, $s/\\sqrt{n}$, in the denominator ($s$ is the sample standard deviation and $n$ is the sample size).\n",
    "\n",
    "We calculate a p-value based on the T-statistic using a T-distribution with $n-1$ degrees of freedom. If the p-value is less than the significance level of our test,  $\\alpha$ , we reject our null hypothesis in favor of the alternative hypothesis. If the p-value is greater than  $\\alpha$  then we do not reject the null hypothesis (note that 'not rejecting' the null is not the same as accepting it).\n",
    "\n",
    "We calculate probabilities for T-distributions in R using the \"pt()\" function. This function works similarly to the \"pnorm()\" function from Module 5. The \"pt()\" function has two inputs: \"q\" and \"df\". The \"q\" input is a point that we want to know the probability of being below, and \"df\" is the degrees of freedom. We can also include the \"lower.tail\" input if we want to get upper-tailed probabilities.\n",
    "\n",
    "Now let's move on to an example. Remember that the manufacturer of CFSB cereal says that each box contains 20 oz. Let's find out if they are under-filling the boxes. We will test the null hypothesis that the average box weight is 20 oz against the alternative that the average box weight is less than 20 oz. Then, if we reject the null hypothesis, we can conclude that the boxes are under-filled on average."
   ]
  },
  {
   "cell_type": "code",
   "execution_count": 2,
   "metadata": {},
   "outputs": [
    {
     "name": "stdout",
     "output_type": "stream",
     "text": [
      "[1] 1\n"
     ]
    }
   ],
   "source": [
    "x.bar = mean(data$Weight) #Estimate\n",
    "s = sd(data$Weight) #Sample standard deviation\n",
    "SE = s/sqrt(100) #Standard error\n",
    "T.stat = (x.bar - 20)/SE #T-Statistic\n",
    "p.value = pt(q=T.stat, df=99)\n",
    "print(p.value)"
   ]
  },
  {
   "cell_type": "markdown",
   "metadata": {},
   "source": [
    "We got a p-value of 1. This means that the probability of being below our observed T-statistic value is so close to 1 that R can't tell them apart. Further, this means that we do not have sufficient evidence to reject the null hypothesis, so we cannot conclude that the company is under-filling their cereal boxes."
   ]
  },
  {
   "cell_type": "markdown",
   "metadata": {},
   "source": [
    "## The t.test() Function"
   ]
  },
  {
   "cell_type": "markdown",
   "metadata": {},
   "source": [
    "The T-confidence interval and T-test are popular statistical tools. So popular in fact, that there is an R function that calculates them for us. The \"t.test()\" function calculates a confidence interval and a p-value automatically. This saves you from having to do the calculations, but it does mean that you have to provide several inputs to tell the function what to calculate. \n",
    "\n",
    "The first input is \"x\": our data. The second input is \"alternative\": this tells R whether your alternative is two-sided or one-sided and which direction it is in. The \"alternative\" input must be set to \"two.sided\", \"less\" or \"greater\". The next input is \"mu\": the value of the population mean in the null hypothesis. The last input that we will talk about in this module is \"conf.level\": the level of your confidence interval as a probability (i.e. between 0 and 1). \n",
    "\n",
    "Many of these inputs have default values, so you only really need to specify the ones you are interested in. The default for \"alternative\" is \"two.sided\". The default for \"mu\" is 0. The default for \"conf.level\" is 0.95. \n",
    "\n",
    "Let's use the \"t.test()\" function to calculate the confidence interval and p-value that we got in the above sections."
   ]
  },
  {
   "cell_type": "code",
   "execution_count": 3,
   "metadata": {},
   "outputs": [
    {
     "data": {
      "text/plain": [
       "\n",
       "\tOne Sample t-test\n",
       "\n",
       "data:  data$Weight\n",
       "t = 22.654, df = 99, p-value = 1\n",
       "alternative hypothesis: true mean is less than 20\n",
       "95 percent confidence interval:\n",
       "   -Inf 20.528\n",
       "sample estimates:\n",
       "mean of x \n",
       " 20.49194 \n"
      ]
     },
     "metadata": {},
     "output_type": "display_data"
    }
   ],
   "source": [
    "t.test(x=data$Weight, alternative=\"less\", mu=20, conf.level=0.95)"
   ]
  },
  {
   "cell_type": "markdown",
   "metadata": {
    "collapsed": true
   },
   "source": [
    "Notice that this confidence interval doesn't look the way we're used to. It is actually a one-sided 'confidence bound' for the population mean. In R, \"Inf\" means infinity, so this confidence bound goes from negative infinity to 20.528. If we want a regular confidence interval, we need to set \"alternative\" to \"two.sided\".\n",
    "\n",
    "Let's get a 90$\\%$ confidence interval for the population mean."
   ]
  },
  {
   "cell_type": "code",
   "execution_count": 4,
   "metadata": {},
   "outputs": [
    {
     "data": {
      "text/plain": [
       "\n",
       "\tOne Sample t-test\n",
       "\n",
       "data:  data$Weight\n",
       "t = 943.67, df = 99, p-value < 2.2e-16\n",
       "alternative hypothesis: true mean is not equal to 0\n",
       "90 percent confidence interval:\n",
       " 20.45588 20.52800\n",
       "sample estimates:\n",
       "mean of x \n",
       " 20.49194 \n"
      ]
     },
     "metadata": {},
     "output_type": "display_data"
    }
   ],
   "source": [
    "t.test(x=data$Weight, conf.level=0.90)"
   ]
  },
  {
   "cell_type": "markdown",
   "metadata": {},
   "source": [
    "Our confidence interval is $[20.45588, 20.52800]$. We omit the \"mu\" input because it has no effect on the confidence interval."
   ]
  },
  {
   "cell_type": "markdown",
   "metadata": {},
   "source": [
    "## Matched Pairs Experiments"
   ]
  },
  {
   "cell_type": "markdown",
   "metadata": {},
   "source": [
    "Suppose that we have data from a matched pairs experiment. That is, our sample is divided up into pairs, where one individual from each pair is assigned treatment A, and the second individual from each pair is assigned treatment B. We can test whether the mean response under treatment A is different from the mean response under treatment B using a matched pairs T-test.\n",
    "\n",
    "Fortunately, the matched pairs T-test is exactly the same as the one-sample T-test that we have done throughout this module. We start by taking the difference between the response under treatment A and the response under treatment B in each pair. We then test the null hypothesis that the average difference is equal to zero.\n",
    "\n",
    "We can use the \"t.test()\" function to carry out matched pairs T-tests in R. To do this, we must use two new inputs: \"y and \"paired\". The \"x\" and \"y inputs are the two samples in our experiment. The \"paired\" input is set to \"TRUE\" if our data are from a matched pairs experiment. The default value of \"paired\" is \"FALSE\", so if we do not include this input then unpaired procedures are used.\n",
    "\n",
    "Let's test the null hypothesis of no difference between two groups with responses given in the following code cell. For this test, we will use the significance level $\\alpha=0.1$. Our null hypothesis says that the mean difference is zero. This is the default value for \"mu\", so we can just omit it."
   ]
  },
  {
   "cell_type": "code",
   "execution_count": 5,
   "metadata": {},
   "outputs": [
    {
     "data": {
      "text/plain": [
       "\n",
       "\tPaired t-test\n",
       "\n",
       "data:  trt.A and trt.B\n",
       "t = -4.1793, df = 9, p-value = 0.002379\n",
       "alternative hypothesis: true difference in means is not equal to 0\n",
       "95 percent confidence interval:\n",
       " -2.5014956 -0.7445044\n",
       "sample estimates:\n",
       "mean of the differences \n",
       "                 -1.623 \n"
      ]
     },
     "metadata": {},
     "output_type": "display_data"
    }
   ],
   "source": [
    "trt.A = c(2.45, 2.33, 1.95, 2.95, 2.18, 0.61, 1.81, 2.52, 0.62, 1.89)\n",
    "trt.B = c(2.38, 5.11, 4.46, 2.89, 4.28, 3.93, 4.07, 3.02, 2.74, 2.66)\n",
    "t.test(x=trt.A, y=trt.B, paired=TRUE)"
   ]
  },
  {
   "cell_type": "markdown",
   "metadata": {},
   "source": [
    "This test gives a p-value of 0.002379, which is less than 0.1. Therefore, we can reject our null hypothesis and conclude that there is a difference in average response between treatments A and B.\n",
    "\n",
    "Note that, when working with matched pairs data, the order that your data come in is very important. The first observation from group 1 is matched with the first observation of group 2 and so on. This means that if we shuffle our observations we will no longer be able to perform a matched pairs T-test."
   ]
  }
 ],
 "metadata": {
  "kernelspec": {
   "display_name": "R",
   "language": "R",
   "name": "ir"
  },
  "language_info": {
   "codemirror_mode": "r",
   "file_extension": ".r",
   "mimetype": "text/x-r-source",
   "name": "R",
   "pygments_lexer": "r",
   "version": "3.3.2"
  }
 },
 "nbformat": 4,
 "nbformat_minor": 1
}
