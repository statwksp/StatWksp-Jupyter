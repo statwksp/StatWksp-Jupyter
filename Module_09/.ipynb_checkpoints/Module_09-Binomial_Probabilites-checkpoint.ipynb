{
 "cells": [
  {
   "cell_type": "markdown",
   "metadata": {},
   "source": [
    "# Module 9: Binomial Probabilities"
   ]
  },
  {
   "cell_type": "markdown",
   "metadata": {},
   "source": [
    "In this module, we look at how to calculate single and cumulative probabilities for the binomial distribution. The binomial distribution measures the probability of getting some number of successes on a fixed number of independent trials with fixed probability of success on each trial."
   ]
  },
  {
   "cell_type": "markdown",
   "metadata": {},
   "source": [
    "## Single Probabilities"
   ]
  },
  {
   "cell_type": "markdown",
   "metadata": {},
   "source": [
    "In this section, we discuss how to find the probability that a binomial random variable takes a specific value. In R, we find this probability using the function \"dbinom()\".\n",
    "\n",
    "The \"dbinom()\" function has three inputs: \"x\", \"size\" and \"prob\". The \"x\" input is the desired number of successes. The \"size\" and \"prob\" inputs are the number of trials and probability of success respectively.\n",
    "\n",
    "Suppose a gambler has a coin weighted so that the probability of getting heads on one flip is 0.4 rather than the usual 0.5. Let's find the probability of getting six heads when we flip this coin ten times."
   ]
  },
  {
   "cell_type": "code",
   "execution_count": null,
   "metadata": {},
   "outputs": [],
   "source": [
    "dbinom(x=6, size=10, prob=0.4)"
   ]
  },
  {
   "cell_type": "markdown",
   "metadata": {},
   "source": [
    "## Cumulative Probabilities"
   ]
  },
  {
   "cell_type": "markdown",
   "metadata": {},
   "source": [
    "The answer we got in the last section wouldn't be too hard to get using the formula for binomial probabilities and a calculator, but what if we wanted the probability of getting at most five heads? Or if we instead flipped the coin 100 times and wanted the probability of getting at most 50 heads? These 'cumulative' binomial probabilities are much harder to calculate by hand. Fortunately, the \"pbinom()\" function in R calculates cumulative binomial probabilities for us.\n",
    "\n",
    "The \"pbinom()\" function has three main inputs: \"q\", \"size\" and \"prob\". The \"q\" input is the maximum number of successes. The \"size\" and \"prob\" inputs are, as above, the number of trials and probability of success respectively.\n",
    "\n",
    "Let's use the same weighted coin as in our last example. Remember that it shows heads with probability 0.4. This time however, we flip the coin 100 times and we want to find the probability of getting at most 50 heads."
   ]
  },
  {
   "cell_type": "code",
   "execution_count": null,
   "metadata": {},
   "outputs": [],
   "source": [
    "pbinom(q=50, size=100, prob=0.4)"
   ]
  },
  {
   "cell_type": "markdown",
   "metadata": {},
   "source": [
    "The \"pbinom()\" function also has an optional input: \"lower.tail\". If \"lower.tail\" is set to \"TRUE\" then \"pbinom()\" gives the probability of being at most \"q\". If \"lower.tail\" is set to \"FALSE\" then \"pbinom()\" gives the probability of being greater than \"q\". The default value of \"lower.tail\" is \"TRUE\", so if we do not specify a value, \"pbinom()\" will automatically use \"lower.tail=TRUE\".\n",
    "\n",
    "Let's find the probability of getting more than 50 heads when we flip our weighted coin 100 times."
   ]
  },
  {
   "cell_type": "code",
   "execution_count": null,
   "metadata": {},
   "outputs": [],
   "source": [
    "pbinom(q=50, size=100, prob=0.4, lower.tail=FALSE)"
   ]
  },
  {
   "cell_type": "markdown",
   "metadata": {},
   "source": [
    "Note that the answers from \"pbinom()\" with \"lower.tail\" set to \"TRUE\" and with \"lower.tail\" set tp \"FALSE\" will always add to 1."
   ]
  },
  {
   "cell_type": "markdown",
   "metadata": {},
   "source": [
    "## Normal Approximation"
   ]
  },
  {
   "cell_type": "markdown",
   "metadata": {},
   "source": [
    "If we have enough trials in a binomial experiment and the probability of success is not too close to one or zero, then we can approximate binomial probabilities with the normal distribution. Remember that we calculate normal probabilities in R using the \"pnorm()\" function. See Module 5 for a more thorough explanation of normal probabilities and the \"pnorm()\" function.\n",
    "\n",
    "In order to approximate the binomial distribution with a normal distribution, we need the mean and standard deviation. Fortunately, these are known. The mean of a binomial distribution is $n*p$, where $n$ is the number of trials and $p$ is the probability of success, and the standard deviation is $\\sqrt{n*p*(1-p)}$.\n",
    "\n",
    "As long as $np>10$ and $n(1-p)>10$, the normal is a good approximation to the binomial.\n",
    "\n",
    "Let's approximate the probability of getting at most 50 heads out of 100 flips of our weighted coin. First we calculate the mean and standard deviation of the corresponding normal distribution. Then we use the \"pnorm()\" function to compute the normal approximation. For reference, we will also calculate the exact probability using \"pbinom()\"."
   ]
  },
  {
   "cell_type": "code",
   "execution_count": null,
   "metadata": {},
   "outputs": [],
   "source": [
    "n = 100\n",
    "p = 0.4\n",
    "mu = n*p #Calculate the population mean\n",
    "sigma = sqrt(n*p*(1-p)) #Calculate the population standard deviation\n",
    "print(\"Normal Approximation:\")\n",
    "pnorm(q=50, mean=mu, sd=sigma)\n",
    "print(\"Exact Probability:\")\n",
    "pbinom(q=50, size=100, prob=0.4)"
   ]
  }
 ],
 "metadata": {
  "kernelspec": {
   "display_name": "R",
   "language": "R",
   "name": "ir"
  },
  "language_info": {
   "codemirror_mode": "r",
   "file_extension": ".r",
   "mimetype": "text/x-r-source",
   "name": "R",
   "pygments_lexer": "r",
   "version": "3.3.2"
  }
 },
 "nbformat": 4,
 "nbformat_minor": 1
}
