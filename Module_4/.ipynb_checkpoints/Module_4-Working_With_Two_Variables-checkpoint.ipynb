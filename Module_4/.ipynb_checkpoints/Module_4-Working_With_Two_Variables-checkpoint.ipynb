{
 "cells": [
  {
   "cell_type": "markdown",
   "metadata": {},
   "source": [
    "# Module 4: Working With Two Variables"
   ]
  },
  {
   "cell_type": "markdown",
   "metadata": {},
   "source": [
    "In this module, we look at how to create plots and calculate summary statistics that are based on two variables. The material in this module depends heavily on the last three, so make sure you have worked through Modules 1-3 before doing this one."
   ]
  },
  {
   "cell_type": "markdown",
   "metadata": {},
   "source": [
    "## Entering Data Review: Brain Size Dataset"
   ]
  },
  {
   "cell_type": "markdown",
   "metadata": {},
   "source": [
    "In this module, we will work with the brain size data. We only review how to import this dataset to R, so refer back to Module 1 for a more thorough explanation.\n",
    "\n",
    "We use the \"read.csv()\" function to import the brain size dataset to R. The file containing our dataset however does not contain variable names. This means we have to set \"header=FALSE\" in the \"read.csv()\" function. Let's call our data frame \"data.brsi\"."
   ]
  },
  {
   "cell_type": "code",
   "execution_count": null,
   "metadata": {
    "collapsed": true
   },
   "outputs": [],
   "source": [
    "data.brsi = read.csv(file = \"Brain_Size.csv\", header = FALSE)"
   ]
  },
  {
   "cell_type": "markdown",
   "metadata": {},
   "source": [
    "Next, we use the \"names()\" function to set the variable names in \"data.brsi\"."
   ]
  },
  {
   "cell_type": "code",
   "execution_count": null,
   "metadata": {
    "collapsed": true
   },
   "outputs": [],
   "source": [
    "names(data.brsi) = c(\"IQ\", \"Size\")"
   ]
  },
  {
   "cell_type": "markdown",
   "metadata": {},
   "source": [
    "Now we can use the \"head()\" function to check that our dataset was read in correctly."
   ]
  },
  {
   "cell_type": "code",
   "execution_count": null,
   "metadata": {
    "collapsed": true
   },
   "outputs": [],
   "source": [
    "head(data.brsi)"
   ]
  },
  {
   "cell_type": "markdown",
   "metadata": {},
   "source": [
    "## Scatterplots"
   ]
  },
  {
   "cell_type": "markdown",
   "metadata": {},
   "source": [
    "The brain size dataset has two variables. We can plot histograms for each of these variables individually. Recall that we use \"hist\" to make histograms and \"$\" to access variables inside data frames."
   ]
  },
  {
   "cell_type": "code",
   "execution_count": null,
   "metadata": {
    "collapsed": true
   },
   "outputs": [],
   "source": [
    "hist(x = data.brsi$IQ, main = \"Histogram of IQ\", xlab = \"IQ\", ylab = \"Number of People\")\n",
    "hist(x = data.brsi$Size, main = \"Histogram of Brain Size\", xlab = \"Size (Number of Pixels)\", ylab = \"Number of People\")"
   ]
  },
  {
   "cell_type": "markdown",
   "metadata": {},
   "source": [
    "Remember that the \"main\", \"xlab\" and \"ylab\" inputs allow us to specify the title, x-axis label and y-axis label respectively. Refer back to Module 2 for a more detailed explanation of these and the \"hist()\" function.\n",
    "\n",
    "Notice that the IQ variable appears to be split into two groups. This is because the researchers selected people who had an IQ either above 129 or below 104.\n",
    "\n",
    "These histograms tell us a lot about IQ and brain size separately, but we want to understand their relationship. For that, we need a scatterplot, which are made in R using the \"plot()\" function.\n",
    "\n",
    "The \"plot()\" function has two main inputs: \"x\" and \"y\". The \"x\" input is the values for variable on the x-axis, and \"y\" is the values for the y-axis. We can also include the usual optional inputs for plots: \"main\", \"xlab\" and \"ylab\".\n",
    "\n",
    "Let's make a scatterplot now with brain size on the x-axis and IQ on the y-axis."
   ]
  },
  {
   "cell_type": "code",
   "execution_count": null,
   "metadata": {
    "collapsed": true
   },
   "outputs": [],
   "source": [
    "plot(x = data.brsi$Size, y = data.brsi$IQ, main = \"Scatterplot of IQ vs Brain Size\",\n",
    "    xlab = \"Brain Size (Number of Pixels)\", ylab = \"IQ\")"
   ]
  },
  {
   "cell_type": "markdown",
   "metadata": {},
   "source": [
    "Notice that our data are divided into two groups. This matches what we saw in the histogram of IQ."
   ]
  },
  {
   "cell_type": "markdown",
   "metadata": {},
   "source": [
    "## Two-Variable Summary Statistics"
   ]
  },
  {
   "cell_type": "markdown",
   "metadata": {},
   "source": [
    "When we have two variables, we can calculate summary statistics for each of them individually. Remember that we get an individual variable out of a data frame using \"$\". Let's print out summary statistics for both IQ and brain size. We can use the print function to add some text that makes our output easier to read."
   ]
  },
  {
   "cell_type": "code",
   "execution_count": null,
   "metadata": {
    "collapsed": true
   },
   "outputs": [],
   "source": [
    "print(\"Summary of IQ:\")\n",
    "summary(data.brsi$IQ)\n",
    "print(\"Summary of Brain Size:\")\n",
    "summary(data.brsi$Size)\n",
    "print(\"Standard Deviation of IQ:\")\n",
    "sd(data.brsi$IQ)\n",
    "print(\"Standard Deviation of Brain Size:\")\n",
    "sd(data.brsi$Size)"
   ]
  },
  {
   "cell_type": "markdown",
   "metadata": {},
   "source": [
    "Refer back to Module 3 for a detailed description of the \"summary()\" and \"sd()\" functions, as well as the quantities that they compute."
   ]
  },
  {
   "cell_type": "markdown",
   "metadata": {},
   "source": [
    "Summary statistics tell us a lot about the distribution of IQ and brain size individually, but we might also want to study the relationship between these two variables. A useful summary statistic for measuring the relationship between two variables is correlation. Correlation only measures linear relationships, so a low value for correlation does not necessarily mean that the two variables are independent.\n",
    "\n",
    "We calculate correlation in R using the \"cor()\" function. The \"cor()\" function has two inputs: \"x\" and \"y\". These are the two variables that we want to calculate the correlation for.\n",
    "\n",
    "Let's calculate the correlation between IQ and brain size."
   ]
  },
  {
   "cell_type": "code",
   "execution_count": null,
   "metadata": {
    "collapsed": true
   },
   "outputs": [],
   "source": [
    "cor(x = data.brsi$IQ, y = data.brsi$Size)"
   ]
  },
  {
   "cell_type": "markdown",
   "metadata": {},
   "source": [
    "This correlation is quite low, which is consistent with the scatterplot we made in Module 2 where these variables did not appear linearly related. It is important to examine both numerical and graphical summaries of a dataset before making any conclusions."
   ]
  }
 ],
 "metadata": {
  "kernelspec": {
   "display_name": "R",
   "language": "R",
   "name": "ir"
  },
  "language_info": {
   "codemirror_mode": "r",
   "file_extension": ".r",
   "mimetype": "text/x-r-source",
   "name": "R",
   "pygments_lexer": "r",
   "version": "3.3.1"
  }
 },
 "nbformat": 4,
 "nbformat_minor": 1
}
