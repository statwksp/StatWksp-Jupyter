{
 "cells": [
  {
   "cell_type": "markdown",
   "metadata": {},
   "source": [
    "# Introduction"
   ]
  },
  {
   "cell_type": "markdown",
   "metadata": {},
   "source": [
    "In this document, we discuss the basics of working with R using Jupyter, "
   ]
  },
  {
   "cell_type": "markdown",
   "metadata": {},
   "source": [
    "## Getting Started"
   ]
  },
  {
   "cell_type": "markdown",
   "metadata": {},
   "source": [
    "Jupyter is a platform that allows you to include text and R code in the same document. To open Jupyter, go to this website: https://sfu.syzygy.ca/, and login using your SFU id and password. Now click on “Start my Server” and wait for it to finish (see Figure 1). "
   ]
  },
  {
   "cell_type": "markdown",
   "metadata": {},
   "source": [
    "<!-- ***** If you can see this, re-run this cell ***** -->\n",
    "<img src=\"../Introduction/Startup_Screen.png\",width=1000>\n",
    "<p style=\"text-align: center;\">  Figure 1: First contact with Jupyter </p>"
   ]
  },
  {
   "cell_type": "markdown",
   "metadata": {},
   "source": [
    "The page you are on now is called your home screen. This is where you will upload files, and open files you want to work on. The home screen should look like Figure 2, but without the folders labeled Datasets, Introduction, etc."
   ]
  },
  {
   "cell_type": "markdown",
   "metadata": {},
   "source": [
    "<!-- ***** If you can see this, re-run this cell ***** -->\n",
    "<img src=\"../Introduction/Blank_Screenshot.png\",width=1000>\n",
    "<p style=\"text-align: center;\">  Figure 2: Home Screen </p>"
   ]
  },
  {
   "cell_type": "markdown",
   "metadata": {},
   "source": [
    "You can upload a file by pressing the upload button."
   ]
  },
  {
   "cell_type": "markdown",
   "metadata": {},
   "source": [
    "<!-- ***** If you can see this, re-run this cell ***** -->\n",
    "<img src=\"../Introduction/Upload_Button.png\",width=1000>\n",
    "<p style=\"text-align: center;\">  Figure 3: Upload Button </p>"
   ]
  },
  {
   "cell_type": "markdown",
   "metadata": {},
   "source": [
    "Next, you select the file that you want to upload and click \"Open\". This is just a regular interface for your operating system. No pictures here.\n",
    "\n",
    "Once you've selected the file you want to upload, you will end up back on your home screen, but now the files you selected will show up. All that's left to do is click on the blue \"Upload\" button for each file. See Figure 4."
   ]
  },
  {
   "cell_type": "markdown",
   "metadata": {},
   "source": [
    "<!-- ***** If you can see this, re-run this cell ***** -->\n",
    "<img src=\"../Introduction/Uploading.png\",width=1000>\n",
    "<p style=\"text-align: center;\">  Figure 4: Finishing Uploading </p>"
   ]
  },
  {
   "cell_type": "markdown",
   "metadata": {},
   "source": [
    "You can make folders in Jupyter to help keep your files organized. Click on the \"New\" button beside \"Upload\", and select folder."
   ]
  },
  {
   "cell_type": "markdown",
   "metadata": {},
   "source": [
    "<!-- ***** If you can see this, re-run this cell ***** -->\n",
    "<img src=\"../Introduction/New_Folder.png\",width=1000>\n",
    "<p style=\"text-align: center;\">  Figure 5: Making a New Folder </p>"
   ]
  },
  {
   "cell_type": "markdown",
   "metadata": {},
   "source": [
    "Try making a new folder now. You will probably notice that Jupyter does not give you the option to name your folder. It just creates a new folder called \"Untitled Folder\". This is not a very informative name, so let's rename it to something else. \n",
    "\n",
    "To rename a folder, or anything else for that matter, in Jupyter, first select that folder by clicking the little box next to its name. Next, click the \"Rename\" button near the top of the screen."
   ]
  },
  {
   "cell_type": "markdown",
   "metadata": {},
   "source": [
    "<!-- ***** If you can see this, re-run this cell ***** -->\n",
    "<img src=\"../Introduction/Renaming.png\",width=1000>\n",
    "<p style=\"text-align: center;\">  Figure 6: Renaming a Folder </p>"
   ]
  },
  {
   "cell_type": "markdown",
   "metadata": {},
   "source": [
    "When you hit the \"Rename\" button, a box should pop-up where you can enter a new name for your folder. You can also rename files in this way, but make sure that you don't change the file extension (the part after the period at the end of the file's name)."
   ]
  },
  {
   "cell_type": "markdown",
   "metadata": {},
   "source": [
    "## Some notes on using Jupyter"
   ]
  },
  {
   "cell_type": "markdown",
   "metadata": {},
   "source": [
    "As you may have already guessed, Jupyter files are called notebooks. Each block of text or code in Jupyter is called a “cell”. Cells can either be for text or for R code (but not for both). Cells that contain text are called “markdown” cells (markdown is the name for the way your computer converts what you type to what you see), and cells that contain code are called code cells. To add a new cell to your notebook, click on the toolbar button that looks like a +. This creates a code cell. If you want a markdown (text) cell instead, click on your code cell and select “markdown” from the toolbar menu that currently says “code”. To edit a cell, double click on it. \n",
    "\n",
    "To save your Jupyter notebook, click on the save button in the toolbar. Once you’re done with a notebook, select “Close and halt” under file in the toolbar. If you forget to do this and just close the tab that your notebook was open in, your homescreen will say that the notebook you just closed is still running. To stop the file, select it (click on the little box beside it) and hit the the “Shutdown” button in the toolbar.\n",
    "\n",
    "You may have noticed that your assignment files have underscores instead of spaces in their names. This is because Jupyter converts each space to a “+” in the title of notebook when you download it as a PDF. Keep this in mind when naming new files, and don’t be surprised if Jupyter re-names them without asking you. You now know everything you need to get started on Module 1. This module shows you multiple ways to input data to R, and how to make many of the basic types of plots."
   ]
  }
 ],
 "metadata": {
  "kernelspec": {
   "display_name": "R",
   "language": "R",
   "name": "ir"
  },
  "language_info": {
   "codemirror_mode": "r",
   "file_extension": ".r",
   "mimetype": "text/x-r-source",
   "name": "R",
   "pygments_lexer": "r",
   "version": "3.3.1"
  }
 },
 "nbformat": 4,
 "nbformat_minor": 1
}
