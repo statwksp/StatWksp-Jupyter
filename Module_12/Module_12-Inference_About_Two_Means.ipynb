{
 "cells": [
  {
   "cell_type": "markdown",
   "metadata": {},
   "source": [
    "# Module 12: Inference About Two Population Means"
   ]
  },
  {
   "cell_type": "markdown",
   "metadata": {},
   "source": [
    "In this module, we discuss how to test whether two populations have the same mean. We expand upon the matched pairs T-test from Module 11 to allow for independent samples from the two populations. We also show how to find a confidence interval for the difference between these two populations' means."
   ]
  },
  {
   "cell_type": "markdown",
   "metadata": {},
   "source": [
    "The null hypothesis that we will be testing in this module is that the means of our two populations are the same. An equivalent way to say this is that the difference between the two population means is zero. The alternatives that we consider are that the difference between these two means is less than zero, greater than zero or not equal to zero. \n",
    "\n",
    "Saying that the difference is less than zero depends on the order of the means when we subtract them. Therefore, we have to be careful when specifying the order of our means in R functions to make sure that our alternative hypothesis is saying what we think it is.\n",
    "\n",
    "The first T-test that we look at in this module is simply called the two-sample T-test. This test does not require that our data come in pairs, making it applicable in many more situations than the matched pairs T-test from Module 11. The two-sample T-test also makes no assumptions about the variances of our two populations. That is, we allow the populations' variances to be different. \n",
    "\n",
    "We carry out the two-sample T-test in R using the \"t.test()\" function. We will use many of the same inputs that we discussed in Module 11, so check back there for more details. In particular, we use \"x\", \"y\", \"alternative\" and \"conf.level\". We are now working with unpaired data, so we could set \"paired\" to \"FALSE\". The default value of \"paired\" is \"FALSE\" however, so we can just omit this input.\n",
    "\n",
    "The following code cell has independent samples from two different populations. Let's use a two-sample T-test to test the null hypothesis that these populations have the same mean versus the alternative hypothesis that their means are dbifferent. "
   ]
  },
  {
   "cell_type": "code",
   "execution_count": 1,
   "metadata": {
    "collapsed": false
   },
   "outputs": [
    {
     "data": {
      "text/plain": [
       "\n",
       "\tWelch Two Sample t-test\n",
       "\n",
       "data:  x1 and x2\n",
       "t = -1.4604, df = 14.27, p-value = 0.1658\n",
       "alternative hypothesis: true difference in means is not equal to 0\n",
       "95 percent confidence interval:\n",
       " -1.3908133  0.2628133\n",
       "sample estimates:\n",
       "mean of x mean of y \n",
       "    1.130     1.694 \n"
      ]
     },
     "metadata": {},
     "output_type": "display_data"
    }
   ],
   "source": [
    "x1 = c(0.98, 1.32, 1.33, 0.47, 0.23, 1.90, 0.71, 0.70, 1.80, 1.86)\n",
    "x2 = c(0.33, 0.63, 2.60, 1.42, 0.20, 1.45, 2.88, 2.97, 1.81, 2.65)\n",
    "t.test(x=x1, y=x2)"
   ]
  },
  {
   "cell_type": "markdown",
   "metadata": {},
   "source": [
    "The p-value from this test is 0.1658, so we cannot conclude that the means of these groups are different.\n",
    "\n",
    "We were able to omit the \"alternative\" input because our alternative hypothesis is two-sided, the default value.\n",
    "\n",
    "The following code cell has independent samples from two new populations. Let's test the null hypothesis that their means are equal against the alternative hypothesis that the mean of the first population is larger. We will also get a $99\\%$ confidence interval for the difference between the populations' means."
   ]
  },
  {
   "cell_type": "code",
   "execution_count": 2,
   "metadata": {
    "collapsed": false
   },
   "outputs": [
    {
     "data": {
      "text/plain": [
       "\n",
       "\tWelch Two Sample t-test\n",
       "\n",
       "data:  x1 and x2\n",
       "t = 2.2532, df = 7.3563, p-value = 0.02856\n",
       "alternative hypothesis: true difference in means is greater than 0\n",
       "95 percent confidence interval:\n",
       " 0.8546567       Inf\n",
       "sample estimates:\n",
       "mean of x mean of y \n",
       " 104.5714   99.4000 \n"
      ]
     },
     "metadata": {},
     "output_type": "display_data"
    },
    {
     "data": {
      "text/plain": [
       "\n",
       "\tWelch Two Sample t-test\n",
       "\n",
       "data:  x1 and x2\n",
       "t = 2.2532, df = 7.3563, p-value = 0.05712\n",
       "alternative hypothesis: true difference in means is not equal to 0\n",
       "99 percent confidence interval:\n",
       " -2.729444 13.072301\n",
       "sample estimates:\n",
       "mean of x mean of y \n",
       " 104.5714   99.4000 \n"
      ]
     },
     "metadata": {},
     "output_type": "display_data"
    }
   ],
   "source": [
    "x1 = c(106, 103, 114, 95, 102, 107, 105)\n",
    "x2 = c(99, 102, 100, 98, 98)\n",
    "t.test(x=x1, y=x2, alternative=\"greater\")\n",
    "t.test(x=x1, y=x2, conf.level=0.99)"
   ]
  },
  {
   "cell_type": "markdown",
   "metadata": {},
   "source": [
    "Notice that we ran the \"t.test()\" function twice. The first time, with \"alternative=\"greater\"\", tests the appropriate hypotheses. The second time, with \"conf.leve=0.99\", gives the correct confidence interval. We cannot get all the information that we want for this question from a single run of the \"t.test()\" function.\n",
    "\n",
    "The p-value from our test is 0.02856, so we reject our null hypothesis and conclude that the mean of population one is larger than the mean of population two. Our $99\\%$ confidence interval for the difference between these two means is $(-2.729444, 13.072301)$. This confidence interval does contain our null hypothesis difference of zero, but the confidence interval is at a higher significance level than our hypothesis test (the hypothesis test would not have rejected our null hypothesis at $\\alpha=0.01$).\n",
    "\n",
    "We had to be careful when specifying the direction of our alternative hypothesis. The difference is always calculated as the mean of population one minus the mean of population two. That is, the mean of the population corresponding to \"x\" minus the mean of the population corresponding to \"y\". "
   ]
  }
 ],
 "metadata": {
  "kernelspec": {
   "display_name": "R",
   "language": "R",
   "name": "ir"
  },
  "language_info": {
   "codemirror_mode": "r",
   "file_extension": ".r",
   "mimetype": "text/x-r-source",
   "name": "R",
   "pygments_lexer": "r",
   "version": "3.3.1"
  }
 },
 "nbformat": 4,
 "nbformat_minor": 1
}
