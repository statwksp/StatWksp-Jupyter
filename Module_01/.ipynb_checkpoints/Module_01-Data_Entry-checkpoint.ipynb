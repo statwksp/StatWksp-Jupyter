{
 "cells": [
  {
   "cell_type": "markdown",
   "metadata": {},
   "source": [
    "# Module 1: Entering Data"
   ]
  },
  {
   "cell_type": "markdown",
   "metadata": {},
   "source": [
    "In this module, we look at how to input data to R both directly and with a file. We work with three different datasets, one on enrollment at SFU, one on weights of cereal boxes and one on brain size and intelligence."
   ]
  },
  {
   "cell_type": "markdown",
   "metadata": {},
   "source": [
    "## Entering Data Directly: SFU Enrollment"
   ]
  },
  {
   "cell_type": "markdown",
   "metadata": {},
   "source": [
    "We start with the SFU enrollment dataset. This dataset contains information about enrollment for each faculty at SFU in the 2015-2016 academic year. The two variables in this dataset are called \"faculty\" and \"students\". The \"faculty\" variable tells us the name of each faculty, and \"students\" tells us how many students are enrolled in each faculty (i.e. student count). Faculty is a categorical variable, while \"students\" is a numeric variable. The individuals (also called units) are students, and each student is from one of the faculties."
   ]
  },
  {
   "cell_type": "markdown",
   "metadata": {},
   "source": [
    "### Making Variables"
   ]
  },
  {
   "cell_type": "markdown",
   "metadata": {},
   "source": [
    "To enter data directly into R, we must first create variables. For simplicity's sake, we will create the two variables separately. The only restrictions on variable names are that they must start with a letter and cannot contain spaces. It is common in R to use a period in place of a space. \n",
    "\n",
    "For the SFU enrollment data, we need the variables \"faculty\" and \"students\". We could name these variables \"x1\" and \"IReallyHopeIPassThisCourse\", but it is good practice to name your variables something meaningful. Let's call them \"faculty.input\" and \"students.input\". \n",
    "\n",
    "We create a variable using the \"c()\" function. The format of this function is \"variable.name = c(obs1, obs2,...,obsN)\", where \"N\" is the number of values we have for that variable."
   ]
  },
  {
   "cell_type": "markdown",
   "metadata": {},
   "source": [
    "Important tips:  <br /> \n",
    "$\\bullet$ R is case-sensitive, so \"Faculty.input\" and \"faculty.input\" are distinct objects  <br /> \n",
    "$\\bullet$ In the \"c()\" function, the observations are separated by commas <br /> \n",
    "$\\bullet$ If the variabe values are words instead of numbers, we must enclose each value in double quotation marks (e.g., c(\"red\", \"blue\")) <br />\n",
    "$\\bullet$ The order of values in all of the variables must match"
   ]
  },
  {
   "cell_type": "markdown",
   "metadata": {},
   "source": [
    "We can now create these two variables. The R code for doing this is in the next cell. To run the R code, click on the next cell and press the \"run\" button (the run button looks like a play button. See the introduction document for more information)."
   ]
  },
  {
   "cell_type": "code",
   "execution_count": null,
   "metadata": {
    "collapsed": true
   },
   "outputs": [],
   "source": [
    "faculty.input = c(\"ASci\", \"FASS\", \"Bus\", \"CAT\", \"Educ\", \"Env\", \"HSci\", \"Sci\", \"Other\")\n",
    "students.input = c(3557, 11516, 3791, 3008, 1425, 1027, 1412, 3824, 32)"
   ]
  },
  {
   "cell_type": "markdown",
   "metadata": {},
   "source": [
    "Notice that if we don't match the order of values in these two variables, then we might end up with 1027 students in Business and 3791 students in Environment.\n",
    "\n",
    "Also, notice that the values of faculty are entered in quotation marks. This tells R that they are strings (words, instead of names of variables). Anytime you want to enter strings into R, you have to put them in quotations. "
   ]
  },
  {
   "cell_type": "markdown",
   "metadata": {},
   "source": [
    "### Making a Data Frame"
   ]
  },
  {
   "cell_type": "markdown",
   "metadata": {},
   "source": [
    "The variables that we created in the last section, \"faculty.input\" and \"students.input\", are separate, unconnected objects. We now need to combine these variables into a single data set, connecting faculties to their student counts. \n",
    "\n",
    "In R, data sets are called data frames. A data frame is a single object that contains multiple variables. We make a data frame using the \"data.frame()\" function. \n",
    "\n",
    "Inside the brackets of \"data.frame()\", we set the name of each variable and tell R what we want that variable to equal. In this case, we want a variable called \"faculty\" that is equal to the list of values we called \"faculty.input\" and a variable called \"students\" that is equal to \"students.input\". \n",
    "\n",
    "Let's put this all together to make a data frame called \"data.faculty\" using the R code in the next cell. Remember, you run a cell by first clicking on it and then pressing the run button."
   ]
  },
  {
   "cell_type": "code",
   "execution_count": null,
   "metadata": {
    "collapsed": true
   },
   "outputs": [],
   "source": [
    "data.faculty = data.frame(faculty = faculty.input, students = students.input)"
   ]
  },
  {
   "cell_type": "markdown",
   "metadata": {},
   "source": [
    "### Printing Variables and Data Frames"
   ]
  },
  {
   "cell_type": "markdown",
   "metadata": {},
   "source": [
    "We've now made two separate objects containing lists of values and combined them into a data frame called \"data.faculty\". We can see exactly what information is contained in this data frame using the \"print()\" function. Just put the name of the object you want to print inside the brackets.\n",
    "\n",
    "Let's use the \"print()\" function to examine both lists of values and our new data frame. We could include the three lines of R code all in one cell, but we instead use three separate cells so that it's clear what each line of code is printing. Run each of the following three cells to see how the \"print()\" function works."
   ]
  },
  {
   "cell_type": "code",
   "execution_count": null,
   "metadata": {
    "collapsed": true
   },
   "outputs": [],
   "source": [
    "print(faculty.input)"
   ]
  },
  {
   "cell_type": "code",
   "execution_count": null,
   "metadata": {
    "collapsed": true
   },
   "outputs": [],
   "source": [
    "print(students.input)"
   ]
  },
  {
   "cell_type": "code",
   "execution_count": null,
   "metadata": {
    "collapsed": true
   },
   "outputs": [],
   "source": [
    "print(data.faculty)"
   ]
  },
  {
   "cell_type": "markdown",
   "metadata": {},
   "source": [
    "Notice that the rows in our dataset are numbered. This is just for convenience, and won't actually affect our analysis."
   ]
  },
  {
   "cell_type": "markdown",
   "metadata": {},
   "source": [
    "### Printing Variables Inside Data Frames"
   ]
  },
  {
   "cell_type": "markdown",
   "metadata": {},
   "source": [
    "Suppose that we want to print the values of a single variable from a data frame containing multiple variables. We do this using the \"\\$\". \n",
    "\n",
    "The general format for using \"\\$\" is \"my.data.frame\\$my.variable\". This gives us the values of \"my.variable\" from inside the data frame called \"my.data.frame\". \n",
    "\n",
    "The next cell shows R code that extracts the \"faculty\" variable out of the data frame \"data.faculty\", and prints that variable using the \"print()\" function."
   ]
  },
  {
   "cell_type": "code",
   "execution_count": null,
   "metadata": {
    "collapsed": true,
    "scrolled": false
   },
   "outputs": [],
   "source": [
    "print(data.faculty$faculty)"
   ]
  },
  {
   "cell_type": "markdown",
   "metadata": {},
   "source": [
    "We could have used a similar approach to print the \"students\" variable by writing \"students\" after the \"$\"."
   ]
  },
  {
   "cell_type": "markdown",
   "metadata": {},
   "source": [
    "## Importing Data From a File: CFSB"
   ]
  },
  {
   "cell_type": "markdown",
   "metadata": {},
   "source": [
    "The next dataset we will work with is for a cereal called Chocolate Frosted Sugar Bombs (CFSB for short). Boxes of CFSB are advertised as containing 20 oz. of cereal. In reality, each box differs slightly from this target. This dataset is a record of actual weights (in ounces) for 100 boxes of CFSB cereal. Weight is a numeric variable. The units are boxes of cereal.\n",
    "\n",
    "We tell R to read a dataset from a file using the \"read.csv()\" function. This function reads a \".csv\" file and automatically creates a data frame in R to store it. \n",
    "\n",
    "The \"read.csv()\" function has 1 main input called \"file\". The \"file\" input tells R the name of the file containing your dataset. Note that this file needs to be in the same folder as this Jupyter notebook. You can either navigate to the folder containing a notebook before uploading a dataset, or use the \"Move\" button (see the Introduction document).\n",
    "\n",
    "The \"read.csv\" function has an optional input called \"header\", which tells R whether the first row of your dataset file contains variable names or just another observation. If \"header\" is equal to \"TRUE\" (in all capitals), then the first row of your dataset is read as variable names. If \"header\" is equal to \"FALSE\" (also in all capitals), then the first row of your dataset is read as just another observation. To be certain we are reading data from a csv file correctly, we must always check the first row of the dataset and use the appropriate setting for \"header\".\n",
    "\n",
    "We use a comma to separate the two inputs for the \"read.csv()\" function. Whenever a function in R has multiple inputs, we always separate those inputs with commas.\n",
    "\n",
    "The default value of \"header\" in the \"read.csv()\" function is TRUE. Therefore, if the \"header\" option is not included, then R reads the first for of the dataset as variable names.\n",
    "\n",
    "Let's now read the CFSB dataset into R using the read.csv function. Remember that we can use any name we want for our new data frame as long as it starts with a letter and has no spaces. For clarity, we will call our new data frame \"data.cfsb\"."
   ]
  },
  {
   "cell_type": "code",
   "execution_count": null,
   "metadata": {
    "collapsed": true
   },
   "outputs": [],
   "source": [
    "data.cfsb = read.csv(file=\"CFSB.csv\", header=TRUE)"
   ]
  },
  {
   "cell_type": "markdown",
   "metadata": {},
   "source": [
    "Instead of setting \"header=TRUE\", we could have just omitted the optional argument \"header\" because the default value is \"TRUE\".\n",
    "\n",
    "Let's print our new data frame using the \"print()\" function."
   ]
  },
  {
   "cell_type": "code",
   "execution_count": null,
   "metadata": {
    "collapsed": true
   },
   "outputs": [],
   "source": [
    "print(data.cfsb)"
   ]
  },
  {
   "cell_type": "markdown",
   "metadata": {},
   "source": [
    "It is a good idea to print a new dataset when you first read it into R to make sure that the variables were read in correctly. We should now have a dataset with a single variable called \"Weight\", and 100 observations for this variable.\n",
    "\n",
    "Especially with large datasets, it is often preferable to look at just the first few lines. The \"head()\" function prints just the first ten lines of a dataset."
   ]
  },
  {
   "cell_type": "code",
   "execution_count": null,
   "metadata": {
    "collapsed": true
   },
   "outputs": [],
   "source": [
    "head(data.cfsb)"
   ]
  },
  {
   "cell_type": "markdown",
   "metadata": {},
   "source": [
    "The \"head\" function formats our data a little differently than the print function, but it makes examining large datasets much more manageable."
   ]
  },
  {
   "cell_type": "markdown",
   "metadata": {},
   "source": [
    "Important Note: The \".csv\" file type is used for storing lists of data, and \"csv\" stands for \"Comma Separated Value\". We use \".csv\" files instead of more common Excel formats (e.g. \".xlsx\") because they are the easiest to work with in R. A file can be converted to \".csv\" format by first opening the file in Excel, then using \"Save As\" and selecting \"CSV (comma delimited)\" from the drop-down menu of file types. You can open \".csv\" files in either Jupyter or Excel.\n",
    "\n",
    "You can also work with \".txt\" files in Jupyter using the \"read.table()\" function. The \"read.table()\" function has only 2 important differences from the \"read.csv()\" function. First, \"read.table()\" reads in text files with the \".txt\" format, so entries in your file have to be separated by spaces instead of commas. The second difference is that the default value of \"header\" is \"FALSE\" in the \"read.table()\" function, so we have to specify \"header=TRUE\".\n",
    "\n",
    "Advanced Topic: The file containing your dataset does not actually need to be in the same folder as the Jupyter notebook that uses the file. If it is in a different folder, you need to specify the file path as part of the \"file\" input to the \"read.csv()\" function. E.g. \"file = \"Module_01/Datasets/my_data.csv\"\"."
   ]
  },
  {
   "cell_type": "markdown",
   "metadata": {
    "collapsed": true
   },
   "source": [
    "## Importing Data With No Variable Names: Brain Size"
   ]
  },
  {
   "cell_type": "markdown",
   "metadata": {},
   "source": [
    "Our next dataset comes from psychology, where the researchers want to identify whether the size of a person's brain is associated with their intelligence. The first variable in our dataset is the person's IQ. The second variable is the person's brain size, measured in number of pixels it takes up on an MRI scan. Both variables in this dataset are quantitative. The individuals in this study are people.\n",
    "\n",
    "As in the last example, we import our new dataset to R using the \"read.csv()\" function. Unlike the CFSB dataset, the \"Brain_Size.csv\" file has no variable names. This means we need to set the \"header\" input to \"FALSE\" (in all capitals). We can then add variable names once we have read in the data.\n",
    "\n",
    "Let's start by reading the dataset into a data frame in R, and print out the first few observations to make sure it worked. We call this data frame \"data.brsi\" (for BRainSIze)."
   ]
  },
  {
   "cell_type": "code",
   "execution_count": null,
   "metadata": {
    "collapsed": true
   },
   "outputs": [],
   "source": [
    "data.brsi = read.csv(file = \"Brain_Size.csv\", header = FALSE)\n",
    "head(data.brsi)"
   ]
  },
  {
   "cell_type": "markdown",
   "metadata": {},
   "source": [
    "The default variable names chosen by R, \"V1\" and \"V2\", are not very informative. We can change them using the \"names()\" function. Let's first run the \"names\" function on our data frame. Notice that it gives us back the current variable names."
   ]
  },
  {
   "cell_type": "code",
   "execution_count": null,
   "metadata": {
    "collapsed": true
   },
   "outputs": [],
   "source": [
    "names(data.brsi)"
   ]
  },
  {
   "cell_type": "markdown",
   "metadata": {},
   "source": [
    "This can be helpful if you have a data frame with lots of variables and you want to check what they are all called. \n",
    "\n",
    "However, if we want to assign new variable names, the command we use looks like \"names(my.data) = c(\"var1\", \"var2\",...,\"varN\")\". In this example, \"my.data\" is a data frame with N variables, and \"var1\" to \"varN\" are new names for these variables.\n",
    "\n",
    "Let's give the variables in our \"data.brsi\" data frame more sensible names."
   ]
  },
  {
   "cell_type": "code",
   "execution_count": null,
   "metadata": {
    "collapsed": true
   },
   "outputs": [],
   "source": [
    "names(data.brsi) = c(\"IQ\", \"Size\")"
   ]
  },
  {
   "cell_type": "markdown",
   "metadata": {},
   "source": [
    "Order matters here. The first name in our list is assigned to the first column of our data frame, and so on for the other names. We therefore have to make sure that we match the order of names to the order of variables in the data frame.\n",
    "\n",
    "Let's print out the first few observations to make sure that our variables now have the right names."
   ]
  },
  {
   "cell_type": "code",
   "execution_count": null,
   "metadata": {
    "collapsed": true,
    "scrolled": true
   },
   "outputs": [],
   "source": [
    "head(data.brsi)"
   ]
  },
  {
   "cell_type": "markdown",
   "metadata": {},
   "source": [
    "## The \"?\" Function"
   ]
  },
  {
   "cell_type": "markdown",
   "metadata": {},
   "source": [
    "There are a lot of functions in R, and it can be hard for anyone to remember what they all do. Fortunately, there's an easy way to get help with any function in R: the \"?\". If you type \"?\" before the name of a function then run that cell, Jupyter will open the help file for your function.\n",
    "\n",
    "Let's look at the help file for the \"names()\" function."
   ]
  },
  {
   "cell_type": "code",
   "execution_count": null,
   "metadata": {
    "collapsed": true
   },
   "outputs": [],
   "source": [
    "?names"
   ]
  },
  {
   "cell_type": "markdown",
   "metadata": {},
   "source": [
    "A new page should pop-up that describes your function and what it does. You can scroll through this new page for more information. The example code at the bottom is particularly useful. Once you're finished, click the little \"x\" in the top-right corner to close the pop-up and get back to your notebook.\n",
    "\n",
    "These help files take a little practice to get good at reading, but they can be an excellent resource when you're stuck or can't remember how to use a function."
   ]
  }
 ],
 "metadata": {
  "kernelspec": {
   "display_name": "R",
   "language": "R",
   "name": "ir"
  },
  "language_info": {
   "codemirror_mode": "r",
   "file_extension": ".r",
   "mimetype": "text/x-r-source",
   "name": "R",
   "pygments_lexer": "r",
   "version": "3.3.2"
  }
 },
 "nbformat": 4,
 "nbformat_minor": 1
}
